{
 "cells": [
  {
   "cell_type": "markdown",
   "metadata": {},
   "source": [
    "# Graph processing using GraphFrames\n",
    "\n",
    "In this notebook you will construct a graph from answers and users datasets and use GraphFrames library to run some algorithms on it."
   ]
  },
  {
   "cell_type": "code",
   "execution_count": null,
   "metadata": {},
   "outputs": [],
   "source": [
    "from pyspark.sql import SparkSession, Window\n",
    "from pyspark.sql.functions import col, desc, count, greatest, least\n",
    "\n",
    "import networkx as nx\n",
    "import matplotlib.pyplot as plt\n",
    "\n",
    "import os\n",
    "from IPython.display import Image\n",
    "from sklearn.preprocessing import LabelEncoder"
   ]
  },
  {
   "cell_type": "code",
   "execution_count": null,
   "metadata": {},
   "outputs": [],
   "source": [
    "spark = (\n",
    "    SparkSession\n",
    "    .builder\n",
    "    .appName('Graph processing')\n",
    "    .config('spark.jars.packages', 'graphframes:graphframes:0.8.4-spark3.5-s_2.12')\n",
    "    .getOrCreate()\n",
    ")"
   ]
  },
  {
   "cell_type": "code",
   "execution_count": null,
   "metadata": {},
   "outputs": [],
   "source": [
    "from graphframes import *"
   ]
  },
  {
   "cell_type": "code",
   "execution_count": null,
   "metadata": {},
   "outputs": [],
   "source": [
    "base_path = os.getcwd()\n",
    "\n",
    "project_path = ('/').join(base_path.split('/')[0:-3]) \n",
    "\n",
    "answers_input_path = os.path.join(project_path, 'data/answers')\n",
    "\n",
    "users_input_path = os.path.join(project_path, 'data/users')\n",
    "\n",
    "image_path = os.path.join(project_path, 'data/images/graphframes.png')"
   ]
  },
  {
   "cell_type": "markdown",
   "metadata": {},
   "source": [
    "# Task\n",
    "\n",
    "Create a graph from users and answers. The users will be represented as nodes in the graph and two users will be connected by edge if they answered the same question (see the image bellow).\n",
    "\n",
    "On the Graph run the following algorithms:\n",
    "* [Label Propagation](https://en.wikipedia.org/wiki/Label_propagation_algorithm) to find some communities / clusters of users\n",
    "* [PageRank](https://en.wikipedia.org/wiki/PageRank) to find important nodes in the graph \n",
    "\n",
    "Note\n",
    "* consider taking only [sample](https://spark.apache.org/docs/latest/api/python/reference/pyspark.sql/api/pyspark.sql.DataFrame.sampleBy.html#pyspark.sql.DataFrame.sampleBy) of answers to reduce the size of the graph if you run in local mode\n",
    "* also check the user guide for [GrahpFrames](https://graphframes.github.io/graphframes/docs/_site/user-guide.html)"
   ]
  },
  {
   "cell_type": "code",
   "execution_count": null,
   "metadata": {},
   "outputs": [],
   "source": [
    "Image(image_path, width=480)"
   ]
  },
  {
   "cell_type": "code",
   "execution_count": null,
   "metadata": {},
   "outputs": [],
   "source": [
    "# answers is the main dataset used for the graph\n",
    "\n",
    "answersDF = (\n",
    "    spark\n",
    "    .read\n",
    "    .option('path', answers_input_path)\n",
    "    .load()\n",
    ").sample(0.5, False, 24).cache()"
   ]
  },
  {
   "cell_type": "markdown",
   "metadata": {},
   "source": [
    "#### Create vertices:\n",
    "\n",
    "Hint:\n",
    "* select user_id\n",
    "* deduplicate\n",
    "* rename the col to id"
   ]
  },
  {
   "cell_type": "code",
   "execution_count": null,
   "metadata": {},
   "outputs": [],
   "source": [
    "# your code here:\n",
    "\n"
   ]
  },
  {
   "cell_type": "markdown",
   "metadata": {},
   "source": [
    "#### Create edges:\n",
    "\n",
    "Hint:\n",
    "* do self-join of answers on `question_id` column\n",
    "* filter out records where user_id from left side is the same as from right side\n",
    "* rename `user_id` cols as `src` / `dst`\n",
    "\n",
    "Example:\n",
    "* when we do a self-join of the following data (one question answered by two users `a` and `b`):\\\n",
    "question_id  user_id \\\n",
    "1 &nbsp;&nbsp;&nbsp;&nbsp;a\\\n",
    "1 &nbsp;&nbsp;&nbsp;&nbsp;b\n",
    "* we will get: \\\n",
    "a &nbsp;&nbsp; 1 &nbsp;&nbsp;a \\\n",
    "a &nbsp;&nbsp; 1 &nbsp;&nbsp;b \\\n",
    "b &nbsp;&nbsp; 1 &nbsp;&nbsp;a \\\n",
    "b &nbsp;&nbsp; 1 &nbsp;&nbsp;b\n",
    "* we need to remove where the node is joined with itself, `a-1-a` and `b-1-b`\n",
    "* we also need to remove the duplicated rows created by the join: `a-1-b` is the same as `b-1-a`\n",
    "* also for now keep each edge only once, so if we have `a-1-a` and `b-1-b` it is the same edge and we will keep only one of them (you could compute weight for such edges that could be useful for some algorithms, but let's skip it for now) "
   ]
  },
  {
   "cell_type": "code",
   "execution_count": null,
   "metadata": {},
   "outputs": [],
   "source": [
    "# your code here:\n",
    "\n"
   ]
  },
  {
   "cell_type": "code",
   "execution_count": null,
   "metadata": {},
   "outputs": [],
   "source": [
    "edgesDF.show(n=5)"
   ]
  },
  {
   "cell_type": "markdown",
   "metadata": {},
   "source": [
    "#### Create the graph:\n",
    "\n",
    "Hint:\n",
    "* use GraphFrame(vertices, edges) "
   ]
  },
  {
   "cell_type": "code",
   "execution_count": null,
   "metadata": {},
   "outputs": [],
   "source": [
    "# your code here:\n",
    "\n"
   ]
  },
  {
   "cell_type": "markdown",
   "metadata": {},
   "source": [
    "#### See some properties of the graph:\n",
    "\n",
    "Hint:\n",
    "* count number of edges\n",
    "* count number of vertices"
   ]
  },
  {
   "cell_type": "code",
   "execution_count": null,
   "metadata": {},
   "outputs": [],
   "source": [
    "# your code here:\n",
    "\n"
   ]
  },
  {
   "cell_type": "markdown",
   "metadata": {},
   "source": [
    "#### Find communities\n",
    "\n",
    "Hint:\n",
    "* use [labelPropagation](https://graphframes.github.io/graphframes/docs/_site/api/python/graphframes.html#graphframes.GraphFrame.labelPropagation)\n",
    "* see how many users are in each community\n",
    " * group by `label` and count\n",
    "* see what users are in a given community\n",
    " * filter on `label` col"
   ]
  },
  {
   "cell_type": "code",
   "execution_count": null,
   "metadata": {},
   "outputs": [],
   "source": [
    "# your code here:\n",
    "\n"
   ]
  },
  {
   "cell_type": "markdown",
   "metadata": {},
   "source": [
    "#### Compute PageRank\n",
    "\n",
    "* use [pageRank](https://graphframes.github.io/graphframes/docs/_site/api/python/graphframes.html#graphframes.GraphFrame.pageRank) method\n",
    "* order the vertices by pagerank"
   ]
  },
  {
   "cell_type": "code",
   "execution_count": null,
   "metadata": {},
   "outputs": [],
   "source": [
    "# your code here:\n",
    "\n"
   ]
  },
  {
   "cell_type": "markdown",
   "metadata": {},
   "source": [
    "### Let's visualize some of the communities\n",
    "\n",
    "We will filter for communities of the size 30 which will give us a small sample of the data convenient for the visualisation. We will convert the sample to Pandas dataframe and use the `networkx` library to plot it.\n",
    "\n",
    "Notice that not all members of the same community need to be connected. You may also want to check [connectedComponents](https://graphframes.io/docs/_site/api/python/graphframes.html#graphframes.GraphFrame.connectedComponents) algorithm to discover subgraphs where all nodes are connected."
   ]
  },
  {
   "cell_type": "code",
   "execution_count": null,
   "metadata": {},
   "outputs": [],
   "source": [
    "sampled_users = (\n",
    "    communities\n",
    "    .withColumn('n', count('*').over(Window().partitionBy('label')))\n",
    "    .filter(col('n') == 30)\n",
    "    .select('id', 'label')\n",
    ")\n",
    "\n",
    "sampled_edges = (\n",
    "    usersGraph.edges\n",
    "    .join(sampled_users.select(col('id').alias('src')), 'src')\n",
    "    .join(sampled_users.select(col('id').alias('dst')), 'dst')\n",
    ")\n",
    "\n",
    "vertices_with_labels = sampled_users.toPandas()\n",
    "edges = sampled_edges.toPandas()"
   ]
  },
  {
   "cell_type": "code",
   "execution_count": null,
   "metadata": {},
   "outputs": [],
   "source": [
    "G = nx.Graph()\n",
    "for _, row in vertices_with_labels.iterrows():\n",
    "    G.add_node(row['id'], label=row['label'])\n",
    "\n",
    "for _, row in edges.iterrows():\n",
    "    G.add_edge(row['src'], row['dst'])\n",
    "\n",
    "node_labels = nx.get_node_attributes(G, 'label')\n",
    "\n",
    "print('Removing isolated nodes:', len(list(nx.isolates(G))))\n",
    "G.remove_nodes_from(list(nx.isolates(G)))\n",
    "\n",
    "# Encode community labels to color indices\n",
    "label_encoder = LabelEncoder()\n",
    "encoded_labels = label_encoder.fit_transform(list(node_labels.values()))\n",
    "\n",
    "# Map encoded colors back to the nodes (maintain same order as G.nodes)\n",
    "node_colors = [encoded_labels[list(node_labels.keys()).index(node)] for node in G.nodes()]"
   ]
  },
  {
   "cell_type": "code",
   "execution_count": null,
   "metadata": {},
   "outputs": [],
   "source": [
    "# Draw\n",
    "pos = nx.spring_layout(G, seed=12, k=0.9, iterations=200)\n",
    "\n",
    "plt.figure(figsize=(9, 6))\n",
    "nx.draw(G, pos, node_color=node_colors, cmap=plt.cm.Set3, with_labels=False, node_size=50)\n",
    "plt.title('Label Propagation Clusters')\n",
    "plt.show()"
   ]
  },
  {
   "cell_type": "markdown",
   "metadata": {},
   "source": [
    "### Let's visualize the user with the highes pagerank"
   ]
  },
  {
   "cell_type": "code",
   "execution_count": null,
   "metadata": {},
   "outputs": [],
   "source": [
    "top_user_row = pr.vertices.orderBy(col('pagerank').desc()).limit(1).collect()[0]\n",
    "top_user_id = top_user_row['id']\n",
    "top_user_pagerank = top_user_row['pagerank']\n",
    "\n",
    "# Get all edges where this user is involved (as src or dst)\n",
    "connected_edges = pr.edges.filter((col('src') == top_user_id) | (col('dst') == top_user_id))\n",
    "\n",
    "# Get all connected user IDs\n",
    "connected_user_ids_df = (\n",
    "    connected_edges.select('src')\n",
    "    .union(connected_edges.select('dst'))\n",
    "    .distinct()\n",
    "    .withColumnRenamed('src', 'id')\n",
    ")\n",
    "visual_users = pr.vertices.join(connected_user_ids_df, 'id')\n",
    "\n",
    "# Collect to Pandas\n",
    "nodes_pd = visual_users.toPandas()\n",
    "edges_pd = connected_edges.toPandas()"
   ]
  },
  {
   "cell_type": "code",
   "execution_count": null,
   "metadata": {},
   "outputs": [],
   "source": [
    "# Build graph\n",
    "G = nx.Graph()\n",
    "\n",
    "# Create a dict for fast lookup\n",
    "pagerank_dict = {int(row['id']): row['pagerank'] for _, row in nodes_pd.iterrows()}\n",
    "\n",
    "# Add nodes with pagerank (if available)\n",
    "for node_id in pagerank_dict:\n",
    "    G.add_node(node_id, pagerank=pagerank_dict[node_id])\n",
    "\n",
    "# Add edges only if both src and dst are in pagerank_dict\n",
    "for _, row in edges_pd.iterrows():\n",
    "    if row['src'] in pagerank_dict and row['dst'] in pagerank_dict:\n",
    "        G.add_edge(row['src'], row['dst'])\n",
    "\n",
    "# Color and size based on pagerank\n",
    "node_colors = []\n",
    "node_sizes = []\n",
    "for node in G.nodes():\n",
    "    if node == top_user_id:\n",
    "        node_colors.append('red')\n",
    "    else:\n",
    "        node_colors.append('skyblue')\n",
    "    pr = pagerank_dict.get(node, 0)\n",
    "    node_sizes.append(50 * pr)"
   ]
  },
  {
   "cell_type": "code",
   "execution_count": null,
   "metadata": {},
   "outputs": [],
   "source": [
    "# Draw\n",
    "pos = nx.spring_layout(G, seed=42)\n",
    "plt.figure(figsize=(12, 9))\n",
    "nx.draw_networkx_nodes(G, pos, node_color=node_colors, node_size=node_sizes, alpha=0.9)\n",
    "nx.draw_networkx_edges(G, pos, alpha=0.5, width=1)\n",
    "nx.draw_networkx_labels(G, pos, font_size=8)\n",
    "\n",
    "plt.title(f'Top User ({top_user_id}) and Their Connected Users')\n",
    "plt.axis('off')\n",
    "plt.show()"
   ]
  },
  {
   "cell_type": "code",
   "execution_count": null,
   "metadata": {},
   "outputs": [],
   "source": [
    "spark.stop()"
   ]
  }
 ],
 "metadata": {
  "kernelspec": {
   "display_name": "Python 3 (ipykernel)",
   "language": "python",
   "name": "python3"
  },
  "language_info": {
   "codemirror_mode": {
    "name": "ipython",
    "version": 3
   },
   "file_extension": ".py",
   "mimetype": "text/x-python",
   "name": "python",
   "nbconvert_exporter": "python",
   "pygments_lexer": "ipython3",
   "version": "3.11.0"
  }
 },
 "nbformat": 4,
 "nbformat_minor": 4
}
