{
 "cells": [
  {
   "cell_type": "markdown",
   "metadata": {},
   "source": [
    "# Window functions\n",
    "\n",
    "## Task 1:\n",
    "\n",
    "* split users to 3 groups according to number of distinct badges they have (less than 50, 50-150, more than 150)\n",
    "* if a user has one badge more times consider only the first date\n",
    "* for each user compute avg time between two badges\n",
    " * compute avg for each 3 groups\n",
    "\n",
    "Note\n",
    "* In this task you will use:\n",
    " * window functions\n",
    " * aggregations\n",
    " * when condition\n",
    " * filtering\n",
    " * time manipulation"
   ]
  },
  {
   "cell_type": "code",
   "execution_count": null,
   "metadata": {},
   "outputs": [],
   "source": [
    "from pyspark.sql import SparkSession\n",
    "from pyspark.sql.functions import (\n",
    "    col, when, count, row_number, lit, unix_timestamp, lead, avg, ceil\n",
    ")\n",
    "\n",
    "from pyspark.sql import Window\n",
    "\n",
    "import os"
   ]
  },
  {
   "cell_type": "code",
   "execution_count": null,
   "metadata": {},
   "outputs": [],
   "source": [
    "spark = (\n",
    "    SparkSession\n",
    "    .builder\n",
    "    .appName('WF II')\n",
    "    .getOrCreate()\n",
    ")"
   ]
  },
  {
   "cell_type": "code",
   "execution_count": null,
   "metadata": {},
   "outputs": [],
   "source": [
    "base_path = os.getcwd()\n",
    "\n",
    "project_path = ('/').join(base_path.split('/')[0:-3]) \n",
    "\n",
    "data_input_path = os.path.join(project_path, 'data/badges')"
   ]
  },
  {
   "cell_type": "markdown",
   "metadata": {},
   "source": [
    "#### Read the data from the source:"
   ]
  },
  {
   "cell_type": "code",
   "execution_count": null,
   "metadata": {},
   "outputs": [],
   "source": [
    "# your code here:\n"
   ]
  },
  {
   "cell_type": "markdown",
   "metadata": {},
   "source": [
    "<b>Prepare data</b>\n",
    "\n",
    "Hint:\n",
    "* select only first badge occurence (if there are multiple)\n",
    " * creat a window per user_id, badge and order by date\n",
    " * use row_number and filter only first row\n",
    "* compute number of badges for each user\n",
    " * create another window per user_id\n",
    " * use count over this window\n",
    "* add column 'category'\n",
    " * using when condition create 3 values depending on the badges count"
   ]
  },
  {
   "cell_type": "code",
   "execution_count": null,
   "metadata": {},
   "outputs": [],
   "source": [
    "# your code here:\n"
   ]
  },
  {
   "cell_type": "markdown",
   "metadata": {},
   "source": [
    "<b>Compute the time between two badges</b>\n",
    "\n",
    "Hint:\n",
    "* create new window per user_id ordered by date\n",
    "* use lead function to get the next date\n",
    "* use unix_timestamp\n",
    "* groupBy category\n",
    "* compute the average\n",
    "* convert seconds to days\n",
    "* round (ceil) to whole days"
   ]
  },
  {
   "cell_type": "code",
   "execution_count": null,
   "metadata": {},
   "outputs": [],
   "source": [
    "# your code here:\n"
   ]
  },
  {
   "cell_type": "code",
   "execution_count": null,
   "metadata": {},
   "outputs": [],
   "source": [
    "spark.stop()"
   ]
  },
  {
   "cell_type": "code",
   "execution_count": null,
   "metadata": {},
   "outputs": [],
   "source": []
  }
 ],
 "metadata": {
  "kernelspec": {
   "display_name": "Python 3",
   "language": "python",
   "name": "python3"
  },
  "language_info": {
   "codemirror_mode": {
    "name": "ipython",
    "version": 3
   },
   "file_extension": ".py",
   "mimetype": "text/x-python",
   "name": "python",
   "nbconvert_exporter": "python",
   "pygments_lexer": "ipython3",
   "version": "3.6.4"
  }
 },
 "nbformat": 4,
 "nbformat_minor": 2
}
