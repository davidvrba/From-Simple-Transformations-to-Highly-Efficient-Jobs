{
 "cells": [
  {
   "cell_type": "markdown",
   "metadata": {},
   "source": [
    "# Using window functions solve the following problems:\n",
    "\n",
    "1. Consider users that answered at least 5 questions and their answer was accepted.\n",
    "2. Compute their average response time\n",
    "3. Identify users that always improved: when answering a new question, they response time decreased as compared to the previous one."
   ]
  },
  {
   "cell_type": "code",
   "execution_count": null,
   "metadata": {},
   "outputs": [],
   "source": [
    "from pyspark.sql import SparkSession\n",
    "from pyspark.sql.functions import col, count, unix_timestamp, avg, lag, when, every\n",
    "from pyspark.sql import Window\n",
    "\n",
    "import os"
   ]
  },
  {
   "cell_type": "code",
   "execution_count": null,
   "metadata": {},
   "outputs": [],
   "source": [
    "spark = (\n",
    "    SparkSession\n",
    "    .builder\n",
    "    .appName('Window Functions')\n",
    "    .getOrCreate()\n",
    ")"
   ]
  },
  {
   "cell_type": "code",
   "execution_count": null,
   "metadata": {},
   "outputs": [],
   "source": [
    "base_path = os.getcwd()\n",
    "\n",
    "project_path = ('/').join(base_path.split('/')[0:-3]) \n",
    "\n",
    "answers_input_path = os.path.join(project_path, 'data/answers')\n",
    "\n",
    "questions_input_path = os.path.join(project_path, 'data/questions-json')"
   ]
  },
  {
   "cell_type": "code",
   "execution_count": null,
   "metadata": {},
   "outputs": [],
   "source": [
    "# create the input dataframes for answers and questions:\n"
   ]
  },
  {
   "cell_type": "markdown",
   "metadata": {},
   "source": [
    "### 1. Consider users that answered at least 5 questions and their answer was accepted.\n",
    "\n",
    "Hint:\n",
    "* Join answers with questions and use accepted_answer_id as the joining key\n",
    "* Filter out rows where user_id is Null\n",
    "* Define a [Window](https://spark.apache.org/docs/latest/api/python/reference/pyspark.sql/window.html) per user_id (from the answers dataset)\n",
    "* Use `count` as the window function\n",
    "* Filter only users with count >= 5"
   ]
  },
  {
   "cell_type": "code",
   "execution_count": null,
   "metadata": {},
   "outputs": [],
   "source": [
    "# for this window avoid using the sort, because if you sort the window\n",
    "# you will have to add frame definition .rowsBetween(Window().unboundedPreceding, Window().unboundedFollowing)\n",
    "# if you don't sort, all records for a given user_id will be considered in the window\n",
    "# with the sort the default frame is .rowsBetween(Window().unboundedPreceding, Window().currentRow)\n",
    "\n",
    "# your code here:\n"
   ]
  },
  {
   "cell_type": "markdown",
   "metadata": {},
   "source": [
    "### 2. Compute average response time for each user\n",
    "\n",
    "Hint:\n",
    "* to compute the response time, subtract the creation_times (either cast them to long or use [unix_timestamp](https://spark.apache.org/docs/latest/api/python/reference/pyspark.sql/api/pyspark.sql.functions.unix_timestamp.html))\n",
    "* compute avg of the response_time over the same window that you used above\n",
    "* sort it by response_time to see users that answer questions quickly"
   ]
  },
  {
   "cell_type": "code",
   "execution_count": null,
   "metadata": {},
   "outputs": [],
   "source": [
    "# your code here:\n"
   ]
  },
  {
   "cell_type": "markdown",
   "metadata": {},
   "source": [
    "### 3. Identify users that always improved: when answering a new question, their response time decreased as compared to the previous one.\n",
    "\n",
    "Hint\n",
    "* to compare previous with current response time, you can use [lag](https://spark.apache.org/docs/latest/api/python/reference/pyspark.sql/api/pyspark.sql.functions.lag.html)\n",
    "  * note that the function `lag` requires sorting the window\n",
    "  * note that the first value in the window doesn't have previous value, so `lag` will create Null on the first row of each window\n",
    "* add a new column that will carry the information if the user improved the response_time\n",
    "  * use when-otherwise condition and assign True to the row if the user improved as compared to the previous row\n",
    "* you can use [every](https://spark.apache.org/docs/latest/api/python/reference/pyspark.sql/api/pyspark.sql.functions.every.html) to check if the user improved every time"
   ]
  },
  {
   "cell_type": "code",
   "execution_count": null,
   "metadata": {},
   "outputs": [],
   "source": [
    "# your code here:\n"
   ]
  },
  {
   "cell_type": "markdown",
   "metadata": {},
   "source": [
    "To read more about window functions check my [article](https://towardsdatascience.com/spark-sql-102-aggregations-and-window-functions-9f829eaa7549)."
   ]
  },
  {
   "cell_type": "code",
   "execution_count": null,
   "metadata": {},
   "outputs": [],
   "source": [
    "spark.stop()"
   ]
  }
 ],
 "metadata": {
  "kernelspec": {
   "display_name": "Python 3 (ipykernel)",
   "language": "python",
   "name": "python3"
  },
  "language_info": {
   "codemirror_mode": {
    "name": "ipython",
    "version": 3
   },
   "file_extension": ".py",
   "mimetype": "text/x-python",
   "name": "python",
   "nbconvert_exporter": "python",
   "pygments_lexer": "ipython3",
   "version": "3.11.0"
  }
 },
 "nbformat": 4,
 "nbformat_minor": 4
}
