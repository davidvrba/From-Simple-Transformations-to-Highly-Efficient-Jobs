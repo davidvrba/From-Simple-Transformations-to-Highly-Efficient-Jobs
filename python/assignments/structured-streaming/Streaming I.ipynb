{
 "cells": [
  {
   "cell_type": "markdown",
   "metadata": {},
   "source": [
    "# Sructured Streaming\n",
    "\n",
    "In this notebook you will use API of Structured Streaming to process data in microbatches."
   ]
  },
  {
   "cell_type": "code",
   "execution_count": null,
   "metadata": {},
   "outputs": [],
   "source": [
    "from pyspark.sql import SparkSession\n",
    "from pyspark.sql.functions import col\n",
    "\n",
    "from pyspark.sql.types import StructType, StructField, TimestampType, LongType, IntegerType, StringType\n",
    "import os"
   ]
  },
  {
   "cell_type": "code",
   "execution_count": null,
   "metadata": {},
   "outputs": [],
   "source": [
    "spark = (\n",
    "    SparkSession\n",
    "    .builder\n",
    "    .appName('Streaming I')\n",
    "    .getOrCreate()\n",
    ")"
   ]
  },
  {
   "cell_type": "code",
   "execution_count": null,
   "metadata": {},
   "outputs": [],
   "source": [
    "base_path = os.getcwd()\n",
    "\n",
    "project_path = ('/').join(base_path.split('/')[0:-3]) \n",
    "\n",
    "stream_input_path = os.path.join(project_path, 'data/questions-queue')\n",
    "\n",
    "stream_output_path = os.path.join(project_path, 'output/streaming-output/1')\n",
    "\n",
    "checkpoint_location = os.path.join(project_path, 'output/streaming-output/checkpoint/1')"
   ]
  },
  {
   "cell_type": "markdown",
   "metadata": {},
   "source": [
    "# Task I\n",
    "\n",
    "* First write batch query to read data from `data/questions-queue`\n",
    "    * The dataset contains 1000 json files where each file has only 1 record to mimic a queue\n",
    "    * This dataset simulates the queue you might have comming from Kafka, Kinesis or another streaming system \n",
    " \n",
    "* Then write the same query as streaming query and take 5 records/files per microbatch\n",
    "* Use the memory as sink"
   ]
  },
  {
   "cell_type": "markdown",
   "metadata": {},
   "source": [
    "#### Write the schema of the json data:"
   ]
  },
  {
   "cell_type": "code",
   "execution_count": null,
   "metadata": {},
   "outputs": [],
   "source": [
    "stream_schema = StructType(\n",
    "    [\n",
    "        StructField('question_id', LongType()),\n",
    "        StructField('creation_date', TimestampType()),\n",
    "        StructField('title', StringType()),\n",
    "        StructField('r', IntegerType())\n",
    "    ]\n",
    ")"
   ]
  },
  {
   "cell_type": "markdown",
   "metadata": {},
   "source": [
    "<b>First write the batch query:</b>"
   ]
  },
  {
   "cell_type": "code",
   "execution_count": null,
   "metadata": {},
   "outputs": [],
   "source": [
    "# your code here:\n"
   ]
  },
  {
   "cell_type": "markdown",
   "metadata": {},
   "source": [
    "#### Now write it as the streaming query:\n",
    "\n",
    "Hint:\n",
    "* use `maxFilesPerTrigger` option to achieve 5 files per microbatch"
   ]
  },
  {
   "cell_type": "code",
   "execution_count": null,
   "metadata": {},
   "outputs": [],
   "source": [
    "# your code here:\n"
   ]
  },
  {
   "cell_type": "markdown",
   "metadata": {},
   "source": [
    "#### Write the stream to memory sink:\n",
    "\n",
    "Hint:\n",
    "* as `format` use memory\n",
    "* as `outputMode` use append\n",
    "* use `queryName` so you can query the table in memory\n",
    "* use [start()](https://spark.apache.org/docs/latest/api/python/reference/pyspark.ss/api/pyspark.sql.streaming.DataStreamWriter.start.html) to run the query"
   ]
  },
  {
   "cell_type": "code",
   "execution_count": null,
   "metadata": {},
   "outputs": [],
   "source": [
    "# your code here:\n"
   ]
  },
  {
   "cell_type": "markdown",
   "metadata": {},
   "source": [
    "#### See the memory table:\n",
    "\n",
    "Hint:\n",
    "* write some sql queries against the memory table\n",
    "* use `spark.sql(...).show()`"
   ]
  },
  {
   "cell_type": "code",
   "execution_count": null,
   "metadata": {},
   "outputs": [],
   "source": [
    "# your code here:\n"
   ]
  },
  {
   "cell_type": "code",
   "execution_count": null,
   "metadata": {},
   "outputs": [],
   "source": [
    "# your code here:\n"
   ]
  },
  {
   "cell_type": "markdown",
   "metadata": {},
   "source": [
    "#### Streaming queries management\n",
    "\n",
    "* see active queries: `spark.streams.active`\n",
    "* see last microbatch: `query.lastProgress`\n",
    "* see id of the query: `query.id`\n",
    "* see the name of the query: query.name"
   ]
  },
  {
   "cell_type": "markdown",
   "metadata": {},
   "source": [
    "#### Stop the query:\n",
    "\n",
    "Hint:\n",
    "* use `stop()`"
   ]
  },
  {
   "cell_type": "code",
   "execution_count": null,
   "metadata": {},
   "outputs": [],
   "source": [
    "q.stop()"
   ]
  },
  {
   "cell_type": "markdown",
   "metadata": {},
   "source": [
    "# Task II\n",
    "\n",
    "Write the same streaming query with file sink and use 100 files per microbatch. (How many files will be created?)\n",
    "\n",
    "Hint:\n",
    "* as `format` use parquet\n",
    "* for `mode` use `append`\n",
    "* use `checkpointLocation` in `option`"
   ]
  },
  {
   "cell_type": "code",
   "execution_count": null,
   "metadata": {},
   "outputs": [],
   "source": [
    "# your code here:\n"
   ]
  },
  {
   "cell_type": "code",
   "execution_count": null,
   "metadata": {},
   "outputs": [],
   "source": [
    "q.stop()"
   ]
  },
  {
   "cell_type": "markdown",
   "metadata": {},
   "source": [
    "## Note\n",
    "\n",
    "The size of micrbatch is 100, if it is processed by 4 tasks (depending on the paralellism you are using), There will be 10 cycles before all 1000 files are processed. Each task will produce one output file per cycle => there will be 4 x 10 = 40 files."
   ]
  },
  {
   "cell_type": "code",
   "execution_count": null,
   "metadata": {},
   "outputs": [],
   "source": [
    "spark.stop()"
   ]
  },
  {
   "cell_type": "code",
   "execution_count": null,
   "metadata": {},
   "outputs": [],
   "source": []
  }
 ],
 "metadata": {
  "kernelspec": {
   "display_name": "Python 3 (ipykernel)",
   "language": "python",
   "name": "python3"
  },
  "language_info": {
   "codemirror_mode": {
    "name": "ipython",
    "version": 3
   },
   "file_extension": ".py",
   "mimetype": "text/x-python",
   "name": "python",
   "nbconvert_exporter": "python",
   "pygments_lexer": "ipython3",
   "version": "3.7.3"
  }
 },
 "nbformat": 4,
 "nbformat_minor": 2
}
