{
 "cells": [
  {
   "cell_type": "markdown",
   "metadata": {},
   "source": [
    "Running the posts requires at least 8g memory. Go to SPARK_HOME/conf/spark-defaults.conf and set spark.driver.memory 8g"
   ]
  },
  {
   "cell_type": "code",
   "execution_count": 1,
   "metadata": {},
   "outputs": [],
   "source": [
    "from pyspark.sql import SparkSession\n",
    "from pyspark.sql.functions import col, explode\n",
    "\n",
    "import os"
   ]
  },
  {
   "cell_type": "code",
   "execution_count": 2,
   "metadata": {},
   "outputs": [],
   "source": [
    "spark = (\n",
    "    SparkSession\n",
    "    .builder\n",
    "    .appName('Analyze table')\n",
    "    .master(\"local[*]\")\n",
    "    .config(\"spark.driver.memory\", \"8g\")\n",
    "    .config(\"spark.jars.packages\", \"com.databricks:spark-xml_2.11:0.9.0\")\n",
    "    .getOrCreate()\n",
    ")"
   ]
  },
  {
   "cell_type": "code",
   "execution_count": 3,
   "metadata": {},
   "outputs": [
    {
     "data": {
      "text/plain": [
       "'2.4.5'"
      ]
     },
     "execution_count": 3,
     "metadata": {},
     "output_type": "execute_result"
    }
   ],
   "source": [
    "# run with 2.4.5\n",
    "# 3.0.0-preview2 had some problem with binding expression\n",
    "\n",
    "spark.version"
   ]
  },
  {
   "cell_type": "code",
   "execution_count": 4,
   "metadata": {},
   "outputs": [],
   "source": [
    "base_path = os.getcwd()\n",
    "\n",
    "project_path = ('/').join(base_path.split('/')[0:3]) "
   ]
  },
  {
   "cell_type": "code",
   "execution_count": 11,
   "metadata": {},
   "outputs": [],
   "source": [
    "# assuming the extracted xml files are in Downloads folder\n",
    "\n",
    "users_input_path = os.path.join(project_path, 'Downloads/physics.stackexchange.com/Users.xml')\n",
    "posts_input_path = os.path.join(project_path, 'Downloads/physics.stackexchange.com/Posts.xml')\n",
    "badges_input_path = os.path.join(project_path, 'Downloads/physics.stackexchange.com/Badges.xml')\n",
    "\n",
    "users_output_path = os.path.join(project_path, 'spark-trainings/training-data/users')\n",
    "posts_output_path = os.path.join(project_path, 'spark-trainings/training-data/posts')\n",
    "questions_output_path = os.path.join(project_path, 'spark-trainings/training-data/questions')\n",
    "questions_json_output_path = os.path.join(project_path, 'spark-trainings/training-data/questions-json')\n",
    "answers_output_path = os.path.join(project_path, 'spark-trainings/training-data/answers')\n",
    "badges_output_path = os.path.join(project_path, 'spark-trainings/training-data/badges')"
   ]
  },
  {
   "cell_type": "code",
   "execution_count": 7,
   "metadata": {},
   "outputs": [],
   "source": [
    "# users\n",
    "\n",
    "(\n",
    "    spark\n",
    "    .read\n",
    "    .format('xml')\n",
    "    .option(\"rowTag\", \"users\")\n",
    "    .load(users_input_path)\n",
    "    .select(explode(col(\"row\")))\n",
    "    .select(col(\"col.*\"))\n",
    "    .select(\n",
    "        col('_Id').alias('user_id'),\n",
    "        col('_DisplayName').alias('display_name'),\n",
    "        col('_AboutMe').alias('about'),\n",
    "        col('_Location').alias('location'),\n",
    "        col('_DownVotes').alias('downvotes'),\n",
    "        col('_UpVotes').alias('upvotes'),\n",
    "        col('_Reputation').alias('reputation'),\n",
    "        col('_Views').alias('views')\n",
    "    )\n",
    "    .repartition(8)\n",
    "    .write\n",
    "    .mode('overwrite')\n",
    "    .format(\"parquet\")\n",
    "    .option('path', users_output_path)\n",
    "    .save()\n",
    ")"
   ]
  },
  {
   "cell_type": "code",
   "execution_count": 9,
   "metadata": {},
   "outputs": [],
   "source": [
    "# badges\n",
    "\n",
    "(\n",
    "    spark\n",
    "    .read\n",
    "    .format('xml')\n",
    "    .option(\"rowTag\", \"badges\")\n",
    "    .load(badges_input_path)\n",
    "    .select(explode(col(\"row\")))\n",
    "    .select(col(\"col.*\"))\n",
    "    .select(\n",
    "        col('_UserId').alias('user_id'),\n",
    "        (col('_Date').cast('timestamp')).alias('date'),\n",
    "        col('_Name').alias('name'),\n",
    "        col('_Class').alias('class')\n",
    "    )\n",
    "    .repartition(8)\n",
    "    .write\n",
    "    .mode('overwrite')\n",
    "    .format(\"parquet\")\n",
    "    .option('path', badges_output_path)\n",
    "    .save()\n",
    ")"
   ]
  },
  {
   "cell_type": "code",
   "execution_count": 6,
   "metadata": {},
   "outputs": [],
   "source": [
    "# posts\n",
    "\n",
    "(\n",
    "    spark\n",
    "    .read\n",
    "    .format('xml')\n",
    "    .option(\"rowTag\", \"posts\")    \n",
    "    .load(posts_input_path)\n",
    "    .repartition(200)\n",
    "    .select(explode(col(\"row\")))\n",
    "    .select(col(\"col.*\"))\n",
    "    .write\n",
    "    .mode('overwrite')\n",
    "    .format(\"parquet\")\n",
    "    .option('path', posts_output_path)\n",
    "    .save()\n",
    ")"
   ]
  },
  {
   "cell_type": "code",
   "execution_count": 8,
   "metadata": {},
   "outputs": [],
   "source": [
    "# questions\n",
    "\n",
    "(\n",
    "    spark\n",
    "    .read\n",
    "    .format('xml')\n",
    "    .option(\"rowTag\", \"posts\")\n",
    "    .load(posts_input_path)\n",
    "    .select(explode(col(\"row\")))\n",
    "    .select(col(\"col.*\"))\n",
    "    .select(\n",
    "        col('_Id').alias('id'),\n",
    "        (col('_CreationDate').cast('timestamp')).alias('creation_date'),\n",
    "        col('_Title').alias('title'),\n",
    "        col('_Body').alias('body'),\n",
    "        col('_commentCount').alias('comments'),\n",
    "        col('_AcceptedAnswerId').alias('accepted_answer_id'),\n",
    "        col('_AnswerCount').alias('answers'),\n",
    "        col('_FavoriteCount').alias('favorite_count'),\n",
    "        col('_OwnerDisplayName').alias('owner_display_name'),\n",
    "        col('_OwnerUserId').alias('user_id'),\n",
    "        col('_ParentId').alias('parent_id'),\n",
    "        col('_PostTypeId').alias('post_type_id'),\n",
    "        col('_Score').alias('score'),\n",
    "        col('_Tags').alias('tags'),\n",
    "        col('_ViewCount').alias('views')\n",
    "    )\n",
    "    .filter(col('post_type_id') == 1)  # questions\n",
    "    .select(\n",
    "        col('id').alias('question_id'),\n",
    "        'creation_date',\n",
    "        'title',\n",
    "        'body',\n",
    "        'comments',\n",
    "        'accepted_answer_id',\n",
    "        'answers',\n",
    "        'user_id',\n",
    "        'score',\n",
    "        'tags',\n",
    "        'views'\n",
    "    )   \n",
    "    .repartition(8)\n",
    "    .write\n",
    "    .mode('overwrite')\n",
    "    .option('path', questions_output_path)\n",
    "    .save()\n",
    ")"
   ]
  },
  {
   "cell_type": "code",
   "execution_count": 12,
   "metadata": {},
   "outputs": [],
   "source": [
    "(\n",
    "    spark.read.parquet(questions_output_path)\n",
    "    .write\n",
    "    .mode('overwrite')\n",
    "    .format('json')\n",
    "    .option('path', questions_json_output_path)\n",
    "    .save()\n",
    ")"
   ]
  },
  {
   "cell_type": "code",
   "execution_count": 10,
   "metadata": {},
   "outputs": [],
   "source": [
    "# answers\n",
    "\n",
    "(\n",
    "    spark\n",
    "    .read\n",
    "    .format('xml')\n",
    "    .option(\"rowTag\", \"posts\")\n",
    "    .load(posts_input_path)\n",
    "    .select(explode(col(\"row\")))\n",
    "    .select(col(\"col.*\"))\n",
    "    .select(\n",
    "        col('_Id').alias('id'),\n",
    "        (col('_CreationDate').cast('timestamp')).alias('creation_date'),\n",
    "        col('_Title').alias('title'),\n",
    "        col('_Body').alias('body'),\n",
    "        col('_commentCount').alias('comments'),\n",
    "        col('_AcceptedAnswerId').alias('accepted_answer_id'),\n",
    "        col('_AnswerCount').alias('answers'),\n",
    "        col('_FavoriteCount').alias('favorite_count'),\n",
    "        col('_OwnerDisplayName').alias('owner_display_name'),\n",
    "        col('_OwnerUserId').alias('user_id'),\n",
    "        col('_ParentId').alias('parent_id'),\n",
    "        col('_PostTypeId').alias('post_type_id'),\n",
    "        col('_Score').alias('score'),\n",
    "        col('_Tags').alias('tags'),\n",
    "        col('_ViewCount').alias('views')\n",
    "    )\n",
    "    .filter(col('post_type_id') == 2)  # answers\n",
    "    .select(\n",
    "        col('id').alias('answer_id'),\n",
    "        'creation_date',\n",
    "        'body',\n",
    "        'comments',\n",
    "        'user_id',\n",
    "        'score',\n",
    "        col('parent_id').alias('question_id')\n",
    "    )   \n",
    "    .repartition(8)\n",
    "    .write\n",
    "    .mode('overwrite')\n",
    "    .option('path', answers_output_path)\n",
    "    .save()\n",
    ")"
   ]
  },
  {
   "cell_type": "code",
   "execution_count": null,
   "metadata": {},
   "outputs": [],
   "source": []
  }
 ],
 "metadata": {
  "kernelspec": {
   "display_name": "Python 3",
   "language": "python",
   "name": "python3"
  },
  "language_info": {
   "codemirror_mode": {
    "name": "ipython",
    "version": 3
   },
   "file_extension": ".py",
   "mimetype": "text/x-python",
   "name": "python",
   "nbconvert_exporter": "python",
   "pygments_lexer": "ipython3",
   "version": "3.7.6"
  }
 },
 "nbformat": 4,
 "nbformat_minor": 2
}
