{
 "cells": [
  {
   "cell_type": "markdown",
   "metadata": {},
   "source": [
    "## Working with tables\n",
    "\n",
    "### Task I - Table creation\n",
    "* create table messages \n",
    "* take data from questions (question_id, creation_date, body, user_id)\n",
    "* partition the table by year (derived_from creation_date)\n",
    "\n",
    "### Task II - Table append\n",
    "* append to the table new data\n",
    "* take data from answers with the same structure\n",
    "* partition by year & append to the table messages\n",
    "\n",
    "### Task III - Partitions overwrite\n",
    "* overwrite only partition for the year 2018\n",
    "* take data from questions but filter only for year 2018\n",
    "* use insertInto with dynamic overwrite\n",
    "\n",
    "### Task IV - Tables management\n",
    "* list all tables that we have in our database\n",
    "* see the properties of the messages table\n",
    "* rename the table messages -> posts\n",
    "* see all partitions that the table has\n",
    "* see properties of the partiton year=2018\n",
    "* drop the table posts\n"
   ]
  },
  {
   "cell_type": "code",
   "execution_count": 1,
   "metadata": {},
   "outputs": [],
   "source": [
    "from pyspark.sql import SparkSession\n",
    "from pyspark.sql.functions import col, year\n",
    "from pyspark.sql.types import *\n",
    "\n",
    "import os"
   ]
  },
  {
   "cell_type": "code",
   "execution_count": 2,
   "metadata": {},
   "outputs": [
    {
     "name": "stderr",
     "output_type": "stream",
     "text": [
      "/home/student/spark-3.2.0-bin-hadoop3.2/python/pyspark/context.py:238: FutureWarning: Python 3.6 support is deprecated in Spark 3.2.\n",
      "  FutureWarning\n"
     ]
    }
   ],
   "source": [
    "spark = (\n",
    "    SparkSession\n",
    "    .builder\n",
    "    .appName('Tables')\n",
    "    #.config(\"spark.sql.hive.metastore.version\", \"1.2.1\")\n",
    "    #.config(\"spark.sql.hive.metastore.jars\", \"maven\")\n",
    "    .enableHiveSupport()\n",
    "    .getOrCreate()\n",
    ")"
   ]
  },
  {
   "cell_type": "code",
   "execution_count": 3,
   "metadata": {},
   "outputs": [
    {
     "name": "stdout",
     "output_type": "stream",
     "text": [
      "+---------+---------+-----------+\n",
      "|namespace|tableName|isTemporary|\n",
      "+---------+---------+-----------+\n",
      "|  default|    posts|      false|\n",
      "+---------+---------+-----------+\n",
      "\n"
     ]
    }
   ],
   "source": [
    "spark.sql(\"show tables\").show()"
   ]
  },
  {
   "cell_type": "code",
   "execution_count": 4,
   "metadata": {},
   "outputs": [],
   "source": [
    "base_path = os.getcwd()\n",
    "\n",
    "project_path = ('/').join(base_path.split('/')[0:-3]) \n",
    "\n",
    "questions_input_path = os.path.join(project_path, 'output/questions-transformed')\n",
    "\n",
    "answers_input_path = os.path.join(project_path, 'data/answers')\n",
    "\n",
    "messages_path = os.path.join(project_path, 'output/tables/messages')"
   ]
  },
  {
   "cell_type": "code",
   "execution_count": 5,
   "metadata": {},
   "outputs": [],
   "source": [
    "my_schema = StructType([\n",
    "    StructField('question_id', LongType()),\n",
    "    StructField('creation_date', TimestampType()),\n",
    "    StructField('body', StringType()),\n",
    "    StructField('user_id', LongType())\n",
    "])"
   ]
  },
  {
   "cell_type": "code",
   "execution_count": 6,
   "metadata": {},
   "outputs": [],
   "source": [
    "questionsDF = spark.read.schema(my_schema).parquet(questions_input_path)"
   ]
  },
  {
   "cell_type": "code",
   "execution_count": 7,
   "metadata": {},
   "outputs": [],
   "source": [
    "answersDF = spark.read.schema(my_schema).parquet(answers_input_path)"
   ]
  },
  {
   "cell_type": "markdown",
   "metadata": {},
   "source": [
    "### Task I\n",
    "\n",
    "* create partitioned table `messages`, partition it by `year`\n",
    "* use [year](https://spark.apache.org/docs/latest/api/python/pyspark.sql.html#pyspark.sql.functions.year) to derive the partition column from `creation_date`\n",
    "* save it at `messages_path`"
   ]
  },
  {
   "cell_type": "code",
   "execution_count": 8,
   "metadata": {},
   "outputs": [],
   "source": [
    "(\n",
    "    questionsDF\n",
    "    .withColumn(\"year\", year(\"creation_date\"))\n",
    "    .repartition(\"year\")\n",
    "    .write\n",
    "    .mode(\"overwrite\")\n",
    "    .partitionBy(\"year\")\n",
    "    .option(\"path\", messages_path)\n",
    "    .saveAsTable(\"messages\")\n",
    ")"
   ]
  },
  {
   "cell_type": "markdown",
   "metadata": {},
   "source": [
    "### Task II\n",
    "\n",
    "* append the table `messages` with new data\n",
    "* the new data is the `answersDF`"
   ]
  },
  {
   "cell_type": "code",
   "execution_count": 10,
   "metadata": {},
   "outputs": [
    {
     "data": {
      "text/plain": [
       "195179"
      ]
     },
     "execution_count": 10,
     "metadata": {},
     "output_type": "execute_result"
    }
   ],
   "source": [
    "spark.table(\"messages\").count()"
   ]
  },
  {
   "cell_type": "code",
   "execution_count": 11,
   "metadata": {},
   "outputs": [],
   "source": [
    "(\n",
    "    answersDF\n",
    "    .withColumn(\"year\", year(\"creation_date\"))\n",
    "    .repartition(\"year\")\n",
    "    .write\n",
    "    .mode(\"append\")\n",
    "    .partitionBy(\"year\")\n",
    "    .option(\"path\", messages_path)\n",
    "    .saveAsTable(\"messages\")\n",
    ")"
   ]
  },
  {
   "cell_type": "code",
   "execution_count": 12,
   "metadata": {},
   "outputs": [
    {
     "data": {
      "text/plain": [
       "298094"
      ]
     },
     "execution_count": 12,
     "metadata": {},
     "output_type": "execute_result"
    }
   ],
   "source": [
    "answersDF.count()"
   ]
  },
  {
   "cell_type": "code",
   "execution_count": 13,
   "metadata": {},
   "outputs": [
    {
     "data": {
      "text/plain": [
       "493273"
      ]
     },
     "execution_count": 13,
     "metadata": {},
     "output_type": "execute_result"
    }
   ],
   "source": [
    "spark.table(\"messages\").count() # you should see here that the append was successful"
   ]
  },
  {
   "cell_type": "markdown",
   "metadata": {},
   "source": [
    "### Task III\n",
    "\n",
    "* ovewrite single partition in the table `messages`\n",
    "* take data from questionsDF for the year=2018 and use this data to overwrite 2018 partiton in `messages`\n",
    "* see insertInto functionality with different partitionOverwriteModes\n",
    " * STATIC is default (this can overwrite the whole dataset)\n",
    " * DYNAMIC will overwrite only relevant partition"
   ]
  },
  {
   "cell_type": "code",
   "execution_count": 14,
   "metadata": {},
   "outputs": [
    {
     "data": {
      "text/plain": [
       "'STATIC'"
      ]
     },
     "execution_count": 14,
     "metadata": {},
     "output_type": "execute_result"
    }
   ],
   "source": [
    "spark.conf.get(\"spark.sql.sources.partitionOverwriteMode\")"
   ]
  },
  {
   "cell_type": "code",
   "execution_count": 15,
   "metadata": {},
   "outputs": [],
   "source": [
    "spark.conf.set(\"spark.sql.sources.partitionOverwriteMode\", \"DYNAMIC\")"
   ]
  },
  {
   "cell_type": "code",
   "execution_count": 16,
   "metadata": {},
   "outputs": [
    {
     "data": {
      "text/plain": [
       "18308"
      ]
     },
     "execution_count": 16,
     "metadata": {},
     "output_type": "execute_result"
    }
   ],
   "source": [
    "(\n",
    "    questionsDF\n",
    "    .withColumn(\"year\", year(\"creation_date\"))\n",
    "    .filter(col('year') == 2018)\n",
    ").count()"
   ]
  },
  {
   "cell_type": "code",
   "execution_count": 17,
   "metadata": {},
   "outputs": [
    {
     "data": {
      "text/plain": [
       "42693"
      ]
     },
     "execution_count": 17,
     "metadata": {},
     "output_type": "execute_result"
    }
   ],
   "source": [
    "(\n",
    "    spark.table('messages')\n",
    "    .filter(col('year') == 2018)\n",
    ").count()"
   ]
  },
  {
   "cell_type": "code",
   "execution_count": 18,
   "metadata": {},
   "outputs": [],
   "source": [
    "# Let's first see the overwrite=False option which appends the partition\n",
    "\n",
    "(\n",
    "    questionsDF\n",
    "    .withColumn(\"year\", year(\"creation_date\"))\n",
    "    .filter(col('year') == 2018)\n",
    "    .repartition(\"year\")\n",
    "    .write\n",
    "    .insertInto(\"messages\", overwrite=False)\n",
    ")"
   ]
  },
  {
   "cell_type": "code",
   "execution_count": 19,
   "metadata": {},
   "outputs": [
    {
     "data": {
      "text/plain": [
       "61001"
      ]
     },
     "execution_count": 19,
     "metadata": {},
     "output_type": "execute_result"
    }
   ],
   "source": [
    "(\n",
    "    spark.table('messages')\n",
    "    .filter(col('year') == 2018)\n",
    ").count()"
   ]
  },
  {
   "cell_type": "code",
   "execution_count": 20,
   "metadata": {},
   "outputs": [],
   "source": [
    "# overwrite=True option which overwrites the partition\n",
    "\n",
    "(\n",
    "    questionsDF\n",
    "    .withColumn(\"year\", year(\"creation_date\"))\n",
    "    .filter(col('year').isin([2018]))\n",
    "    .repartition(\"year\")\n",
    "    .write\n",
    "    .insertInto(\"messages\", overwrite=True)\n",
    ")"
   ]
  },
  {
   "cell_type": "code",
   "execution_count": 21,
   "metadata": {},
   "outputs": [
    {
     "data": {
      "text/plain": [
       "18308"
      ]
     },
     "execution_count": 21,
     "metadata": {},
     "output_type": "execute_result"
    }
   ],
   "source": [
    "spark.table('messages').filter(col('year') == 2018).count() # this partition was overwritten"
   ]
  },
  {
   "cell_type": "code",
   "execution_count": 22,
   "metadata": {},
   "outputs": [
    {
     "data": {
      "text/plain": [
       "44977"
      ]
     },
     "execution_count": 22,
     "metadata": {},
     "output_type": "execute_result"
    }
   ],
   "source": [
    "spark.table('messages').filter(col('year') == 2019).count() # this partition didn't change"
   ]
  },
  {
   "cell_type": "markdown",
   "metadata": {},
   "source": [
    "#### Task IIIb\n",
    "\n",
    "Let' see what happens in the default STATIC mode"
   ]
  },
  {
   "cell_type": "code",
   "execution_count": 23,
   "metadata": {},
   "outputs": [],
   "source": [
    "spark.conf.set(\"spark.sql.sources.partitionOverwriteMode\", \"STATIC\")"
   ]
  },
  {
   "cell_type": "code",
   "execution_count": 24,
   "metadata": {},
   "outputs": [],
   "source": [
    "# STATIC with overwrite=False appends the partition\n",
    "\n",
    "(\n",
    "    questionsDF\n",
    "    .withColumn(\"year\", year(\"creation_date\"))\n",
    "    .filter(col('year') == 2018)\n",
    "    .repartition(\"year\")\n",
    "    .write\n",
    "    .insertInto(\"messages\", overwrite=False)\n",
    ")"
   ]
  },
  {
   "cell_type": "code",
   "execution_count": 25,
   "metadata": {},
   "outputs": [
    {
     "data": {
      "text/plain": [
       "36616"
      ]
     },
     "execution_count": 25,
     "metadata": {},
     "output_type": "execute_result"
    }
   ],
   "source": [
    "spark.table('messages').filter(col('year') == 2018).count() # this partition was appended"
   ]
  },
  {
   "cell_type": "code",
   "execution_count": 26,
   "metadata": {},
   "outputs": [],
   "source": [
    "# STATIC with overwrite=TRUE overwrites the entire table\n",
    "(\n",
    "    questionsDF\n",
    "    .withColumn(\"year\", year(\"creation_date\"))\n",
    "    .filter(col('year') == 2018)\n",
    "    .repartition(\"year\")\n",
    "    .write\n",
    "    .insertInto(\"messages\", overwrite=True)\n",
    ")"
   ]
  },
  {
   "cell_type": "code",
   "execution_count": 27,
   "metadata": {},
   "outputs": [
    {
     "data": {
      "text/plain": [
       "18308"
      ]
     },
     "execution_count": 27,
     "metadata": {},
     "output_type": "execute_result"
    }
   ],
   "source": [
    "spark.table('messages').filter(col('year') == 2018).count() # this partition was overwritten"
   ]
  },
  {
   "cell_type": "code",
   "execution_count": 28,
   "metadata": {},
   "outputs": [
    {
     "data": {
      "text/plain": [
       "0"
      ]
     },
     "execution_count": 28,
     "metadata": {},
     "output_type": "execute_result"
    }
   ],
   "source": [
    "spark.table('messages').filter(col('year') == 2019).count() # all other partitions were deleted"
   ]
  },
  {
   "cell_type": "markdown",
   "metadata": {},
   "source": [
    "### Task IV - Tables management\n",
    "* list all tables that we have in our database\n",
    "* see the properties of the messages table\n",
    "* rename the table messages -> posts\n",
    "* see all partitions that the table has\n",
    "* see properties of the partiton year=2018\n",
    "\n",
    "Hint:\n",
    "* check the sql-reference [docs](https://spark.apache.org/docs/latest/sql-ref.html)\n",
    "* check [catalog API](https://spark.apache.org/docs/latest/api/python/pyspark.sql.html#pyspark.sql.Catalog)"
   ]
  },
  {
   "cell_type": "code",
   "execution_count": 29,
   "metadata": {},
   "outputs": [
    {
     "data": {
      "text/plain": [
       "[Table(name='messages', database='default', description=None, tableType='EXTERNAL', isTemporary=False)]"
      ]
     },
     "execution_count": 29,
     "metadata": {},
     "output_type": "execute_result"
    }
   ],
   "source": [
    "spark.catalog.listTables()"
   ]
  },
  {
   "cell_type": "code",
   "execution_count": 30,
   "metadata": {},
   "outputs": [
    {
     "name": "stdout",
     "output_type": "stream",
     "text": [
      "+--------------------+--------------------+-------+\n",
      "|            col_name|           data_type|comment|\n",
      "+--------------------+--------------------+-------+\n",
      "|         question_id|              bigint|   null|\n",
      "|       creation_date|           timestamp|   null|\n",
      "|                body|              string|   null|\n",
      "|             user_id|              bigint|   null|\n",
      "|                year|                 int|   null|\n",
      "|# Partition Infor...|                    |       |\n",
      "|          # col_name|           data_type|comment|\n",
      "|                year|                 int|   null|\n",
      "|                    |                    |       |\n",
      "|# Detailed Table ...|                    |       |\n",
      "|            Database|             default|       |\n",
      "|               Table|            messages|       |\n",
      "|               Owner|             student|       |\n",
      "|        Created Time|Sat Nov 13 08:20:...|       |\n",
      "|         Last Access|             UNKNOWN|       |\n",
      "|          Created By|         Spark 3.2.0|       |\n",
      "|                Type|            EXTERNAL|       |\n",
      "|            Provider|             parquet|       |\n",
      "|            Location|file:/home/studen...|       |\n",
      "|       Serde Library|org.apache.hadoop...|       |\n",
      "|         InputFormat|org.apache.hadoop...|       |\n",
      "|        OutputFormat|org.apache.hadoop...|       |\n",
      "|  Partition Provider|             Catalog|       |\n",
      "+--------------------+--------------------+-------+\n",
      "\n"
     ]
    }
   ],
   "source": [
    "# See properties on a table\n",
    "\n",
    "spark.sql(\"DESC EXTENDED messages\").show(n=50)"
   ]
  },
  {
   "cell_type": "code",
   "execution_count": 31,
   "metadata": {},
   "outputs": [
    {
     "data": {
      "text/plain": [
       "DataFrame[]"
      ]
     },
     "execution_count": 31,
     "metadata": {},
     "output_type": "execute_result"
    }
   ],
   "source": [
    "# Change the name of the table\n",
    "\n",
    "spark.sql(\"ALTER TABLE messages RENAME TO posts\")"
   ]
  },
  {
   "cell_type": "code",
   "execution_count": 32,
   "metadata": {},
   "outputs": [
    {
     "data": {
      "text/plain": [
       "18308"
      ]
     },
     "execution_count": 32,
     "metadata": {},
     "output_type": "execute_result"
    }
   ],
   "source": [
    "spark.table(\"posts\").count()"
   ]
  },
  {
   "cell_type": "code",
   "execution_count": 33,
   "metadata": {},
   "outputs": [
    {
     "name": "stdout",
     "output_type": "stream",
     "text": [
      "+---------+\n",
      "|partition|\n",
      "+---------+\n",
      "|year=2018|\n",
      "+---------+\n",
      "\n"
     ]
    }
   ],
   "source": [
    "# See partitions of the table\n",
    "\n",
    "spark.sql(\"SHOW PARTITIONS posts\").show()"
   ]
  },
  {
   "cell_type": "code",
   "execution_count": 34,
   "metadata": {},
   "outputs": [
    {
     "name": "stdout",
     "output_type": "stream",
     "text": [
      "+--------------------------------+--------------------------------------------------+-------+\n",
      "|                        col_name|                                         data_type|comment|\n",
      "+--------------------------------+--------------------------------------------------+-------+\n",
      "|                     question_id|                                            bigint|   null|\n",
      "|                   creation_date|                                         timestamp|   null|\n",
      "|                            body|                                            string|   null|\n",
      "|                         user_id|                                            bigint|   null|\n",
      "|                            year|                                               int|   null|\n",
      "|         # Partition Information|                                                  |       |\n",
      "|                      # col_name|                                         data_type|comment|\n",
      "|                            year|                                               int|   null|\n",
      "|                                |                                                  |       |\n",
      "|# Detailed Partition Information|                                                  |       |\n",
      "|                        Database|                                           default|       |\n",
      "|                           Table|                                             posts|       |\n",
      "|                Partition Values|                                       [year=2018]|       |\n",
      "|                        Location|file:/home/student/From-Simple-Transformations-...|       |\n",
      "|                   Serde Library|org.apache.hadoop.hive.ql.io.parquet.serde.Parq...|       |\n",
      "|                     InputFormat|org.apache.hadoop.hive.ql.io.parquet.MapredParq...|       |\n",
      "|                    OutputFormat|org.apache.hadoop.hive.ql.io.parquet.MapredParq...|       |\n",
      "|              Storage Properties|[serialization.format=1, path=file:/home/studen...|       |\n",
      "|            Partition Parameters|{transient_lastDdlTime=1636788052, totalSize=14...|       |\n",
      "|                    Created Time|                      Sat Nov 13 08:20:53 CET 2021|       |\n",
      "|                     Last Access|                                           UNKNOWN|       |\n",
      "|            Partition Statistics|                                    14755658 bytes|       |\n",
      "|                                |                                                  |       |\n",
      "|           # Storage Information|                                                  |       |\n",
      "|                        Location|file:/home/student/From-Simple-Transformations-...|       |\n",
      "|                   Serde Library|org.apache.hadoop.hive.ql.io.parquet.serde.Parq...|       |\n",
      "|                     InputFormat|org.apache.hadoop.hive.ql.io.parquet.MapredParq...|       |\n",
      "|                    OutputFormat|org.apache.hadoop.hive.ql.io.parquet.MapredParq...|       |\n",
      "+--------------------------------+--------------------------------------------------+-------+\n",
      "\n"
     ]
    }
   ],
   "source": [
    "# See properties of a single partition\n",
    "\n",
    "spark.sql(\"DESC FORMATTED posts PARTITION (year=2018)\").show(n=50, truncate=50)"
   ]
  },
  {
   "cell_type": "code",
   "execution_count": null,
   "metadata": {},
   "outputs": [],
   "source": [
    "# Drop the table\n",
    "\n",
    "spark.sql('DROP TABLE posts')"
   ]
  },
  {
   "cell_type": "code",
   "execution_count": null,
   "metadata": {},
   "outputs": [],
   "source": []
  }
 ],
 "metadata": {
  "kernelspec": {
   "display_name": "Python 3",
   "language": "python",
   "name": "python3"
  },
  "language_info": {
   "codemirror_mode": {
    "name": "ipython",
    "version": 3
   },
   "file_extension": ".py",
   "mimetype": "text/x-python",
   "name": "python",
   "nbconvert_exporter": "python",
   "pygments_lexer": "ipython3",
   "version": "3.6.9"
  }
 },
 "nbformat": 4,
 "nbformat_minor": 2
}
