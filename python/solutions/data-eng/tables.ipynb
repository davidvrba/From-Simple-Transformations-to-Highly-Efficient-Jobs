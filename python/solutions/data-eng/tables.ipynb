{
 "cells": [
  {
   "cell_type": "markdown",
   "metadata": {},
   "source": [
    "## Working with tables\n",
    "\n",
    "### Task I - Table creation\n",
    "* create table messages \n",
    "* take data from questions (question_id -> message_id, creation_date, body, user_id)\n",
    "* partition the table by year (derived_from creation_date)\n",
    "\n",
    "### Task II - Table append\n",
    "* append to the table new data\n",
    "* take data from answers with the same structure\n",
    "* partition by year & append to the table messages\n",
    "\n",
    "### Task III - Partitions overwrite\n",
    "* overwrite only partition for the year 2018\n",
    "* take data from questions but filter only for year 2018\n",
    "* use insertInto with dynamic overwrite\n",
    "\n",
    "### Task IV - Tables management\n",
    "* list all tables that we have in our database\n",
    "* see the properties of the messages table\n",
    "* rename the table messages -> posts\n",
    "* see all partitions that the table has\n",
    "* see properties of the partiton year=2018\n"
   ]
  },
  {
   "cell_type": "code",
   "execution_count": 1,
   "metadata": {},
   "outputs": [],
   "source": [
    "from pyspark.sql import SparkSession\n",
    "from pyspark.sql.functions import col, year\n",
    "from pyspark.sql.types import *\n",
    "\n",
    "import os"
   ]
  },
  {
   "cell_type": "code",
   "execution_count": 2,
   "metadata": {},
   "outputs": [],
   "source": [
    "spark = (\n",
    "    SparkSession\n",
    "    .builder\n",
    "    .appName('Tables')\n",
    "    .enableHiveSupport()\n",
    "    .getOrCreate()\n",
    ")"
   ]
  },
  {
   "cell_type": "code",
   "execution_count": 3,
   "metadata": {},
   "outputs": [],
   "source": [
    "base_path = os.getcwd()\n",
    "\n",
    "project_path = ('/').join(base_path.split('/')[0:-3]) \n",
    "\n",
    "questions_input_path = os.path.join(project_path, 'output/questions-transformed')\n",
    "\n",
    "answers_input_path = os.path.join(project_path, 'data/answers')\n",
    "\n",
    "messages_path = os.path.join(project_path, 'output/tables/messages')"
   ]
  },
  {
   "cell_type": "code",
   "execution_count": 4,
   "metadata": {},
   "outputs": [],
   "source": [
    "my_schema = StructType([\n",
    "    StructField('question_id', LongType()),\n",
    "    StructField('creation_date', TimestampType()),\n",
    "    StructField('body', StringType()),\n",
    "    StructField('user_id', LongType())\n",
    "])"
   ]
  },
  {
   "cell_type": "code",
   "execution_count": 5,
   "metadata": {},
   "outputs": [],
   "source": [
    "questionsDF = spark.read.schema(my_schema).parquet(questions_input_path)"
   ]
  },
  {
   "cell_type": "code",
   "execution_count": 6,
   "metadata": {},
   "outputs": [],
   "source": [
    "answersDF = spark.read.schema(my_schema).parquet(answers_input_path)"
   ]
  },
  {
   "cell_type": "code",
   "execution_count": 7,
   "metadata": {},
   "outputs": [],
   "source": [
    "(\n",
    "    questionsDF\n",
    "    .withColumn(\"year\", year(\"creation_date\"))\n",
    "    .repartition(\"year\")\n",
    "    .write\n",
    "    .mode(\"overwrite\")\n",
    "    .partitionBy(\"year\")\n",
    "    .option(\"path\", messages_path)\n",
    "    .saveAsTable(\"messages\")\n",
    ")"
   ]
  },
  {
   "cell_type": "code",
   "execution_count": 8,
   "metadata": {},
   "outputs": [],
   "source": [
    "(\n",
    "    answersDF\n",
    "    .withColumn(\"year\", year(\"creation_date\"))\n",
    "    .repartition(\"year\")\n",
    "    .write\n",
    "    .mode(\"append\")\n",
    "    .partitionBy(\"year\")\n",
    "    .option(\"path\", messages_path)\n",
    "    .saveAsTable(\"messages\")\n",
    ")"
   ]
  },
  {
   "cell_type": "code",
   "execution_count": 55,
   "metadata": {},
   "outputs": [
    {
     "data": {
      "text/plain": [
       "'DYNAMIC'"
      ]
     },
     "execution_count": 55,
     "metadata": {},
     "output_type": "execute_result"
    }
   ],
   "source": [
    "spark.conf.get(\"spark.sql.sources.partitionOverwriteMode\")"
   ]
  },
  {
   "cell_type": "code",
   "execution_count": 53,
   "metadata": {},
   "outputs": [],
   "source": [
    "spark.conf.set(\"spark.sql.sources.partitionOverwriteMode\", \"DYNAMIC\")"
   ]
  },
  {
   "cell_type": "code",
   "execution_count": 48,
   "metadata": {},
   "outputs": [],
   "source": [
    "(\n",
    "    questionsDF\n",
    "    .withColumn(\"year\", year(\"creation_date\"))\n",
    "    .filter(col('year') == 2018)\n",
    "    .repartition(\"year\")\n",
    "    .write\n",
    "    .insertInto(\"messages\", overwrite=False)\n",
    ")"
   ]
  },
  {
   "cell_type": "code",
   "execution_count": 14,
   "metadata": {},
   "outputs": [
    {
     "data": {
      "text/plain": [
       "22286"
      ]
     },
     "execution_count": 14,
     "metadata": {},
     "output_type": "execute_result"
    }
   ],
   "source": [
    "spark.read.schema(my_schema).parquet(messages_path).filter(col('year') == 2018).count()"
   ]
  },
  {
   "cell_type": "code",
   "execution_count": 57,
   "metadata": {},
   "outputs": [],
   "source": [
    "# static:\n",
    "# .insertInto(\"messages\", overwrite=False) appenduje data do tech partisen kam to patri a ostani necha byt\n",
    "# .insertInto(\"messages\", overwrite=True) prepise vse - necha jenom partisny s novymi daty\n",
    "\n",
    "# dynamic:\n",
    "# .insertInto(\"messages\", overwrite=False) appenduje pouze danou partisnu, ostatni partisny necha byt\n",
    "# .insertInto(\"messages\", overwrite=True) prepise pouze danou partisnu\n",
    "\n",
    "(\n",
    "    questionsDF\n",
    "    .withColumn(\"year\", year(\"creation_date\"))\n",
    "    .filter(col('year').isin([2018]))\n",
    "    .repartition(\"year\")\n",
    "    .write\n",
    "    .insertInto(\"messages\", overwrite=True)\n",
    ")"
   ]
  },
  {
   "cell_type": "code",
   "execution_count": 30,
   "metadata": {},
   "outputs": [
    {
     "data": {
      "text/plain": [
       "89144"
      ]
     },
     "execution_count": 30,
     "metadata": {},
     "output_type": "execute_result"
    }
   ],
   "source": [
    "spark.read.schema(my_schema).parquet(messages_path).filter(col('year') == 2018).count()"
   ]
  },
  {
   "cell_type": "code",
   "execution_count": null,
   "metadata": {},
   "outputs": [],
   "source": []
  }
 ],
 "metadata": {
  "kernelspec": {
   "display_name": "Python 3",
   "language": "python",
   "name": "python3"
  },
  "language_info": {
   "codemirror_mode": {
    "name": "ipython",
    "version": 3
   },
   "file_extension": ".py",
   "mimetype": "text/x-python",
   "name": "python",
   "nbconvert_exporter": "python",
   "pygments_lexer": "ipython3",
   "version": "3.7.5"
  }
 },
 "nbformat": 4,
 "nbformat_minor": 2
}
