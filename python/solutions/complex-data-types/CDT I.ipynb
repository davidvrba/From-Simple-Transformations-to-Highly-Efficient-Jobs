{
 "cells": [
  {
   "cell_type": "markdown",
   "metadata": {},
   "source": [
    "# Task I\n",
    "\n",
    "Take users-with-badges and do the following:\n",
    "    * Add new column 'success' which is a nested field (represented as StructType) and contains these subfields: 'upvotes', 'reputation', 'views'\n",
    "    * Transform 'badge_info' to array of only badge_names and leave only names with class = 3\n",
    "    * Replace the null values in this column by empty array"
   ]
  },
  {
   "cell_type": "code",
   "execution_count": 1,
   "metadata": {},
   "outputs": [],
   "source": [
    "from pyspark.sql import SparkSession\n",
    "from pyspark.sql.functions import (\n",
    "    col, when, year, size, split, substring, struct, collect_list, explode, coalesce, array, udf\n",
    ")\n",
    "\n",
    "from pyspark.sql.types import StructType, StructField, ArrayType, StringType, IntegerType, TimestampType\n",
    "\n",
    "import os"
   ]
  },
  {
   "cell_type": "code",
   "execution_count": 2,
   "metadata": {},
   "outputs": [],
   "source": [
    "spark = (\n",
    "    SparkSession\n",
    "    .builder\n",
    "    .appName('CDT I')\n",
    "    .getOrCreate()\n",
    ")"
   ]
  },
  {
   "cell_type": "code",
   "execution_count": 18,
   "metadata": {},
   "outputs": [],
   "source": [
    "base_path = os.getcwd()\n",
    "project_path = ('/').join(base_path.split('/')[0:-3]) \n",
    "\n",
    "data_input_path = os.path.join(project_path, 'data/users-with-badges')"
   ]
  },
  {
   "cell_type": "code",
   "execution_count": 19,
   "metadata": {},
   "outputs": [
    {
     "name": "stdout",
     "output_type": "stream",
     "text": [
      "/Users/david.vrba/From-Simple-Transformations-to-Highly-Efficient-Jobs/data/users-with-badges\n"
     ]
    }
   ],
   "source": [
    "print(data_input_path)"
   ]
  },
  {
   "cell_type": "code",
   "execution_count": 20,
   "metadata": {},
   "outputs": [],
   "source": [
    "usersDF = (\n",
    "    spark\n",
    "    .read\n",
    "    .option('path', data_input_path)\n",
    "    .load()\n",
    ")"
   ]
  },
  {
   "cell_type": "code",
   "execution_count": 21,
   "metadata": {},
   "outputs": [
    {
     "name": "stdout",
     "output_type": "stream",
     "text": [
      "+-------+------------+-----------+----------+---------+-------+----------+-----+----------+\n",
      "|user_id|display_name|      about|  location|downvotes|upvotes|reputation|views|badge_info|\n",
      "+-------+------------+-----------+----------+---------+-------+----------+-----+----------+\n",
      "| 128996|       Pro Q|       null|      null|        0|     15|       101|    0|[[Suppo...|\n",
      "| 116200|      Robins|       null|      null|        0|      0|         1|    0|      null|\n",
      "| 147066|      LuxCal| <p>Phys...|Los Ang...|        0|      0|         1|    1|[[Infor...|\n",
      "| 180853|         WWK|<p>(σ・Д...|      null|        0|      0|       101|    0|[[Autob...|\n",
      "|  45916|  CoolQue...| <p>Man ...|      null|        0|     14|       217|   71|[[Yearl...|\n",
      "| 205696|       AarCh|       null|      null|        0|      0|         1|    1|[[Edito...|\n",
      "|  42526|        Mike|       null|      null|        0|      0|         1|    1|[[Stude...|\n",
      "|  99659|  Thaddeu...| <p>Fres...|  Illinois|        0|      0|         1|   11|[[Autob...|\n",
      "| 154734|  user154734|       null|      null|        0|      0|         1|    0|      null|\n",
      "|  92074|  Mike Li...|       null|      null|        0|      0|         1|    0|      null|\n",
      "|  22166|      Théo T| <p>I'm ...|  Grenoble|        0|      1|       113|    3|[[Stude...|\n",
      "|  16410|  Phil Mu...| <p>VB &...|United ...|        0|      0|       101|    5|[[Autob...|\n",
      "| 195103|    Doctor X|       null|      null|        0|      0|         1|    0|      null|\n",
      "|  60729|  Aaron G...|       null|      null|        0|      0|         1|    3|      null|\n",
      "| 102287|  Albert ...|       null|      null|        0|      0|         1|    1|      null|\n",
      "| 149751|  Steve C...|           |      null|        0|      0|         1|    0|[[Infor...|\n",
      "| 198753|        Mark|       null|      null|        0|      0|         1|    0|      null|\n",
      "|  68055|  Craig  ...|       null|      null|        0|      0|       111|    9|[[Teach...|\n",
      "|  94207|  Robert ...|       null|      null|        0|      0|        41|    1|[[Infor...|\n",
      "| 204426|       Storm|       null|      null|        0|      0|         1|    0|      null|\n",
      "+-------+------------+-----------+----------+---------+-------+----------+-----+----------+\n",
      "only showing top 20 rows\n",
      "\n"
     ]
    }
   ],
   "source": [
    "usersDF.show(truncate=10)"
   ]
  },
  {
   "cell_type": "code",
   "execution_count": 22,
   "metadata": {},
   "outputs": [
    {
     "name": "stdout",
     "output_type": "stream",
     "text": [
      "root\n",
      " |-- user_id: long (nullable = true)\n",
      " |-- display_name: string (nullable = true)\n",
      " |-- about: string (nullable = true)\n",
      " |-- location: string (nullable = true)\n",
      " |-- downvotes: long (nullable = true)\n",
      " |-- upvotes: long (nullable = true)\n",
      " |-- reputation: long (nullable = true)\n",
      " |-- views: long (nullable = true)\n",
      " |-- badge_info: array (nullable = true)\n",
      " |    |-- element: struct (containsNull = true)\n",
      " |    |    |-- name: string (nullable = true)\n",
      " |    |    |-- class: long (nullable = true)\n",
      " |    |    |-- date: timestamp (nullable = true)\n",
      "\n"
     ]
    }
   ],
   "source": [
    "usersDF.printSchema()"
   ]
  },
  {
   "cell_type": "code",
   "execution_count": null,
   "metadata": {},
   "outputs": [],
   "source": [
    "(\n",
    "    usersDF\n",
    "    .withColumn('success', struct('upvotes', 'reputation', 'views'))\n",
    ")"
   ]
  }
 ],
 "metadata": {
  "kernelspec": {
   "display_name": "Python 3",
   "language": "python",
   "name": "python3"
  },
  "language_info": {
   "codemirror_mode": {
    "name": "ipython",
    "version": 3
   },
   "file_extension": ".py",
   "mimetype": "text/x-python",
   "name": "python",
   "nbconvert_exporter": "python",
   "pygments_lexer": "ipython3",
   "version": "3.6.4"
  }
 },
 "nbformat": 4,
 "nbformat_minor": 2
}
