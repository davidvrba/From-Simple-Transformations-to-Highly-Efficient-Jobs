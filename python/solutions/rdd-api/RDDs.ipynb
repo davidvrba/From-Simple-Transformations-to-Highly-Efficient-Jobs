{
 "cells": [
  {
   "cell_type": "markdown",
   "metadata": {},
   "source": [
    "# RDD API\n",
    "\n",
    "In this notebook you will solve one problem using RDD API."
   ]
  },
  {
   "cell_type": "code",
   "execution_count": 44,
   "metadata": {},
   "outputs": [],
   "source": [
    "import pyspark\n",
    "from pyspark.sql import SparkSession\n",
    "from pyspark.sql.functions import col, desc\n",
    "\n",
    "from pyspark.sql import Window\n",
    "\n",
    "from pyspark.sql.types import StructField, LongType, StructType\n",
    "\n",
    "import os"
   ]
  },
  {
   "cell_type": "code",
   "execution_count": 45,
   "metadata": {},
   "outputs": [],
   "source": [
    "spark = (\n",
    "    SparkSession\n",
    "    .builder\n",
    "    .appName('RDD API')\n",
    "    .getOrCreate()\n",
    ")"
   ]
  },
  {
   "cell_type": "code",
   "execution_count": 46,
   "metadata": {},
   "outputs": [],
   "source": [
    "base_path = os.getcwd()\n",
    "\n",
    "project_path = ('/').join(base_path.split('/')[0:-3]) \n",
    "\n",
    "users_input_path = os.path.join(project_path, 'data/users')"
   ]
  },
  {
   "cell_type": "code",
   "execution_count": 47,
   "metadata": {},
   "outputs": [],
   "source": [
    "usersDF = (\n",
    "    spark\n",
    "    .read\n",
    "    .option('path', users_input_path)\n",
    "    .load()\n",
    ")"
   ]
  },
  {
   "cell_type": "markdown",
   "metadata": {},
   "source": [
    "# Task\n",
    "\n",
    "Convert usersDF to RDD and then compute percentile for each user depending on the value of reputation. The user with highest reputation should have percentile 100. Convert the result back to DataFrame. If the value of reputation is the same, determine the order by the value of user_id.\n",
    "\n",
    "Hint:\n",
    "* first sort the DataFrame by reputation and user_id\n",
    "* then convert it to rdd\n",
    "* then use zipWithIndex transformation which gives you the access to the global index of each record\n",
    " * after zipWithIndex you can call lambda function\n",
    " * note that the index starts from 0\n",
    "* add the index as a value to each record\n",
    "* convert to DataFrame using spark.createDataFrame\n",
    "* divide the index by total count and multiply by 100 to get the percentile"
   ]
  },
  {
   "cell_type": "code",
   "execution_count": 48,
   "metadata": {},
   "outputs": [],
   "source": [
    "total_users = usersDF.count()"
   ]
  },
  {
   "cell_type": "code",
   "execution_count": 49,
   "metadata": {},
   "outputs": [],
   "source": [
    "my_schema = StructType(\n",
    "  [\n",
    "    StructField('user_id', LongType()),\n",
    "    StructField('reputation', LongType()),\n",
    "    StructField('index', LongType())\n",
    "  ]\n",
    ")"
   ]
  },
  {
   "cell_type": "code",
   "execution_count": 50,
   "metadata": {},
   "outputs": [],
   "source": [
    "indexedRDD = (\n",
    "    usersDF\n",
    "    .select('user_id', 'reputation')\n",
    "    .orderBy('reputation', 'user_id')\n",
    "    .rdd\n",
    "    .zipWithIndex()\n",
    "    .map(lambda x: (x[0]['user_id'], x[0]['reputation'], x[1] + 1))\n",
    ")"
   ]
  },
  {
   "cell_type": "code",
   "execution_count": 51,
   "metadata": {},
   "outputs": [],
   "source": [
    "result = spark.createDataFrame(indexedRDD, my_schema)"
   ]
  },
  {
   "cell_type": "code",
   "execution_count": 52,
   "metadata": {},
   "outputs": [
    {
     "name": "stdout",
     "output_type": "stream",
     "text": [
      "+-------+----------+------+-----------------+\n",
      "|user_id|reputation| index|       percentile|\n",
      "+-------+----------+------+-----------------+\n",
      "|   1325|    268228|153439|            100.0|\n",
      "|   1492|    154965|153438|99.99934827521034|\n",
      "|   1236|    152163|153437|99.99869655042069|\n",
      "|  26969|    105646|153436|99.99804482563103|\n",
      "|   2451|    100020|153435|99.99739310084138|\n",
      "+-------+----------+------+-----------------+\n",
      "only showing top 5 rows\n",
      "\n"
     ]
    }
   ],
   "source": [
    "(\n",
    "    result\n",
    "    .withColumn('percentile', (col('index') / (total_users)) * 100)\n",
    "    .orderBy(desc('reputation'))\n",
    ").show(n=5)"
   ]
  },
  {
   "cell_type": "code",
   "execution_count": 54,
   "metadata": {},
   "outputs": [],
   "source": [
    "spark.stop()"
   ]
  },
  {
   "cell_type": "code",
   "execution_count": null,
   "metadata": {},
   "outputs": [],
   "source": []
  }
 ],
 "metadata": {
  "kernelspec": {
   "display_name": "Python 3",
   "language": "python",
   "name": "python3"
  },
  "language_info": {
   "codemirror_mode": {
    "name": "ipython",
    "version": 3
   },
   "file_extension": ".py",
   "mimetype": "text/x-python",
   "name": "python",
   "nbconvert_exporter": "python",
   "pygments_lexer": "ipython3",
   "version": "3.6.4"
  }
 },
 "nbformat": 4,
 "nbformat_minor": 2
}
