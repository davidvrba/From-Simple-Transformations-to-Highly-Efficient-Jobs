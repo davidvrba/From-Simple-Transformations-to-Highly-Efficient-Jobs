{
 "cells": [
  {
   "cell_type": "markdown",
   "metadata": {},
   "source": [
    "# Higher Order Functions II\n",
    "\n",
    "In this notebook you will solve one more problem using HOFs."
   ]
  },
  {
   "cell_type": "code",
   "execution_count": 1,
   "metadata": {},
   "outputs": [],
   "source": [
    "import pyspark\n",
    "from pyspark.sql import SparkSession\n",
    "from pyspark.sql.functions import (\n",
    "    col, desc, count, explode, sum, collect_list\n",
    ")\n",
    "from pyspark.sql import Window\n",
    "from pyspark.sql.types import StructType, StructField, StringType, LongType, TimestampType\n",
    "\n",
    "import os"
   ]
  },
  {
   "cell_type": "code",
   "execution_count": 2,
   "metadata": {},
   "outputs": [],
   "source": [
    "spark = (\n",
    "    SparkSession\n",
    "    .builder\n",
    "    .appName('HOF II')\n",
    "    .getOrCreate()\n",
    ")"
   ]
  },
  {
   "cell_type": "markdown",
   "metadata": {},
   "source": [
    "# Task\n",
    "\n",
    "* For each of the 15 most frequent tags compute the entropy of the 'comments' field in questions dataset using HOFs."
   ]
  },
  {
   "cell_type": "code",
   "execution_count": null,
   "metadata": {},
   "outputs": [],
   "source": [
    "base_path = os.getcwd()\n",
    "\n",
    "project_path = ('/').join(base_path.split('/')[0:-3]) \n",
    "\n",
    "questions_input_path = os.path.join(project_path, 'output/questions-transformed')"
   ]
  },
  {
   "cell_type": "code",
   "execution_count": null,
   "metadata": {},
   "outputs": [],
   "source": [
    "questionsDF = (\n",
    "    spark\n",
    "    .read\n",
    "    .option('path', questions_input_path)\n",
    "    .load()\n",
    ")"
   ]
  },
  {
   "cell_type": "markdown",
   "metadata": {},
   "source": [
    "<b>Find 15 most frequent tags</b>\n",
    "\n",
    "Hint:\n",
    "* explode tags\n",
    "* use group by with count\n",
    "* sort and use limit\n",
    "* cache the result"
   ]
  },
  {
   "cell_type": "code",
   "execution_count": null,
   "metadata": {},
   "outputs": [],
   "source": [
    "tagsDF = (\n",
    "    questionsDF\n",
    "    .select(explode('tags').alias('tag'))\n",
    "    .groupBy('tag')\n",
    "    .agg(\n",
    "        count('*').alias('frequency')\n",
    "    )\n",
    "    .orderBy(desc('frequency'))\n",
    "    .limit(15)\n",
    "    .select('tag')\n",
    ").cache()"
   ]
  },
  {
   "cell_type": "code",
   "execution_count": null,
   "metadata": {},
   "outputs": [],
   "source": [
    "tagsDF.count()"
   ]
  },
  {
   "cell_type": "markdown",
   "metadata": {},
   "source": [
    "<b>Compute the probabilities:</b>\n",
    "\n",
    "Hint:\n",
    "* join questions with frequent tags\n",
    "* groupBy tag and comments to compute comments_frequency\n",
    "* use sum(comments_frequency) as window call (partitionBy tag) to compute number of row for each tag\n",
    "* use this to compute the probability for each comments value (frequency divided by total count)\n",
    "* group by tag and use collect_list to get the probabilities to an array for each tag"
   ]
  },
  {
   "cell_type": "code",
   "execution_count": null,
   "metadata": {},
   "outputs": [],
   "source": [
    "w = Window().partitionBy('tag').rowsBetween(Window().unboundedPreceding, Window().unboundedFollowing)\n",
    "\n",
    "tag_probabilities = (\n",
    "    questionsDF\n",
    "    .withColumn('tag', explode('tags'))\n",
    "    .join(tagsDF, 'tag')\n",
    "    .groupBy('tag', 'comments')\n",
    "    .agg(\n",
    "        count('*').alias('comments_frequency')\n",
    "    )\n",
    "    .withColumn('tag_count', sum('comments_frequency').over(w))\n",
    "    .withColumn('comments_probability', col('comments_frequency') / col('tag_count'))\n",
    "    .groupBy('tag')\n",
    "    .agg(\n",
    "        collect_list('comments_probability').alias('probabilities')\n",
    "    )\n",
    ")"
   ]
  },
  {
   "cell_type": "markdown",
   "metadata": {},
   "source": [
    "<b>Compute the entropy:</b>\n",
    "\n",
    "Hint:\n",
    "* use AGGREGATE\n",
    "* define the anonymous function to compute the entropy\n",
    " * S = -sum(x * log(x))"
   ]
  },
  {
   "cell_type": "code",
   "execution_count": null,
   "metadata": {},
   "outputs": [],
   "source": [
    "resultDF = (\n",
    "    tag_probabilities\n",
    "    .selectExpr(\n",
    "        'tag',\n",
    "        \"AGGREGATE(probabilities, cast(0 as double), (buffer, value) -> (buffer - log(value) * value)) AS entropy\"\n",
    "    )\n",
    ")"
   ]
  },
  {
   "cell_type": "code",
   "execution_count": null,
   "metadata": {},
   "outputs": [],
   "source": [
    "resultDF.orderBy('entropy').show()"
   ]
  },
  {
   "cell_type": "code",
   "execution_count": 26,
   "metadata": {},
   "outputs": [],
   "source": [
    "spark.stop()"
   ]
  },
  {
   "cell_type": "code",
   "execution_count": null,
   "metadata": {},
   "outputs": [],
   "source": []
  }
 ],
 "metadata": {
  "kernelspec": {
   "display_name": "Python 3",
   "language": "python",
   "name": "python3"
  },
  "language_info": {
   "codemirror_mode": {
    "name": "ipython",
    "version": 3
   },
   "file_extension": ".py",
   "mimetype": "text/x-python",
   "name": "python",
   "nbconvert_exporter": "python",
   "pygments_lexer": "ipython3",
   "version": "3.6.4"
  }
 },
 "nbformat": 4,
 "nbformat_minor": 2
}
