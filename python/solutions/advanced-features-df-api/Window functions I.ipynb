{
 "cells": [
  {
   "cell_type": "markdown",
   "metadata": {},
   "source": [
    "# Window functions\n",
    "\n",
    "In this notebook you will:\n",
    "* solve analytical question using window functions"
   ]
  },
  {
   "cell_type": "code",
   "execution_count": null,
   "metadata": {},
   "outputs": [],
   "source": [
    "from pyspark.sql import SparkSession\n",
    "from pyspark.sql.functions import col, count, unix_timestamp, row_number, lead, avg\n",
    "from pyspark.sql import Window\n",
    "\n",
    "import os"
   ]
  },
  {
   "cell_type": "code",
   "execution_count": null,
   "metadata": {},
   "outputs": [],
   "source": [
    "spark = (\n",
    "    SparkSession\n",
    "    .builder\n",
    "    .appName('WF I')\n",
    "    .getOrCreate()\n",
    ")"
   ]
  },
  {
   "cell_type": "markdown",
   "metadata": {},
   "source": [
    "# Task 1\n",
    "\n",
    "* compute avg time between two consecutive answers for each user that answered at least 2 questions"
   ]
  },
  {
   "cell_type": "code",
   "execution_count": null,
   "metadata": {},
   "outputs": [],
   "source": [
    "base_path = os.getcwd()\n",
    "\n",
    "project_path = ('/').join(base_path.split('/')[0:-3]) \n",
    "\n",
    "data_input_path = os.path.join(project_path, 'data/answers')"
   ]
  },
  {
   "cell_type": "code",
   "execution_count": null,
   "metadata": {},
   "outputs": [],
   "source": [
    "answersDF = (\n",
    "    spark\n",
    "    .read\n",
    "    .option('path', data_input_path)\n",
    "    .load()\n",
    ").cache()"
   ]
  },
  {
   "cell_type": "markdown",
   "metadata": {},
   "source": [
    "<b>Take only users that answered at least 2 questions:</b>\n",
    "\n",
    "Hint:\n",
    "* Use count as a window function\n",
    "* Create the window per user\n",
    "* Filter only users with count > 1"
   ]
  },
  {
   "cell_type": "code",
   "execution_count": null,
   "metadata": {},
   "outputs": [],
   "source": [
    "w = (\n",
    "    Window()\n",
    "    .partitionBy('user_id')\n",
    "    .orderBy('creation_date')\n",
    "    .rowsBetween(Window().unboundedPreceding, Window().unboundedFollowing)\n",
    ")\n",
    "\n",
    "data = (\n",
    "    answersDF\n",
    "    .withColumn('r', count('*').over(w))\n",
    "    .filter(col('r') > 1)\n",
    ")"
   ]
  },
  {
   "cell_type": "code",
   "execution_count": null,
   "metadata": {},
   "outputs": [],
   "source": [
    "data.orderBy('user_id', 'answer_id').show(n=5)"
   ]
  },
  {
   "cell_type": "markdown",
   "metadata": {},
   "source": [
    "<b>Compute the average time between answers:</b>\n",
    "\n",
    "Hint:\n",
    "* Define new window also per user but sorted by creation_date\n",
    "* Use lead function to add new column which contains the next answer\n",
    "* Compute the time difference (use unix_timestamp)\n",
    "* Group by user and compute the average"
   ]
  },
  {
   "cell_type": "code",
   "execution_count": null,
   "metadata": {},
   "outputs": [],
   "source": [
    "w2 = Window().partitionBy('user_id').orderBy('creation_date')\n",
    "\n",
    "resultDF = (\n",
    "    data\n",
    "    .withColumn('next_answer', lead('creation_date').over(w2))\n",
    "    .filter(col('next_answer').isNotNull())\n",
    "    .withColumn('diff', unix_timestamp(col('next_answer')) - unix_timestamp(col('creation_date')))\n",
    "    .select('user_id', 'r', 'diff')\n",
    "    .groupBy('user_id')\n",
    "    .agg(\n",
    "        avg('diff').alias('avg_response_period')\n",
    "    )\n",
    "    .orderBy('avg_response_period')\n",
    ")"
   ]
  },
  {
   "cell_type": "code",
   "execution_count": null,
   "metadata": {},
   "outputs": [],
   "source": [
    "resultDF.show()"
   ]
  },
  {
   "cell_type": "code",
   "execution_count": null,
   "metadata": {},
   "outputs": [],
   "source": [
    "spark.stop()"
   ]
  },
  {
   "cell_type": "code",
   "execution_count": null,
   "metadata": {},
   "outputs": [],
   "source": []
  }
 ],
 "metadata": {
  "kernelspec": {
   "display_name": "Python 3",
   "language": "python",
   "name": "python3"
  },
  "language_info": {
   "codemirror_mode": {
    "name": "ipython",
    "version": 3
   },
   "file_extension": ".py",
   "mimetype": "text/x-python",
   "name": "python",
   "nbconvert_exporter": "python",
   "pygments_lexer": "ipython3",
   "version": "3.6.8"
  }
 },
 "nbformat": 4,
 "nbformat_minor": 2
}
