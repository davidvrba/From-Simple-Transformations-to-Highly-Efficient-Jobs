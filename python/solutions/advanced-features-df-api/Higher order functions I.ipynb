{
 "cells": [
  {
   "cell_type": "markdown",
   "metadata": {},
   "source": [
    "# Higher Order Functions\n",
    "\n",
    "In this notebook you will solve two questions using higher order functions"
   ]
  },
  {
   "cell_type": "code",
   "execution_count": null,
   "metadata": {},
   "outputs": [],
   "source": [
    "from pyspark.sql import SparkSession\n",
    "from pyspark.sql.functions import col, split, collect_list, expr, array_join\n",
    "\n",
    "import os"
   ]
  },
  {
   "cell_type": "code",
   "execution_count": null,
   "metadata": {},
   "outputs": [],
   "source": [
    "spark = (\n",
    "    SparkSession\n",
    "    .builder\n",
    "    .appName('HOF I')\n",
    "    .getOrCreate()\n",
    ")"
   ]
  },
  {
   "cell_type": "markdown",
   "metadata": {},
   "source": [
    "# Task I\n",
    "\n",
    "* convert question tags (String in json file) to an array using HOFs"
   ]
  },
  {
   "cell_type": "code",
   "execution_count": null,
   "metadata": {},
   "outputs": [],
   "source": [
    "base_path = os.getcwd()\n",
    "\n",
    "project_path = ('/').join(base_path.split('/')[0:-3]) \n",
    "\n",
    "questions_json_input_path = os.path.join(project_path, 'data/questions-json')\n",
    "\n",
    "questions_input_path = os.path.join(project_path, 'output/questions-transformed')"
   ]
  },
  {
   "cell_type": "markdown",
   "metadata": {},
   "source": [
    "#### Read the data from JSON:"
   ]
  },
  {
   "cell_type": "code",
   "execution_count": null,
   "metadata": {},
   "outputs": [],
   "source": [
    "questionsDF = (\n",
    "    spark\n",
    "    .read\n",
    "    .format('json')\n",
    "    .option('path', questions_json_input_path)\n",
    "    .load()\n",
    ")"
   ]
  },
  {
   "cell_type": "markdown",
   "metadata": {},
   "source": [
    "#### Transform tags:\n",
    "\n",
    "Hint:\n",
    "* first split the string using to an array\n",
    " * use split\n",
    "* use TRANSFORM in sql expression\n",
    " * use regexp_replace on each element"
   ]
  },
  {
   "cell_type": "code",
   "execution_count": null,
   "metadata": {},
   "outputs": [],
   "source": [
    "(\n",
    "    questionsDF\n",
    "    .withColumn('tags', split('tags', '><'))\n",
    "    .selectExpr(\n",
    "        '*',\n",
    "        \"TRANSFORM(tags, value -> regexp_replace(value, '(>|<)', '')) AS tags_arr\"\n",
    "    )\n",
    "    .drop('tags')\n",
    "    .withColumnRenamed('tags_arr', 'tags')\n",
    "    .select('question_id', 'title', 'tags')\n",
    ").show(truncate=30, n=10)"
   ]
  },
  {
   "cell_type": "markdown",
   "metadata": {},
   "source": [
    "# Task II\n",
    "\n",
    "* For each user concatenate titles of questions he answered to a single string using HOFs.\n",
    "* First do it using HOFs\n",
    "* Second do it using native function array_join"
   ]
  },
  {
   "cell_type": "code",
   "execution_count": null,
   "metadata": {},
   "outputs": [],
   "source": [
    "questionsDF = (\n",
    "    spark\n",
    "    .read\n",
    "    .option('path', questions_input_path)\n",
    "    .load()\n",
    ")"
   ]
  },
  {
   "cell_type": "markdown",
   "metadata": {},
   "source": [
    "#### Concat the titles:\n",
    "\n",
    "Hint:\n",
    "* collect the titles to an array for each user\n",
    " * use groupBy and collect_list\n",
    "* use AGGREGATE in SQL expression to concat the array to a single string\n",
    "* remove first 3 chars using substring"
   ]
  },
  {
   "cell_type": "code",
   "execution_count": null,
   "metadata": {},
   "outputs": [],
   "source": [
    "(\n",
    "    questionsDF\n",
    "    .groupBy('user_id')\n",
    "    .agg(\n",
    "        collect_list('title').alias('title')\n",
    "    )\n",
    "    .selectExpr(\n",
    "        '*',\n",
    "        \"AGGREGATE(title, cast('' AS string), (buffer, value) -> (concat(buffer, ' - ', value))) AS total_title\"\n",
    "    )\n",
    "    .withColumn('total_title', expr(\"substring(total_title, 4, length(total_title))\"))\n",
    ").show(truncate=50, n=10)"
   ]
  },
  {
   "cell_type": "markdown",
   "metadata": {},
   "source": [
    "#### Do the same using array_join:"
   ]
  },
  {
   "cell_type": "code",
   "execution_count": null,
   "metadata": {},
   "outputs": [],
   "source": [
    "(\n",
    "    questionsDF\n",
    "    .groupBy('user_id')\n",
    "    .agg(\n",
    "        collect_list('title').alias('title')\n",
    "    )\n",
    "    .withColumn('total_title', array_join(col('title'), ' - '))\n",
    "    .select('total_title')\n",
    ").show(truncate=90, n=10)"
   ]
  },
  {
   "cell_type": "code",
   "execution_count": null,
   "metadata": {},
   "outputs": [],
   "source": [
    "spark.stop()"
   ]
  },
  {
   "cell_type": "code",
   "execution_count": null,
   "metadata": {},
   "outputs": [],
   "source": []
  }
 ],
 "metadata": {
  "kernelspec": {
   "display_name": "Python 3",
   "language": "python",
   "name": "python3"
  },
  "language_info": {
   "codemirror_mode": {
    "name": "ipython",
    "version": 3
   },
   "file_extension": ".py",
   "mimetype": "text/x-python",
   "name": "python",
   "nbconvert_exporter": "python",
   "pygments_lexer": "ipython3",
   "version": "3.6.8"
  }
 },
 "nbformat": 4,
 "nbformat_minor": 2
}
