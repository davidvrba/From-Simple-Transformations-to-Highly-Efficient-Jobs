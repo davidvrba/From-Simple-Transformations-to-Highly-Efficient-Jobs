{
 "cells": [
  {
   "cell_type": "markdown",
   "metadata": {},
   "source": [
    "## Consume data from Kafka stream\n",
    "\n",
    "* in the previous ntb you published some data to Kafka stream\n",
    "* read and process the data from the stream"
   ]
  },
  {
   "cell_type": "code",
   "execution_count": 11,
   "metadata": {},
   "outputs": [],
   "source": [
    "from pyspark.sql import SparkSession\n",
    "from pyspark.sql.functions import lit, col, udf, pandas_udf, PandasUDFType\n",
    "from scipy.stats import poisson\n",
    "import pandas as pd\n",
    "import os\n",
    "from pyspark.sql.types import *\n",
    "\n",
    "spark = (\n",
    "    SparkSession\n",
    "    .builder\n",
    "    .appName('kafka_test')\n",
    "    .config(\"spark.jars.packages\", \"org.apache.spark:spark-sql-kafka-0-10_2.12:3.0.0-preview\")\n",
    "    .getOrCreate()\n",
    ")"
   ]
  },
  {
   "cell_type": "code",
   "execution_count": 12,
   "metadata": {},
   "outputs": [
    {
     "data": {
      "text/plain": [
       "'3.0.0-preview'"
      ]
     },
     "execution_count": 12,
     "metadata": {},
     "output_type": "execute_result"
    }
   ],
   "source": [
    "spark.version"
   ]
  },
  {
   "cell_type": "code",
   "execution_count": 13,
   "metadata": {},
   "outputs": [],
   "source": [
    "base_path = os.getcwd()\n",
    "\n",
    "project_path = ('/').join(base_path.split('/')[0:-3]) \n",
    "\n",
    "checkpoint_location = os.path.join(project_path, 'output/streaming-output/checkpoint/4')"
   ]
  },
  {
   "cell_type": "code",
   "execution_count": 14,
   "metadata": {},
   "outputs": [],
   "source": [
    "stream_schema = StructType(\n",
    "    [\n",
    "        StructField('question_id', LongType()),\n",
    "        StructField('creation_date', TimestampType()),\n",
    "        StructField('title', StringType()),\n",
    "        StructField('r', IntegerType())\n",
    "    ]\n",
    ")"
   ]
  },
  {
   "cell_type": "code",
   "execution_count": 15,
   "metadata": {},
   "outputs": [],
   "source": [
    "streaming_query = (\n",
    "    spark\n",
    "    .readStream\n",
    "    .format('kafka')\n",
    "    .option(\"kafka.bootstrap.servers\", \"localhost:9092\")\n",
    "    .option(\"subscribe\", \"myTop\")\n",
    "    .option('startingOffsets', 'earliest')\n",
    "    .load()\n",
    ")"
   ]
  },
  {
   "cell_type": "code",
   "execution_count": 16,
   "metadata": {},
   "outputs": [],
   "source": [
    "parsed_data = (\n",
    "    streaming_query\n",
    "    .selectExpr(\"CAST(key AS STRING)\", \"CAST(value AS STRING)\")\n",
    ")"
   ]
  },
  {
   "cell_type": "code",
   "execution_count": 19,
   "metadata": {},
   "outputs": [],
   "source": [
    "q = (\n",
    "    parsed_data\n",
    "    .writeStream\n",
    "    .format('memory')\n",
    "    .outputMode('append')\n",
    "    .queryName('my_stream')\n",
    "    .start()\n",
    ")"
   ]
  },
  {
   "cell_type": "code",
   "execution_count": 20,
   "metadata": {},
   "outputs": [
    {
     "name": "stdout",
     "output_type": "stream",
     "text": [
      "+----+--------------------+\n",
      "| key|               value|\n",
      "+----+--------------------+\n",
      "|null|This is message n...|\n",
      "|null|  This is my message|\n",
      "|null|[9076, 2011-04-25...|\n",
      "|null|[30283, 2012-06-1...|\n",
      "|null|[21633, 2012-02-2...|\n",
      "|null|[8286, 2011-04-08...|\n",
      "|null|[26591, 2012-03-2...|\n",
      "|null|[10631, 2011-05-3...|\n",
      "|null|[6690, 2011-03-11...|\n",
      "|null|[17913, 2011-12-0...|\n",
      "|null|[15992, 2011-10-2...|\n",
      "|null|[43207, 2012-11-0...|\n",
      "|null|[20525, 2012-02-0...|\n",
      "|null|[32947, 2012-07-2...|\n",
      "|null|[30949, 2012-06-2...|\n",
      "|null|[32876, 2012-07-2...|\n",
      "|null|[43756, 2012-11-0...|\n",
      "|null|[40890, 2012-10-1...|\n",
      "|null|[31142, 2012-07-0...|\n",
      "|null|[32360, 2012-07-1...|\n",
      "+----+--------------------+\n",
      "only showing top 20 rows\n",
      "\n"
     ]
    }
   ],
   "source": [
    "spark.sql(\"select * from my_stream\").show()"
   ]
  },
  {
   "cell_type": "code",
   "execution_count": 18,
   "metadata": {},
   "outputs": [],
   "source": [
    "q.stop()"
   ]
  },
  {
   "cell_type": "code",
   "execution_count": null,
   "metadata": {},
   "outputs": [],
   "source": [
    "spark.stop()"
   ]
  }
 ],
 "metadata": {
  "kernelspec": {
   "display_name": "Python 3",
   "language": "python",
   "name": "python3"
  },
  "language_info": {
   "codemirror_mode": {
    "name": "ipython",
    "version": 3
   },
   "file_extension": ".py",
   "mimetype": "text/x-python",
   "name": "python",
   "nbconvert_exporter": "python",
   "pygments_lexer": "ipython3",
   "version": "3.7.6"
  }
 },
 "nbformat": 4,
 "nbformat_minor": 2
}
