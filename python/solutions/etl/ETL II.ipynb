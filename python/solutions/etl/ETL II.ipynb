{
 "cells": [
  {
   "cell_type": "markdown",
   "metadata": {},
   "source": [
    "# Task I\n",
    "\n",
    "* Create parquet dataset with the structure user_id, tag_info, where tag_info is array of structs and each struct has two subfields: tag and its frequency. \n",
    "    * This frequency measures how many times the user answered a question with this tag. \n",
    "    * Also sort the tags in the array according to the frequency in desc order\n",
    "* This notebook prepares data for the analytical-app ntb."
   ]
  },
  {
   "cell_type": "code",
   "execution_count": null,
   "metadata": {},
   "outputs": [],
   "source": [
    "from pyspark.sql import SparkSession\n",
    "from pyspark.sql.functions import (\n",
    "    col, explode, count, struct, collect_list, array_sort, reverse, array, lit, desc, broadcast, slice\n",
    ")\n",
    "\n",
    "import os"
   ]
  },
  {
   "cell_type": "code",
   "execution_count": null,
   "metadata": {},
   "outputs": [],
   "source": [
    "spark = (\n",
    "    SparkSession\n",
    "    .builder\n",
    "    .appName('ETL II')\n",
    "    .getOrCreate()\n",
    ")"
   ]
  },
  {
   "cell_type": "code",
   "execution_count": null,
   "metadata": {},
   "outputs": [],
   "source": [
    "base_path = os.getcwd()\n",
    "\n",
    "project_path = ('/').join(base_path.split('/')[0:-3]) \n",
    "\n",
    "questions_input_path = os.path.join(project_path, 'output/questions-transformed')\n",
    "\n",
    "users_with_tag_output_path = os.path.join(project_path, 'output/users_with_tag')\n",
    "\n",
    "answers_input_path = os.path.join(project_path, 'data/answers')"
   ]
  },
  {
   "cell_type": "code",
   "execution_count": null,
   "metadata": {},
   "outputs": [],
   "source": [
    "answersDF = (\n",
    "    spark\n",
    "    .read\n",
    "    .option('path', answers_input_path)\n",
    "    .load()\n",
    ")\n",
    "\n",
    "questionsDF = (\n",
    "    spark\n",
    "    .read\n",
    "    .option('path', questions_input_path)\n",
    "    .load()\n",
    ")"
   ]
  },
  {
   "cell_type": "markdown",
   "metadata": {},
   "source": [
    "#### For each user get list of his/her tag_info\n",
    "\n",
    "Hint:\n",
    "* get this info from questions he/she answered\n",
    "* join questions with answers to see tags of answered questions for each user\n",
    "* explode tags, groupBy user and tag to get the frequency of each tag for each user\n",
    "* use struct function to relate tag with its frequency\n",
    "* groupBy user and use collect_list to get the tag_info for each user\n",
    "* use functions array_sort and reverse to get the order"
   ]
  },
  {
   "cell_type": "code",
   "execution_count": null,
   "metadata": {},
   "outputs": [],
   "source": [
    "users_with_tags = (\n",
    "    questionsDF.alias('q')\n",
    "    .join(answersDF.alias('a'), 'question_id')\n",
    "    .filter(col('a.user_id').isNotNull())\n",
    "    .filter(col('q.tags').isNotNull())\n",
    "    .select(\n",
    "        col('a.user_id').alias('user_id'),\n",
    "        explode('q.tags').alias('tag')\n",
    "    )\n",
    "    .groupBy('user_id', 'tag')\n",
    "    .agg(\n",
    "        count('*').alias('frequency')\n",
    "    )\n",
    "    .select('user_id', struct('frequency', 'tag').alias('tag_info'))\n",
    "    .groupBy('user_id')\n",
    "    .agg(\n",
    "        collect_list('tag_info').alias('tag_info')\n",
    "    )\n",
    "    .select('user_id', reverse(array_sort('tag_info')).alias('tag_info'))\n",
    ")"
   ]
  },
  {
   "cell_type": "code",
   "execution_count": null,
   "metadata": {},
   "outputs": [],
   "source": [
    "users_with_tags.show(truncate=80, n=5)"
   ]
  },
  {
   "cell_type": "code",
   "execution_count": null,
   "metadata": {},
   "outputs": [],
   "source": [
    "users_with_tags.count()"
   ]
  },
  {
   "cell_type": "code",
   "execution_count": null,
   "metadata": {},
   "outputs": [],
   "source": [
    "(\n",
    "    users_with_tags\n",
    "    .repartition(4)\n",
    "    .write\n",
    "    .mode('overwrite')\n",
    "    .option('path', users_with_tag_output_path)\n",
    "    .save()\n",
    ")"
   ]
  },
  {
   "cell_type": "code",
   "execution_count": null,
   "metadata": {},
   "outputs": [],
   "source": [
    "spark.stop()"
   ]
  },
  {
   "cell_type": "code",
   "execution_count": null,
   "metadata": {},
   "outputs": [],
   "source": []
  }
 ],
 "metadata": {
  "kernelspec": {
   "display_name": "Python 3",
   "language": "python",
   "name": "python3"
  },
  "language_info": {
   "codemirror_mode": {
    "name": "ipython",
    "version": 3
   },
   "file_extension": ".py",
   "mimetype": "text/x-python",
   "name": "python",
   "nbconvert_exporter": "python",
   "pygments_lexer": "ipython3",
   "version": "3.6.8"
  }
 },
 "nbformat": 4,
 "nbformat_minor": 2
}
