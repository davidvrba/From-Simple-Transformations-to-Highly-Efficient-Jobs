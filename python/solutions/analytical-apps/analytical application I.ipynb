{
 "cells": [
  {
   "cell_type": "markdown",
   "metadata": {},
   "source": [
    "# Task I - naive recomendation system\n",
    "\n",
    "* Suppose you will get a new question with some tags and you want to find a list of relevant users that are likely to answer question with these tags.  \n",
    "* Use the information about users that you saved in ETL-III ntb.\n",
    "* Create a function that takes as input tags from the new question and returns a list of n relevant users."
   ]
  },
  {
   "cell_type": "code",
   "execution_count": 20,
   "metadata": {},
   "outputs": [],
   "source": [
    "from pyspark.sql import SparkSession\n",
    "from pyspark.sql.functions import (\n",
    "    col, explode, count, struct, collect_list, array_sort, reverse, array, lit, desc, broadcast, slice, sum\n",
    ")\n",
    "\n",
    "import os"
   ]
  },
  {
   "cell_type": "code",
   "execution_count": 2,
   "metadata": {},
   "outputs": [],
   "source": [
    "spark = (\n",
    "    SparkSession\n",
    "    .builder\n",
    "    .appName('Analytical app')\n",
    "    .getOrCreate()\n",
    ")"
   ]
  },
  {
   "cell_type": "code",
   "execution_count": 3,
   "metadata": {},
   "outputs": [],
   "source": [
    "base_path = os.getcwd()\n",
    "\n",
    "project_path = ('/').join(base_path.split('/')[0:-3]) \n",
    "\n",
    "questions_input_path = os.path.join(project_path, 'output/questions-transformed')\n",
    "\n",
    "users_with_tag_output_path = os.path.join(project_path, 'output/users_with_tag')\n",
    "\n",
    "#answers_input_path = os.path.join(project_path, 'data/answers')"
   ]
  },
  {
   "cell_type": "code",
   "execution_count": 11,
   "metadata": {},
   "outputs": [],
   "source": [
    "#local_tags = answersDF.select('tags').take(1)[0]['tags']"
   ]
  },
  {
   "cell_type": "code",
   "execution_count": 12,
   "metadata": {},
   "outputs": [],
   "source": [
    "local_tags = [\n",
    "  'homework-and-exercises',\n",
    "  'special-relativity',\n",
    "  'field-theory',\n",
    "  'lorentz-symmetry',\n",
    "  'phase-space'\n",
    "]"
   ]
  },
  {
   "cell_type": "code",
   "execution_count": 4,
   "metadata": {},
   "outputs": [],
   "source": [
    "users_with_tags = (    \n",
    "    spark\n",
    "    .read\n",
    "    .option('path', users_with_tag_output_path)\n",
    "    .load()\n",
    ").cache()\n",
    "\n",
    "questionsDF = (\n",
    "    spark\n",
    "    .read\n",
    "    .option('path', questions_input_path)\n",
    "    .load()\n",
    ")"
   ]
  },
  {
   "cell_type": "code",
   "execution_count": 14,
   "metadata": {},
   "outputs": [],
   "source": [
    "\n",
    "\n",
    "question = questionsDF.select('question_id', 'tags').limit(1)"
   ]
  },
  {
   "cell_type": "code",
   "execution_count": 24,
   "metadata": {},
   "outputs": [
    {
     "name": "stdout",
     "output_type": "stream",
     "text": [
      "+-----------+--------------------------------------------------------------------------------+\n",
      "|question_id|                                                                           users|\n",
      "+-----------+--------------------------------------------------------------------------------+\n",
      "|     167813|[1325, 26969, 2451, 104696, 9887, 392, 114696, 26076, 1492, 8563, 50583, 1236...|\n",
      "+-----------+--------------------------------------------------------------------------------+\n",
      "\n"
     ]
    }
   ],
   "source": [
    "(\n",
    "    question\n",
    "    .crossJoin(users_with_tags)\n",
    "    .withColumnRenamed('tags', 'b')\n",
    "    .selectExpr(\n",
    "        'question_id',\n",
    "        'user_id',\n",
    "        \"FILTER(tag_info, x -> array_contains(b, x.tag)) AS new_tag\"\n",
    "    )\n",
    "    .withColumn('tag_frequencies', col('new_tag.frequency'))\n",
    "    .selectExpr(\n",
    "        'question_id',\n",
    "        'user_id',\n",
    "        \"AGGREGATE(tag_frequencies, CAST(0 AS long), (value, buffer) -> value + buffer) AS question_relevancy\"\n",
    "    )\n",
    "    .orderBy(desc('question_relevancy'))\n",
    "    .withColumn('users', struct('question_relevancy', 'user_id'))\n",
    "    .groupBy('question_id')\n",
    "    .agg(collect_list('users').alias('users'))\n",
    "    .withColumn('users', reverse(array_sort('users')))\n",
    "    .withColumn('users', col('users.user_id'))\n",
    ").show(truncate=80)"
   ]
  },
  {
   "cell_type": "code",
   "execution_count": 62,
   "metadata": {},
   "outputs": [],
   "source": [
    "def get_relevant_users(users_with_tags, question, n_users):\n",
    "    return (\n",
    "        question\n",
    "        .crossJoin(broadcast(users_with_tags))\n",
    "        .withColumnRenamed('tags', 'b')\n",
    "        .selectExpr(\n",
    "            'question_id',\n",
    "            'user_id',\n",
    "            \"FILTER(tag_info, x -> array_contains(b, x.tag)) AS new_tag\"\n",
    "        )\n",
    "        .withColumn('tag_frequencies', col('new_tag.frequency'))\n",
    "        .selectExpr(\n",
    "            'question_id',\n",
    "            'user_id',\n",
    "            \"AGGREGATE(tag_frequencies, CAST(0 AS long), (value, buffer) -> value + buffer) AS question_relevancy\"\n",
    "        )\n",
    "        .orderBy(desc('question_relevancy'))\n",
    "        .withColumn('users', struct('question_relevancy', 'user_id'))\n",
    "        .groupBy('question_id')\n",
    "        .agg(collect_list('users').alias('users'))\n",
    "        .withColumn('users', reverse(array_sort('users')))\n",
    "        .withColumn('users', col('users.user_id'))\n",
    "        .withColumn('users', slice('users', 1, n_users))\n",
    "    )"
   ]
  },
  {
   "cell_type": "code",
   "execution_count": 63,
   "metadata": {},
   "outputs": [
    {
     "name": "stdout",
     "output_type": "stream",
     "text": [
      "+-----------+----------------------------+\n",
      "|question_id|                       users|\n",
      "+-----------+----------------------------+\n",
      "|      32954|[36793, 70392, 21146, 20564]|\n",
      "|      65848| [21146, 36793, 70392, 4521]|\n",
      "|     167813|[36793, 112190, 6764, 21146]|\n",
      "|     121997|[36793, 70392, 20564, 26686]|\n",
      "|     360185|[112190, 5841, 70392, 21146]|\n",
      "+-----------+----------------------------+\n",
      "\n"
     ]
    }
   ],
   "source": [
    "get_relevant_users(users_with_tags, question, 4).show(truncate=70)"
   ]
  },
  {
   "cell_type": "code",
   "execution_count": 15,
   "metadata": {},
   "outputs": [
    {
     "name": "stdout",
     "output_type": "stream",
     "text": [
      "+-----------+--------------------+\n",
      "|question_id|                tags|\n",
      "+-----------+--------------------+\n",
      "|     167813|[homework-and-exe...|\n",
      "+-----------+--------------------+\n",
      "\n"
     ]
    }
   ],
   "source": [
    "question.show()"
   ]
  },
  {
   "cell_type": "code",
   "execution_count": 16,
   "metadata": {},
   "outputs": [],
   "source": [
    "users_tag = (\n",
    "    users_with_tags\n",
    "    .withColumn('tag_info', explode('tag_info'))\n",
    "    .withColumn('tag_freq', col('tag_info.frequency'))\n",
    "    .withColumn('tag', col('tag_info.tag'))\n",
    ").cache()"
   ]
  },
  {
   "cell_type": "code",
   "execution_count": 17,
   "metadata": {},
   "outputs": [
    {
     "name": "stdout",
     "output_type": "stream",
     "text": [
      "+-------+--------------------+--------+----------------+\n",
      "|user_id|            tag_info|tag_freq|             tag|\n",
      "+-------+--------------------+--------+----------------+\n",
      "| 101552|        [1, voltage]|       1|         voltage|\n",
      "| 101552|          [1, power]|       1|           power|\n",
      "| 101552|    [1, electricity]|       1|     electricity|\n",
      "| 101552|[1, electric-curr...|       1|electric-current|\n",
      "|  16530|        [1, gravity]|       1|         gravity|\n",
      "+-------+--------------------+--------+----------------+\n",
      "only showing top 5 rows\n",
      "\n"
     ]
    }
   ],
   "source": [
    "users_tag.show(n=5)"
   ]
  },
  {
   "cell_type": "code",
   "execution_count": 26,
   "metadata": {},
   "outputs": [
    {
     "name": "stdout",
     "output_type": "stream",
     "text": [
      "+-----------+---------------------------------+\n",
      "|question_id|users                            |\n",
      "+-----------+---------------------------------+\n",
      "|167813     |[1325, 26969, 2451, 104696, 9887]|\n",
      "+-----------+---------------------------------+\n",
      "\n"
     ]
    }
   ],
   "source": [
    "(\n",
    "    question\n",
    "    .withColumn('tag', explode('tags'))\n",
    "    .join(users_tag, 'tag')\n",
    "    .groupBy('question_id', 'user_id')\n",
    "    .agg(\n",
    "        sum('tag_freq').alias('relevance')\n",
    "    )\n",
    "    .orderBy(desc('relevance'))\n",
    "    .limit(5)\n",
    "    .groupBy('question_id')\n",
    "    .agg(\n",
    "        collect_list('user_id').alias('users')\n",
    "    )\n",
    ").show(truncate=False)"
   ]
  },
  {
   "cell_type": "code",
   "execution_count": null,
   "metadata": {},
   "outputs": [],
   "source": []
  }
 ],
 "metadata": {
  "kernelspec": {
   "display_name": "Python 3",
   "language": "python",
   "name": "python3"
  },
  "language_info": {
   "codemirror_mode": {
    "name": "ipython",
    "version": 3
   },
   "file_extension": ".py",
   "mimetype": "text/x-python",
   "name": "python",
   "nbconvert_exporter": "python",
   "pygments_lexer": "ipython3",
   "version": "3.6.4"
  }
 },
 "nbformat": 4,
 "nbformat_minor": 2
}
