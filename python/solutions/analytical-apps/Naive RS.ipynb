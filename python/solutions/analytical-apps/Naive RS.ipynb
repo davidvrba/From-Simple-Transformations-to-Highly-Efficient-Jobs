{
 "cells": [
  {
   "cell_type": "markdown",
   "metadata": {},
   "source": [
    "# Task I - naive recomendation system\n",
    "\n",
    "* Suppose you will get a new question with some tags and you want to find a list of relevant users that are likely to answer question with these tags.  \n",
    "* Use the information about users that you saved in ETL-III ntb.\n",
    "* Create a function that takes as input tags from the new question and returns a list of n relevant users."
   ]
  },
  {
   "cell_type": "code",
   "execution_count": null,
   "metadata": {},
   "outputs": [],
   "source": [
    "from pyspark.sql import SparkSession\n",
    "from pyspark.sql.functions import (\n",
    "    col, explode, count, struct, collect_list, array_sort, reverse, array, lit, desc, broadcast, slice, sum, row_number\n",
    ")\n",
    "\n",
    "from pyspark.sql import Window\n",
    "import os"
   ]
  },
  {
   "cell_type": "code",
   "execution_count": null,
   "metadata": {},
   "outputs": [],
   "source": [
    "spark = (\n",
    "    SparkSession\n",
    "    .builder\n",
    "    .appName('Naive RS')\n",
    "    .getOrCreate()\n",
    ")"
   ]
  },
  {
   "cell_type": "code",
   "execution_count": null,
   "metadata": {},
   "outputs": [],
   "source": [
    "base_path = os.getcwd()\n",
    "\n",
    "project_path = ('/').join(base_path.split('/')[0:-3]) \n",
    "\n",
    "questions_input_path = os.path.join(project_path, 'output/questions-transformed')\n",
    "\n",
    "users_with_tag_output_path = os.path.join(project_path, 'output/users_with_tag')"
   ]
  },
  {
   "cell_type": "code",
   "execution_count": null,
   "metadata": {},
   "outputs": [],
   "source": [
    "# local_tags = answersDF.select('tags').take(1)[0]['tags']"
   ]
  },
  {
   "cell_type": "code",
   "execution_count": null,
   "metadata": {},
   "outputs": [],
   "source": [
    "local_tags = [\n",
    "  'homework-and-exercises',\n",
    "  'special-relativity',\n",
    "  'field-theory',\n",
    "  'lorentz-symmetry',\n",
    "  'phase-space'\n",
    "]"
   ]
  },
  {
   "cell_type": "code",
   "execution_count": null,
   "metadata": {},
   "outputs": [],
   "source": [
    "users_with_tags = (    \n",
    "    spark\n",
    "    .read\n",
    "    .option('path', users_with_tag_output_path)\n",
    "    .load()\n",
    ").cache()\n",
    "\n",
    "questionsDF = (\n",
    "    spark\n",
    "    .read\n",
    "    .option('path', questions_input_path)\n",
    "    .load()\n",
    ")"
   ]
  },
  {
   "cell_type": "markdown",
   "metadata": {},
   "source": [
    "#### Find relevant users\n",
    "\n",
    "Hint:\n",
    "* Compute relevance score\n",
    "* Add the local_tags as a new column to users_with_tags\n",
    "* Compare the arrays using HOFs (keep only tags that are in the request)\n",
    "* Sum up the frequencies to get the relevance score\n",
    "* Sort by relevancy and keep n top users\n",
    "* Collect them to an array and sort the array using array_sort and reverse"
   ]
  },
  {
   "cell_type": "code",
   "execution_count": null,
   "metadata": {},
   "outputs": [],
   "source": [
    "(\n",
    "    users_with_tags\n",
    "    .withColumn('b', array([lit(x) for x in local_tags]))\n",
    "    .selectExpr(\n",
    "        'user_id',\n",
    "        \"FILTER(tag_info, x -> array_contains(b, x.tag)) AS new_tag\"\n",
    "    )\n",
    "    .withColumn('tag_frequencies', col('new_tag.frequency'))\n",
    "    .selectExpr(\n",
    "        'user_id',\n",
    "        \"AGGREGATE(tag_frequencies, CAST(0 AS long), (value, buffer) -> value + buffer) AS question_relevancy\"\n",
    "    )\n",
    "    .orderBy(desc('question_relevancy'))\n",
    "    .withColumn('users', struct('question_relevancy', 'user_id'))\n",
    "    .limit(10)\n",
    "    .agg(collect_list('users').alias('users'))\n",
    "    .withColumn('users', reverse(array_sort('users')))\n",
    "    .withColumn('users', col('users.user_id'))\n",
    ").show(truncate=80)"
   ]
  },
  {
   "cell_type": "markdown",
   "metadata": {},
   "source": [
    "#### Define a function\n",
    "\n",
    "Hint:\n",
    "* this function should \n",
    "    * take as input usrs_with_tags, tags, n_users\n",
    "    * return a dataframe with n top users sorted by the relevance"
   ]
  },
  {
   "cell_type": "code",
   "execution_count": null,
   "metadata": {},
   "outputs": [],
   "source": [
    "def get_relevant_users(users_with_tags, tags, n_users):\n",
    "    return (\n",
    "        users_with_tags\n",
    "        .withColumn('tags', array([lit(x) for x in tags]))\n",
    "        .selectExpr(\n",
    "            'user_id',\n",
    "            \"FILTER(tag_info, x -> array_contains(tags, x.tag)) AS new_tag\"\n",
    "        )\n",
    "        .withColumn('tag_frequencies', col('new_tag.frequency'))\n",
    "        .selectExpr(\n",
    "            'user_id',\n",
    "            \"AGGREGATE(tag_frequencies, CAST(0 AS long), (value, buffer) -> value + buffer) AS question_relevancy\"\n",
    "        )\n",
    "        .orderBy(desc('question_relevancy'))\n",
    "        .withColumn('users', struct('question_relevancy', 'user_id'))\n",
    "        .limit(n_users)\n",
    "        .agg(collect_list('users').alias('users'))\n",
    "        .withColumn('users', reverse(array_sort('users')))\n",
    "        .withColumn('users', col('users.user_id'))\n",
    "    )"
   ]
  },
  {
   "cell_type": "code",
   "execution_count": null,
   "metadata": {},
   "outputs": [],
   "source": [
    "get_relevant_users(users_with_tags, local_tags, 4).show(truncate=90)"
   ]
  },
  {
   "cell_type": "markdown",
   "metadata": {},
   "source": [
    "#### Task II\n",
    "\n",
    "* Now assume that question tags are comming as a dataframe\n",
    "* Modify the query so it efficiently finds users for each question"
   ]
  },
  {
   "cell_type": "code",
   "execution_count": null,
   "metadata": {},
   "outputs": [],
   "source": [
    "tagsDF = questionsDF.select('question_id', 'tags').limit(5)"
   ]
  },
  {
   "cell_type": "code",
   "execution_count": null,
   "metadata": {},
   "outputs": [],
   "source": [
    "tagsDF.show(truncate=False)"
   ]
  },
  {
   "cell_type": "markdown",
   "metadata": {},
   "source": [
    "#### Transform users_with_tags\n",
    "\n",
    "* explode tag_info\n",
    "* add a new column tag on which you will join"
   ]
  },
  {
   "cell_type": "code",
   "execution_count": null,
   "metadata": {},
   "outputs": [],
   "source": [
    "users_tag = (\n",
    "    users_with_tags\n",
    "    .withColumn('tag_info', explode('tag_info'))\n",
    "    .withColumn('tag_freq', col('tag_info.frequency'))\n",
    "    .withColumn('tag', col('tag_info.tag'))\n",
    ").cache()"
   ]
  },
  {
   "cell_type": "code",
   "execution_count": null,
   "metadata": {},
   "outputs": [],
   "source": [
    "users_tag.show(n=5)"
   ]
  },
  {
   "cell_type": "markdown",
   "metadata": {},
   "source": [
    "#### Get top n users\n",
    "\n",
    "Hint:\n",
    "* use two techniques:\n",
    "    1. use row_number as a window function to filter only for n top users\n",
    "    2. use collect the users as struct with relevance and user_id and use array_sort, reverse, slice to get top n"
   ]
  },
  {
   "cell_type": "code",
   "execution_count": null,
   "metadata": {},
   "outputs": [],
   "source": [
    "# First technique:\n",
    "\n",
    "n = 5\n",
    "\n",
    "(\n",
    "    tagsDF\n",
    "    .withColumn('tag', explode('tags'))\n",
    "    .join(users_tag, 'tag')\n",
    "    .groupBy('question_id', 'user_id')\n",
    "    .agg(\n",
    "        sum('tag_freq').alias('relevance')\n",
    "    )\n",
    "    .withColumn('r', row_number().over(Window().partitionBy('question_id').orderBy(desc('relevance'))))\n",
    "    .filter(col('r') <= n)\n",
    "    .groupBy('question_id')\n",
    "    .agg(\n",
    "        collect_list(struct('relevance', 'user_id')).alias('users')\n",
    "    )\n",
    "    .withColumn('users', reverse(array_sort('users')))\n",
    "    .withColumn('users', col('users.user_id'))\n",
    "    .orderBy('question_id')\n",
    ").show(truncate=80)"
   ]
  },
  {
   "cell_type": "code",
   "execution_count": null,
   "metadata": {},
   "outputs": [],
   "source": [
    "# Second technique:\n",
    "\n",
    "(\n",
    "    tagsDF\n",
    "    .withColumn('tag', explode('tags'))\n",
    "    .join(users_tag, 'tag')\n",
    "    .groupBy('question_id', 'user_id')\n",
    "    .agg(\n",
    "        sum('tag_freq').alias('relevance')\n",
    "    )\n",
    "    .groupBy('question_id')\n",
    "    .agg(\n",
    "        collect_list(struct('relevance', 'user_id')).alias('users')\n",
    "    )\n",
    "    .withColumn('users', reverse(array_sort('users')))\n",
    "    .withColumn('users', col('users.user_id'))\n",
    "    .withColumn('users', slice('users', 1, n))\n",
    "    .orderBy('question_id')\n",
    ").show(truncate=80)"
   ]
  },
  {
   "cell_type": "code",
   "execution_count": null,
   "metadata": {},
   "outputs": [],
   "source": [
    "spark.stop()"
   ]
  }
 ],
 "metadata": {
  "kernelspec": {
   "display_name": "Python 3",
   "language": "python",
   "name": "python3"
  },
  "language_info": {
   "codemirror_mode": {
    "name": "ipython",
    "version": 3
   },
   "file_extension": ".py",
   "mimetype": "text/x-python",
   "name": "python",
   "nbconvert_exporter": "python",
   "pygments_lexer": "ipython3",
   "version": "3.6.8"
  }
 },
 "nbformat": 4,
 "nbformat_minor": 2
}
