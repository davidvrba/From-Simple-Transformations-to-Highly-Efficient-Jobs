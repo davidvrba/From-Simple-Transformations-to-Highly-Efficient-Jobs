{
 "cells": [
  {
   "cell_type": "markdown",
   "metadata": {},
   "source": [
    "# Task I\n",
    "\n",
    "* Suppose you will get a new question with some tags and you want to find a list of relevant users that are likely to answer question with these tags.  Use the information about users that you saved in Analytical-application-I ntb.\n",
    "* Create a function that takes as input tags from the new question and returns a list of n relevant users."
   ]
  },
  {
   "cell_type": "code",
   "execution_count": null,
   "metadata": {},
   "outputs": [],
   "source": [
    "from pyspark.sql import SparkSession\n",
    "from pyspark.sql.functions import (\n",
    "    col, explode, count, struct, collect_list, array_sort, reverse, array, lit, desc, broadcast, slice\n",
    ")\n",
    "\n",
    "import os"
   ]
  },
  {
   "cell_type": "code",
   "execution_count": null,
   "metadata": {},
   "outputs": [],
   "source": [
    "spark = (\n",
    "    SparkSession\n",
    "    .builder\n",
    "    .appName('Analytical app')\n",
    "    .getOrCreate()\n",
    ")"
   ]
  },
  {
   "cell_type": "code",
   "execution_count": null,
   "metadata": {},
   "outputs": [],
   "source": [
    "base_path = os.getcwd()\n",
    "\n",
    "project_path = ('/').join(base_path.split('/')[0:-3]) \n",
    "\n",
    "answers_input_path = os.path.join(project_path, 'output/questions-transformed')\n",
    "\n",
    "users_with_tag_output_path = os.path.join(project_path, 'output/users_with_tag')"
   ]
  },
  {
   "cell_type": "code",
   "execution_count": null,
   "metadata": {},
   "outputs": [],
   "source": [
    "#local_tags = answersDF.select('tags').take(1)[0]['tags']"
   ]
  },
  {
   "cell_type": "code",
   "execution_count": null,
   "metadata": {},
   "outputs": [],
   "source": [
    "local_tags = [\n",
    "  'homework-and-exercises',\n",
    "  'special-relativity',\n",
    "  'field-theory',\n",
    "  'lorentz-symmetry',\n",
    "  'phase-space'\n",
    "]"
   ]
  },
  {
   "cell_type": "code",
   "execution_count": null,
   "metadata": {},
   "outputs": [],
   "source": [
    "users_with_tags = (    \n",
    "    spark\n",
    "    .read\n",
    "    .option('path', users_with_tag_output_path)\n",
    "    .load()\n",
    ").cache()"
   ]
  },
  {
   "cell_type": "code",
   "execution_count": null,
   "metadata": {},
   "outputs": [],
   "source": [
    "question = answersDF.select('question_id', 'tags').limit(5)"
   ]
  },
  {
   "cell_type": "code",
   "execution_count": null,
   "metadata": {},
   "outputs": [],
   "source": [
    "(\n",
    "    question\n",
    "    .crossJoin(broadcast(users_with_tags))\n",
    "    .withColumnRenamed('tags', 'b')\n",
    "    .selectExpr(\n",
    "        'question_id',\n",
    "        'user_id',\n",
    "        \"FILTER(tag_info, x -> array_contains(b, x.tag)) AS new_tag\"\n",
    "    )\n",
    "    .withColumn('tag_frequencies', col('new_tag.frequency'))\n",
    "    .selectExpr(\n",
    "        'question_id',\n",
    "        'user_id',\n",
    "        \"AGGREGATE(tag_frequencies, CAST(0 AS long), (value, buffer) -> value + buffer) AS question_relevancy\"\n",
    "    )\n",
    "    .orderBy(desc('question_relevancy'))\n",
    "    .withColumn('users', struct('question_relevancy', 'user_id'))\n",
    "    .groupBy('question_id')\n",
    "    .agg(collect_list('users').alias('users'))\n",
    "    .withColumn('users', reverse(array_sort('users')))\n",
    "    .withColumn('users', col('users.user_id'))\n",
    ").show(truncate=80)"
   ]
  },
  {
   "cell_type": "code",
   "execution_count": null,
   "metadata": {},
   "outputs": [],
   "source": [
    "def get_relevant_users(users_with_tags, question, n_users):\n",
    "    return (\n",
    "        question\n",
    "        .crossJoin(broadcast(users_with_tags))\n",
    "        .withColumnRenamed('tags', 'b')\n",
    "        .selectExpr(\n",
    "            'question_id',\n",
    "            'user_id',\n",
    "            \"FILTER(tag_info, x -> array_contains(b, x.tag)) AS new_tag\"\n",
    "        )\n",
    "        .withColumn('tag_frequencies', col('new_tag.frequency'))\n",
    "        .selectExpr(\n",
    "            'question_id',\n",
    "            'user_id',\n",
    "            \"AGGREGATE(tag_frequencies, CAST(0 AS long), (value, buffer) -> value + buffer) AS question_relevancy\"\n",
    "        )\n",
    "        .orderBy(desc('question_relevancy'))\n",
    "        .withColumn('users', struct('question_relevancy', 'user_id'))\n",
    "        .groupBy('question_id')\n",
    "        .agg(collect_list('users').alias('users'))\n",
    "        .withColumn('users', reverse(array_sort('users')))\n",
    "        .withColumn('users', col('users.user_id'))\n",
    "        .withColumn('users', slice('users', 1, n_users))\n",
    "    )"
   ]
  },
  {
   "cell_type": "code",
   "execution_count": null,
   "metadata": {},
   "outputs": [],
   "source": [
    "get_relevant_users(users_with_tags, question, 4).show(truncate=70)"
   ]
  },
  {
   "cell_type": "code",
   "execution_count": null,
   "metadata": {},
   "outputs": [],
   "source": []
  }
 ],
 "metadata": {
  "kernelspec": {
   "display_name": "Python 3",
   "language": "python",
   "name": "python3"
  },
  "language_info": {
   "codemirror_mode": {
    "name": "ipython",
    "version": 3
   },
   "file_extension": ".py",
   "mimetype": "text/x-python",
   "name": "python",
   "nbconvert_exporter": "python",
   "pygments_lexer": "ipython3",
   "version": "3.6.7"
  }
 },
 "nbformat": 4,
 "nbformat_minor": 2
}
