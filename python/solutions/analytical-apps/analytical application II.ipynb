{
 "cells": [
  {
   "cell_type": "markdown",
   "metadata": {},
   "source": [
    "# Task I\n",
    "\n",
    "* Suppose you will get a new question with some tags and you want to find a list of relevant users that are likely to answer question with these tags.  Use the information about users that you saved in Analytical-application-I ntb.\n",
    "* Create a function that takes as input tags from the new question and returns a list of n relevant users."
   ]
  },
  {
   "cell_type": "code",
   "execution_count": 54,
   "metadata": {},
   "outputs": [],
   "source": [
    "from pyspark.sql import SparkSession\n",
    "from pyspark.sql.functions import (\n",
    "    col, explode, count, struct, collect_list, array_sort, reverse, array, lit, desc, broadcast, slice\n",
    ")\n",
    "\n",
    "import os"
   ]
  },
  {
   "cell_type": "code",
   "execution_count": 55,
   "metadata": {},
   "outputs": [],
   "source": [
    "spark = (\n",
    "    SparkSession\n",
    "    .builder\n",
    "    .appName('Analytical app')\n",
    "    .getOrCreate()\n",
    ")"
   ]
  },
  {
   "cell_type": "code",
   "execution_count": 64,
   "metadata": {},
   "outputs": [],
   "source": [
    "base_path = os.getcwd()\n",
    "\n",
    "project_path = ('/').join(base_path.split('/')[0:-3]) \n",
    "\n",
    "questions_input_path = os.path.join(project_path, 'output/questions-transformed')\n",
    "\n",
    "users_with_tag_output_path = os.path.join(project_path, 'output/users_with_tag')\n",
    "\n",
    "answers_input_path = os.path.join(project_path, 'data/answers')"
   ]
  },
  {
   "cell_type": "code",
   "execution_count": 57,
   "metadata": {},
   "outputs": [],
   "source": [
    "#local_tags = answersDF.select('tags').take(1)[0]['tags']"
   ]
  },
  {
   "cell_type": "code",
   "execution_count": 58,
   "metadata": {},
   "outputs": [],
   "source": [
    "local_tags = [\n",
    "  'homework-and-exercises',\n",
    "  'special-relativity',\n",
    "  'field-theory',\n",
    "  'lorentz-symmetry',\n",
    "  'phase-space'\n",
    "]"
   ]
  },
  {
   "cell_type": "code",
   "execution_count": 59,
   "metadata": {},
   "outputs": [],
   "source": [
    "users_with_tags = (    \n",
    "    spark\n",
    "    .read\n",
    "    .option('path', users_with_tag_output_path)\n",
    "    .load()\n",
    ").cache()"
   ]
  },
  {
   "cell_type": "code",
   "execution_count": 60,
   "metadata": {},
   "outputs": [],
   "source": [
    "question = answersDF.select('question_id', 'tags').limit(5)"
   ]
  },
  {
   "cell_type": "code",
   "execution_count": 61,
   "metadata": {},
   "outputs": [
    {
     "name": "stdout",
     "output_type": "stream",
     "text": [
      "+-----------+--------------------------------------------------------------------------------+\n",
      "|question_id|                                                                           users|\n",
      "+-----------+--------------------------------------------------------------------------------+\n",
      "|      32954|[36793, 70392, 21146, 20564, 21487, 4521, 75628, 140141, 75085, 26686, 17338,...|\n",
      "|      65848|[21146, 36793, 70392, 4521, 42337, 6764, 540, 8563, 23517, 4435, 75628, 37677...|\n",
      "|     167813|[36793, 112190, 6764, 21146, 70392, 25664, 5841, 167720, 204345, 12615, 59234...|\n",
      "|     121997|[36793, 70392, 20564, 26686, 21487, 17338, 140141, 164488, 12813, 24452, 7896...|\n",
      "|     360185|[112190, 5841, 70392, 21146, 45613, 75085, 117629, 103052, 27753, 148704, 110...|\n",
      "+-----------+--------------------------------------------------------------------------------+\n",
      "\n"
     ]
    }
   ],
   "source": [
    "(\n",
    "    question\n",
    "    .crossJoin(broadcast(users_with_tags))\n",
    "    .withColumnRenamed('tags', 'b')\n",
    "    .selectExpr(\n",
    "        'question_id',\n",
    "        'user_id',\n",
    "        \"FILTER(tag_info, x -> array_contains(b, x.tag)) AS new_tag\"\n",
    "    )\n",
    "    .withColumn('tag_frequencies', col('new_tag.frequency'))\n",
    "    .selectExpr(\n",
    "        'question_id',\n",
    "        'user_id',\n",
    "        \"AGGREGATE(tag_frequencies, CAST(0 AS long), (value, buffer) -> value + buffer) AS question_relevancy\"\n",
    "    )\n",
    "    .orderBy(desc('question_relevancy'))\n",
    "    .withColumn('users', struct('question_relevancy', 'user_id'))\n",
    "    .groupBy('question_id')\n",
    "    .agg(collect_list('users').alias('users'))\n",
    "    .withColumn('users', reverse(array_sort('users')))\n",
    "    .withColumn('users', col('users.user_id'))\n",
    ").show(truncate=80)"
   ]
  },
  {
   "cell_type": "code",
   "execution_count": 62,
   "metadata": {},
   "outputs": [],
   "source": [
    "def get_relevant_users(users_with_tags, question, n_users):\n",
    "    return (\n",
    "        question\n",
    "        .crossJoin(broadcast(users_with_tags))\n",
    "        .withColumnRenamed('tags', 'b')\n",
    "        .selectExpr(\n",
    "            'question_id',\n",
    "            'user_id',\n",
    "            \"FILTER(tag_info, x -> array_contains(b, x.tag)) AS new_tag\"\n",
    "        )\n",
    "        .withColumn('tag_frequencies', col('new_tag.frequency'))\n",
    "        .selectExpr(\n",
    "            'question_id',\n",
    "            'user_id',\n",
    "            \"AGGREGATE(tag_frequencies, CAST(0 AS long), (value, buffer) -> value + buffer) AS question_relevancy\"\n",
    "        )\n",
    "        .orderBy(desc('question_relevancy'))\n",
    "        .withColumn('users', struct('question_relevancy', 'user_id'))\n",
    "        .groupBy('question_id')\n",
    "        .agg(collect_list('users').alias('users'))\n",
    "        .withColumn('users', reverse(array_sort('users')))\n",
    "        .withColumn('users', col('users.user_id'))\n",
    "        .withColumn('users', slice('users', 1, n_users))\n",
    "    )"
   ]
  },
  {
   "cell_type": "code",
   "execution_count": 63,
   "metadata": {},
   "outputs": [
    {
     "name": "stdout",
     "output_type": "stream",
     "text": [
      "+-----------+----------------------------+\n",
      "|question_id|                       users|\n",
      "+-----------+----------------------------+\n",
      "|      32954|[36793, 70392, 21146, 20564]|\n",
      "|      65848| [21146, 36793, 70392, 4521]|\n",
      "|     167813|[36793, 112190, 6764, 21146]|\n",
      "|     121997|[36793, 70392, 20564, 26686]|\n",
      "|     360185|[112190, 5841, 70392, 21146]|\n",
      "+-----------+----------------------------+\n",
      "\n"
     ]
    }
   ],
   "source": [
    "get_relevant_users(users_with_tags, question, 4).show(truncate=70)"
   ]
  },
  {
   "cell_type": "code",
   "execution_count": 65,
   "metadata": {},
   "outputs": [],
   "source": [
    "answersDF = (\n",
    "    spark\n",
    "    .read\n",
    "    .option('path', answers_input_path)\n",
    "    .load()\n",
    ")\n",
    "\n",
    "questionsDF = (\n",
    "    spark\n",
    "    .read\n",
    "    .option('path', questions_input_path)\n",
    "    .load()\n",
    ")"
   ]
  },
  {
   "cell_type": "code",
   "execution_count": 76,
   "metadata": {},
   "outputs": [
    {
     "name": "stdout",
     "output_type": "stream",
     "text": [
      "+------------------------------------------------------------------------------------------+\n",
      "|                                                                                      tags|\n",
      "+------------------------------------------------------------------------------------------+\n",
      "|[quantum-mechanics, condensed-matter, solid-state-physics, electric-circuits, nanoscience]|\n",
      "+------------------------------------------------------------------------------------------+\n",
      "\n"
     ]
    }
   ],
   "source": [
    "(\n",
    "    questionsDF.alias('q')\n",
    "    .join(answersDF.alias('a'), 'question_id')\n",
    "    .filter(col('a.user_id').isNotNull())\n",
    "    .filter(col('q.tags').isNotNull())\n",
    "    .select(\n",
    "        #'q.question_id',\n",
    "        #col('a.user_id').alias('user_id'),\n",
    "         'q.tags',\n",
    "       \n",
    "    )\n",
    "    .filter(col('question_id') == 32954)\n",
    ").show(truncate=100)"
   ]
  },
  {
   "cell_type": "code",
   "execution_count": 77,
   "metadata": {},
   "outputs": [
    {
     "name": "stdout",
     "output_type": "stream",
     "text": [
      "+----------------------+---+\n",
      "|                   tag|cnt|\n",
      "+----------------------+---+\n",
      "|     quantum-mechanics| 13|\n",
      "|homework-and-exercises| 12|\n",
      "|      electromagnetism| 11|\n",
      "|                optics|  7|\n",
      "|   newtonian-mechanics|  7|\n",
      "|      condensed-matter|  6|\n",
      "|    special-relativity|  6|\n",
      "|      particle-physics|  5|\n",
      "| statistical-mechanics|  5|\n",
      "|       non-equilibrium|  5|\n",
      "|           terminology|  4|\n",
      "|  dimensional-analysis|  4|\n",
      "|             operators|  4|\n",
      "|                energy|  4|\n",
      "|            definition|  4|\n",
      "|        thermodynamics|  4|\n",
      "|       inertial-frames|  3|\n",
      "|      electric-current|  3|\n",
      "|                 waves|  3|\n",
      "|  quantum-field-theory|  3|\n",
      "|         hilbert-space|  3|\n",
      "|      reference-frames|  3|\n",
      "|                  work|  3|\n",
      "|                forces|  3|\n",
      "|   quantum-information|  3|\n",
      "|          gauge-theory|  2|\n",
      "|       magnetic-fields|  2|\n",
      "|             diffusion|  2|\n",
      "|         path-integral|  2|\n",
      "|             potential|  2|\n",
      "+----------------------+---+\n",
      "only showing top 30 rows\n",
      "\n"
     ]
    }
   ],
   "source": [
    "(\n",
    "    questionsDF.alias('q')\n",
    "    .join(answersDF.alias('a'), 'question_id')\n",
    "    .filter(col('a.user_id') == 70392)\n",
    "    .select(\n",
    "        explode('tags').alias('tag')\n",
    "    )\n",
    "    .groupBy('tag')\n",
    "    .agg(count('*').alias('cnt'))\n",
    "    .orderBy(desc('cnt'))\n",
    ").show(truncate=90, n=30)"
   ]
  },
  {
   "cell_type": "code",
   "execution_count": null,
   "metadata": {},
   "outputs": [],
   "source": []
  }
 ],
 "metadata": {
  "kernelspec": {
   "display_name": "Python 3",
   "language": "python",
   "name": "python3"
  },
  "language_info": {
   "codemirror_mode": {
    "name": "ipython",
    "version": 3
   },
   "file_extension": ".py",
   "mimetype": "text/x-python",
   "name": "python",
   "nbconvert_exporter": "python",
   "pygments_lexer": "ipython3",
   "version": "3.6.7"
  }
 },
 "nbformat": 4,
 "nbformat_minor": 2
}
