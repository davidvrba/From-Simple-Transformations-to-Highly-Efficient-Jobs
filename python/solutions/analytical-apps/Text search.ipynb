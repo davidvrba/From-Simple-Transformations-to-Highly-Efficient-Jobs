{
 "cells": [
  {
   "cell_type": "markdown",
   "metadata": {},
   "source": [
    "# Task - simple text search\n",
    "\n",
    "* write a function (wraper over native pyspark dataframe functions) that detects if a given name is contained in the question text\n",
    "* this function should return one of these names (if they are contained in the text): einstein, newton, maxwell, dirac, gauss. If non of them is contained in the text return other\n",
    "* Write the function in such way it can handle large array of words\n",
    "* We will use this function again in a streaming application later on\n",
    "\n",
    "Note:\n",
    "* In this ntb you will build programatically column expression and do a simple search in text"
   ]
  },
  {
   "cell_type": "code",
   "execution_count": null,
   "metadata": {},
   "outputs": [],
   "source": [
    "from pyspark.sql import SparkSession\n",
    "from pyspark.sql.functions import col, count, array, lit, when\n",
    "\n",
    "import os"
   ]
  },
  {
   "cell_type": "code",
   "execution_count": null,
   "metadata": {},
   "outputs": [],
   "source": [
    "spark = (\n",
    "    SparkSession\n",
    "    .builder\n",
    "    .appName('Text search')\n",
    "    .getOrCreate()\n",
    ")"
   ]
  },
  {
   "cell_type": "code",
   "execution_count": null,
   "metadata": {},
   "outputs": [],
   "source": [
    "base_path = os.getcwd()\n",
    "\n",
    "project_path = ('/').join(base_path.split('/')[0:-3]) \n",
    "\n",
    "questions_input_path = os.path.join(project_path, 'output/questions-transformed')"
   ]
  },
  {
   "cell_type": "code",
   "execution_count": null,
   "metadata": {},
   "outputs": [],
   "source": [
    "questionsDF = (\n",
    "    spark\n",
    "    .read\n",
    "    .option('path', questions_input_path)\n",
    "    .load()\n",
    ")"
   ]
  },
  {
   "cell_type": "markdown",
   "metadata": {},
   "source": [
    "#### Implement function for text search\n",
    "\n",
    "Hint\n",
    "* use when-otherwise condition\n",
    "* use like function for text search\n",
    "* the function should take column as input and return another column as output"
   ]
  },
  {
   "cell_type": "code",
   "execution_count": null,
   "metadata": {},
   "outputs": [],
   "source": [
    "def get_person(message):\n",
    "    return (\n",
    "        when(message.like('%einstein%'), 'einstein')\n",
    "        .when(message.like('%newton%'), 'newton')\n",
    "        .when(message.like('%maxwell%'), 'maxwell')\n",
    "        .when(message.like('%dirac%'), 'dirac')\n",
    "        .when(message.like('%gauss%'), 'gauss')\n",
    "        .otherwise('other')\n",
    "    )"
   ]
  },
  {
   "cell_type": "markdown",
   "metadata": {},
   "source": [
    "#### Apply the function\n",
    "\n",
    "* use also groupBy the result to see how many occurences are there for each name"
   ]
  },
  {
   "cell_type": "code",
   "execution_count": null,
   "metadata": {},
   "outputs": [],
   "source": [
    "(\n",
    "    questionsDF\n",
    "    .withColumn('physicist', get_person(col('body')))\n",
    "    .groupBy('physicist')\n",
    "    .agg(count('*'))\n",
    "    .orderBy('physicist')\n",
    ").show(truncate=False)"
   ]
  },
  {
   "cell_type": "markdown",
   "metadata": {},
   "source": [
    "#### Now implement the function more dynamically\n",
    "\n",
    "Hint:\n",
    "* define a list of names that we look for\n",
    "* iterate over the array and build the condition that is used in the function"
   ]
  },
  {
   "cell_type": "code",
   "execution_count": null,
   "metadata": {},
   "outputs": [],
   "source": [
    "names = ['einstein', 'newton', 'maxwell', 'dirac', 'gauss']"
   ]
  },
  {
   "cell_type": "code",
   "execution_count": null,
   "metadata": {},
   "outputs": [],
   "source": [
    "def get_person_dynamic(message):\n",
    "    col_exp = when(lit(False), '')\n",
    "    for name in names:\n",
    "        col_exp = col_exp.when(message.like('%{}%'.format(name)), name)\n",
    "    return col_exp.otherwise('other')"
   ]
  },
  {
   "cell_type": "code",
   "execution_count": null,
   "metadata": {},
   "outputs": [],
   "source": [
    "(\n",
    "    questionsDF\n",
    "    .withColumn('physicist', get_person_dynamic(col('body')))\n",
    "    .groupBy('physicist')\n",
    "    .agg(count('*'))\n",
    "    .orderBy('physicist')\n",
    ").show(truncate=False)"
   ]
  },
  {
   "cell_type": "code",
   "execution_count": null,
   "metadata": {},
   "outputs": [],
   "source": [
    "spark.stop()"
   ]
  },
  {
   "cell_type": "markdown",
   "metadata": {},
   "source": [
    "Note\n",
    "* other possibilities for text search are using the functions:\n",
    "    * rlike\n",
    "    * regexp_extract"
   ]
  },
  {
   "cell_type": "code",
   "execution_count": null,
   "metadata": {},
   "outputs": [],
   "source": []
  }
 ],
 "metadata": {
  "kernelspec": {
   "display_name": "Python 3",
   "language": "python",
   "name": "python3"
  },
  "language_info": {
   "codemirror_mode": {
    "name": "ipython",
    "version": 3
   },
   "file_extension": ".py",
   "mimetype": "text/x-python",
   "name": "python",
   "nbconvert_exporter": "python",
   "pygments_lexer": "ipython3",
   "version": "3.6.8"
  }
 },
 "nbformat": 4,
 "nbformat_minor": 2
}
