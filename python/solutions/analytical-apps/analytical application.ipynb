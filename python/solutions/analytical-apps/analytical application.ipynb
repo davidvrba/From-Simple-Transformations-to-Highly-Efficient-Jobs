{
 "cells": [
  {
   "cell_type": "markdown",
   "metadata": {},
   "source": [
    "# Task I\n",
    "\n",
    "* Create parquet dataset with the structure user_id, tag_info, where tag_info is array of structs and each struct has two subfields: tag and its frequency. This frequency measures how many times answered the user question with this tag. Also sort the tags in the array according to the frequency in desc order"
   ]
  },
  {
   "cell_type": "code",
   "execution_count": 1,
   "metadata": {},
   "outputs": [],
   "source": [
    "from pyspark.sql import SparkSession\n",
    "from pyspark.sql.functions import (\n",
    "    col, explode, count, struct, collect_list, array_sort, reverse, array, lit, desc\n",
    ")\n",
    "\n",
    "import os"
   ]
  },
  {
   "cell_type": "code",
   "execution_count": 2,
   "metadata": {},
   "outputs": [],
   "source": [
    "spark = (\n",
    "    SparkSession\n",
    "    .builder\n",
    "    .appName('Analytical app')\n",
    "    .getOrCreate()\n",
    ")"
   ]
  },
  {
   "cell_type": "code",
   "execution_count": 5,
   "metadata": {},
   "outputs": [],
   "source": [
    "base_path = os.getcwd()\n",
    "\n",
    "project_path = ('/').join(base_path.split('/')[0:-3]) \n",
    "\n",
    "answers_input_path = os.path.join(project_path, 'output/questions-transformed')\n",
    "\n",
    "users_with_tag_output_path = os.path.join(project_path, 'output/users_with_tag')"
   ]
  },
  {
   "cell_type": "code",
   "execution_count": 7,
   "metadata": {},
   "outputs": [],
   "source": [
    "answersDF = (\n",
    "    spark\n",
    "    .read\n",
    "    .option('path', answers_input_path)\n",
    "    .load()\n",
    ")"
   ]
  },
  {
   "cell_type": "code",
   "execution_count": 8,
   "metadata": {},
   "outputs": [],
   "source": [
    "users_with_tags = (\n",
    "    answersDF\n",
    "    .filter(col('user_id').isNotNull())\n",
    "    .filter(col('tags').isNotNull())\n",
    "    .select('user_id', 'tags')\n",
    "    .select('user_id', explode('tags').alias('tag'))\n",
    "    .groupBy('user_id', 'tag')\n",
    "    .agg(\n",
    "        count('*').alias('frequency')\n",
    "    )\n",
    "    .select('user_id', struct('frequency', 'tag').alias('tag_info'))\n",
    "    .groupBy('user_id')\n",
    "    .agg(\n",
    "        collect_list('tag_info').alias('tag_info')\n",
    "    )\n",
    "    .select('user_id', reverse(array_sort('tag_info')).alias('tag_info'))\n",
    ")"
   ]
  },
  {
   "cell_type": "code",
   "execution_count": 9,
   "metadata": {},
   "outputs": [],
   "source": [
    "(\n",
    "    users_with_tags\n",
    "    .repartition(4)\n",
    "    .write\n",
    "    .mode('overwrite')\n",
    "    .option('path', users_with_tag_output_path)\n",
    "    .save()\n",
    ")"
   ]
  },
  {
   "cell_type": "markdown",
   "metadata": {},
   "source": [
    "# Task II\n",
    "\n",
    "* Suppose you will get a new question with some tags and you want to find a list of relevant users that are likely to answer question with these tags.  Use the information about users that you saved above.\n",
    "* Create a function that takes as input tags from the new question and returns a list of n relevant users."
   ]
  },
  {
   "cell_type": "code",
   "execution_count": null,
   "metadata": {},
   "outputs": [],
   "source": [
    "#local_tags = answersDF.select('tags').take(1)[0]['tags']"
   ]
  },
  {
   "cell_type": "code",
   "execution_count": null,
   "metadata": {},
   "outputs": [],
   "source": [
    "new_question_tags = [\n",
    "  'homework-and-exercises',\n",
    "  'special-relativity',\n",
    "  'field-theory',\n",
    "  'lorentz-symmetry',\n",
    "  'phase-space'\n",
    "]"
   ]
  },
  {
   "cell_type": "code",
   "execution_count": null,
   "metadata": {},
   "outputs": [],
   "source": [
    "users_with_tags = (    \n",
    "    spark\n",
    "    .read\n",
    "    .option('path', users_with_tag_output_path)\n",
    "    .load()\n",
    ").cache()"
   ]
  },
  {
   "cell_type": "code",
   "execution_count": null,
   "metadata": {},
   "outputs": [],
   "source": [
    "(\n",
    "    users_with_tags\n",
    "    .withColumn('b', array(list(map(lambda x: lit(x), local_tags))))\n",
    "    .selectExpr(\n",
    "        'user_id',\n",
    "        \"FILTER(tag_info, x -> array_contains(b, x.tag)) AS new_tag\"\n",
    "    )\n",
    "    .withColumn('tag_frequencies', col('new_tag.frequency'))\n",
    "    .selectExpr(\n",
    "        'user_id',\n",
    "        \"AGGREGATE(tag_frequencies, CAST(0 AS long), (value, buffer) -> value + buffer) AS question_relevancy\"\n",
    "    )\n",
    "    .orderBy(desc('question_relevancy'))\n",
    ").show()"
   ]
  },
  {
   "cell_type": "code",
   "execution_count": null,
   "metadata": {},
   "outputs": [],
   "source": [
    "def get_relevant_users(users_with_tags, tags, n_users):\n",
    "    return (\n",
    "        users_with_tags\n",
    "        .withColumn('b', array(list(map(lambda x: lit(x), tags))))\n",
    "        .selectExpr(\n",
    "            'user_id',\n",
    "            \"FILTER(tag_info, x -> array_contains(b, x.tag)) AS new_tag\"\n",
    "        )\n",
    "        .withColumn('tag_frequencies', col('new_tag.frequency'))\n",
    "        .selectExpr(\n",
    "            'user_id',\n",
    "            \"AGGREGATE(tag_frequencies, CAST(0 AS long), (value, buffer) -> value + buffer) AS question_relevancy\"\n",
    "        )\n",
    "        .orderBy(desc('question_relevancy'))\n",
    "        .limit(n_users)\n",
    "    )"
   ]
  },
  {
   "cell_type": "code",
   "execution_count": null,
   "metadata": {},
   "outputs": [],
   "source": [
    "get_relevant_users(users_with_tags, new_question_tags, 10).show()"
   ]
  },
  {
   "cell_type": "code",
   "execution_count": null,
   "metadata": {},
   "outputs": [],
   "source": []
  }
 ],
 "metadata": {
  "kernelspec": {
   "display_name": "Python 3",
   "language": "python",
   "name": "python3"
  },
  "language_info": {
   "codemirror_mode": {
    "name": "ipython",
    "version": 3
   },
   "file_extension": ".py",
   "mimetype": "text/x-python",
   "name": "python",
   "nbconvert_exporter": "python",
   "pygments_lexer": "ipython3",
   "version": "3.6.7"
  }
 },
 "nbformat": 4,
 "nbformat_minor": 2
}
