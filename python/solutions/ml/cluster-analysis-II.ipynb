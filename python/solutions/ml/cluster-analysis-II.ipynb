{
 "cells": [
  {
   "cell_type": "markdown",
   "metadata": {},
   "source": [
    "# Task\n",
    "\n",
    "* create cluster of users based on the information about their location\n",
    "* use location coordinates of places from local postgres database\n",
    "* visualise the result of cluster analysis\n",
    "* save the ml model for further use"
   ]
  },
  {
   "cell_type": "code",
   "execution_count": null,
   "metadata": {},
   "outputs": [],
   "source": [
    "from pyspark.sql import SparkSession\n",
    "from pyspark.sql.functions import col, desc, count, explode\n",
    "\n",
    "from pyspark.ml.feature import VectorAssembler, StandardScaler, MinMaxScaler\n",
    "from pyspark.ml.clustering import KMeans\n",
    "\n",
    "from pyspark.ml import Pipeline\n",
    "\n",
    "import os\n",
    "import pandas as pd\n",
    "import geopandas\n",
    "import matplotlib.pyplot as plt\n"
   ]
  },
  {
   "cell_type": "code",
   "execution_count": null,
   "metadata": {},
   "outputs": [],
   "source": [
    "spark = (\n",
    "    SparkSession\n",
    "    .builder\n",
    "    .appName('Cluster Analysis II')\n",
    "    .getOrCreate()\n",
    ")"
   ]
  },
  {
   "cell_type": "code",
   "execution_count": null,
   "metadata": {},
   "outputs": [],
   "source": [
    "base_path = os.getcwd()\n",
    "\n",
    "project_path = ('/').join(base_path.split('/')[0:-3]) \n",
    "\n",
    "users_input_path = os.path.join(project_path, 'data/users')"
   ]
  },
  {
   "cell_type": "code",
   "execution_count": null,
   "metadata": {},
   "outputs": [],
   "source": [
    "driver = 'org.postgresql.Driver'\n",
    "url = 'jdbc:postgresql://localhost/postgres'\n",
    "table = 'public.locations'\n",
    "user = 'postgres'\n",
    "password = 'postgres'\n",
    "\n",
    "\n",
    "locations = (\n",
    "    spark\n",
    "    .read\n",
    "    .format('jdbc')\n",
    "    .option(\"driver\", driver)\n",
    "    .option('url', url)\n",
    "    .option('dbtable', table)\n",
    "    .option('user', user)\n",
    "    .option('password', password)\n",
    "    .load()\n",
    ")"
   ]
  },
  {
   "cell_type": "code",
   "execution_count": null,
   "metadata": {},
   "outputs": [],
   "source": [
    "usersDF = (\n",
    "    spark\n",
    "    .read\n",
    "    .option('path', users_input_path)\n",
    "    .load()\n",
    ")"
   ]
  },
  {
   "cell_type": "code",
   "execution_count": null,
   "metadata": {},
   "outputs": [],
   "source": [
    "locations.show()"
   ]
  },
  {
   "cell_type": "code",
   "execution_count": null,
   "metadata": {},
   "outputs": [],
   "source": [
    "data_with_coord = (\n",
    "    usersDF.alias('users')\n",
    "    .join(locations.alias('locs'), col('users.location') == col('locs.name'))\n",
    "    .select('user_id', 'location', 'latitude', 'longitude')\n",
    ").cache()"
   ]
  },
  {
   "cell_type": "code",
   "execution_count": null,
   "metadata": {},
   "outputs": [],
   "source": [
    "data_with_coord.show()"
   ]
  },
  {
   "cell_type": "code",
   "execution_count": null,
   "metadata": {},
   "outputs": [],
   "source": [
    "features_array = ['latitude', 'longitude']\n",
    "assembler = VectorAssembler(inputCols=features_array, outputCol='features')\n",
    "kmeans = KMeans(featuresCol='features', predictionCol='predictions', k=6, seed=1)\n",
    "pipeline = Pipeline(stages=[assembler, kmeans])\n",
    "model = pipeline.fit(data_with_coord)"
   ]
  },
  {
   "cell_type": "code",
   "execution_count": null,
   "metadata": {},
   "outputs": [],
   "source": [
    "predictions = model.transform(data_with_coord)"
   ]
  },
  {
   "cell_type": "code",
   "execution_count": null,
   "metadata": {},
   "outputs": [],
   "source": [
    "(\n",
    "    predictions\n",
    "    .groupBy('predictions')\n",
    "    .count()\n",
    ").show()"
   ]
  },
  {
   "cell_type": "code",
   "execution_count": null,
   "metadata": {},
   "outputs": [],
   "source": [
    "(\n",
    "    predictions\n",
    "    .select('user_id', 'users.location', *features_array)\n",
    "    .filter(col('predictions') == 0)\n",
    "    .orderBy('location')\n",
    ").show()"
   ]
  },
  {
   "cell_type": "code",
   "execution_count": null,
   "metadata": {},
   "outputs": [],
   "source": [
    "(\n",
    "    predictions\n",
    "    .select('user_id', 'users.location', *features_array)\n",
    "    .filter(col('predictions') == 1)\n",
    ").show()"
   ]
  },
  {
   "cell_type": "code",
   "execution_count": null,
   "metadata": {},
   "outputs": [],
   "source": [
    "(\n",
    "    predictions\n",
    "    .select('user_id', 'users.location', *features_array)\n",
    "    .filter(col('predictions') == 2)\n",
    ").show()"
   ]
  },
  {
   "cell_type": "code",
   "execution_count": null,
   "metadata": {},
   "outputs": [],
   "source": [
    "(\n",
    "    predictions\n",
    "    .select('user_id', 'users.location', *features_array)\n",
    "    .filter(col('predictions') == 3)\n",
    ").show()"
   ]
  },
  {
   "cell_type": "code",
   "execution_count": null,
   "metadata": {},
   "outputs": [],
   "source": [
    "(\n",
    "    predictions\n",
    "    .select('user_id', 'users.location', *features_array)\n",
    "    .filter(col('predictions') == 4)\n",
    ").show()"
   ]
  },
  {
   "cell_type": "code",
   "execution_count": null,
   "metadata": {},
   "outputs": [],
   "source": [
    "(\n",
    "    predictions\n",
    "    .select('user_id', 'users.location', *features_array)\n",
    "    .filter(col('predictions') == 5)\n",
    ").show()"
   ]
  },
  {
   "cell_type": "code",
   "execution_count": null,
   "metadata": {},
   "outputs": [],
   "source": [
    "local_clusters = predictions.select('users.location', *features_array, 'predictions').toPandas()"
   ]
  },
  {
   "cell_type": "code",
   "execution_count": null,
   "metadata": {},
   "outputs": [],
   "source": [
    "gdf = geopandas.GeoDataFrame(\n",
    "    local_clusters, \n",
    "    geometry=geopandas.points_from_xy(local_clusters.longitude, local_clusters.latitude)\n",
    ")"
   ]
  },
  {
   "cell_type": "code",
   "execution_count": null,
   "metadata": {},
   "outputs": [],
   "source": [
    "plt.rcParams[\"figure.figsize\"] = (20,10)\n",
    "world = geopandas.read_file(geopandas.datasets.get_path('naturalearth_lowres'))\n",
    "ax = world.plot(color='white', edgecolor='black')\n",
    "\n",
    "gdf[gdf['predictions'] == 0].plot(ax=ax, color='green')\n",
    "gdf[gdf['predictions'] == 1].plot(ax=ax, color='blue')\n",
    "gdf[gdf['predictions'] == 2].plot(ax=ax, color='red')\n",
    "gdf[gdf['predictions'] == 3].plot(ax=ax, color='black')\n",
    "gdf[gdf['predictions'] == 4].plot(ax=ax, color='yellow')\n",
    "gdf[gdf['predictions'] == 5].plot(ax=ax, color='violet')\n",
    "\n",
    "plt.show()"
   ]
  },
  {
   "cell_type": "code",
   "execution_count": null,
   "metadata": {},
   "outputs": [],
   "source": [
    "# save the result to the database:\n",
    "(\n",
    "    predictions\n",
    "    .select(\n",
    "        'user_id', \n",
    "        col('predictions').alias('cluster_id')\n",
    "    )\n",
    "    .write\n",
    "    .mode('append')\n",
    "    .format('jdbc')\n",
    "    .option('url', url)\n",
    "    .option('dbtable', 'user_clusters')\n",
    "    .option('user', user)\n",
    "    .option('password', password)\n",
    "    .save()\n",
    ")"
   ]
  },
  {
   "cell_type": "code",
   "execution_count": null,
   "metadata": {},
   "outputs": [],
   "source": [
    "spark.stop()"
   ]
  }
 ],
 "metadata": {
  "kernelspec": {
   "display_name": "Python 3",
   "language": "python",
   "name": "python3"
  },
  "language_info": {
   "codemirror_mode": {
    "name": "ipython",
    "version": 3
   },
   "file_extension": ".py",
   "mimetype": "text/x-python",
   "name": "python",
   "nbconvert_exporter": "python",
   "pygments_lexer": "ipython3",
   "version": "3.6.4"
  }
 },
 "nbformat": 4,
 "nbformat_minor": 2
}
