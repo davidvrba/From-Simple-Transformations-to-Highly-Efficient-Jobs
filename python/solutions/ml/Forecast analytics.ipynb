{
 "cells": [
  {
   "cell_type": "markdown",
   "metadata": {},
   "source": [
    "# Task - fit Linear regression\n",
    "\n",
    "* take the query for average number of answers per week that we solved in interactive-analytics ntb\n",
    "* fit linear regression on the data"
   ]
  },
  {
   "cell_type": "code",
   "execution_count": null,
   "metadata": {},
   "outputs": [],
   "source": [
    "from pyspark.sql import SparkSession\n",
    "from pyspark.sql.functions import col, window, count, unix_timestamp, when, lit, ceil\n",
    "\n",
    "from pyspark.ml.regression import LinearRegression\n",
    "from pyspark.ml.feature import VectorAssembler\n",
    "from pyspark.ml import Pipeline\n",
    "\n",
    "import os\n",
    "import matplotlib.pyplot as plt\n",
    "import pandas as pd"
   ]
  },
  {
   "cell_type": "code",
   "execution_count": null,
   "metadata": {},
   "outputs": [],
   "source": [
    "spark = (\n",
    "    SparkSession\n",
    "    .builder\n",
    "    .appName('Forecast Analytics I')\n",
    "    .getOrCreate()\n",
    ")"
   ]
  },
  {
   "cell_type": "code",
   "execution_count": null,
   "metadata": {},
   "outputs": [],
   "source": [
    "base_path = os.getcwd()\n",
    "\n",
    "project_path = ('/').join(base_path.split('/')[0:-3]) \n",
    "\n",
    "answers_input_path = os.path.join(project_path, 'data/answers')\n",
    "\n",
    "questions_input_path = os.path.join(project_path, 'output/questions-transformed')"
   ]
  },
  {
   "cell_type": "code",
   "execution_count": null,
   "metadata": {},
   "outputs": [],
   "source": [
    "answersDF = (\n",
    "    spark\n",
    "    .read\n",
    "    .option('path', answers_input_path)\n",
    "    .load()\n",
    ")"
   ]
  },
  {
   "cell_type": "markdown",
   "metadata": {},
   "source": [
    "#### Take the query for average number of answers per week\n",
    "\n",
    "* Add new col time that is conversion of window.start to long data type. This will serve as feature for the linear regression"
   ]
  },
  {
   "cell_type": "code",
   "execution_count": null,
   "metadata": {},
   "outputs": [],
   "source": [
    "groupedDF = (\n",
    "    answersDF\n",
    "    .filter(col('user_id').isNotNull())\n",
    "    .groupBy(\n",
    "        window('creation_date', \"1 week\")\n",
    "    )\n",
    "    .agg(\n",
    "        count('*').alias('answers')\n",
    "    )\n",
    "    .withColumn('date', col('window.start').cast('date'))\n",
    "    .withColumn('time', col('window.start').cast('long'))\n",
    "    .orderBy('window')\n",
    ")"
   ]
  },
  {
   "cell_type": "code",
   "execution_count": null,
   "metadata": {},
   "outputs": [],
   "source": [
    "groupedDF.printSchema()"
   ]
  },
  {
   "cell_type": "code",
   "execution_count": null,
   "metadata": {},
   "outputs": [],
   "source": [
    "groupedDF.show(n=5)"
   ]
  },
  {
   "cell_type": "markdown",
   "metadata": {},
   "source": [
    "#### Build th pipeline\n",
    "\n",
    "Hint:\n",
    "* use VectorAssembler to convert the feature into vector\n",
    "* use LinearRegression model\n",
    "* fit the pipeline"
   ]
  },
  {
   "cell_type": "code",
   "execution_count": null,
   "metadata": {},
   "outputs": [],
   "source": [
    "# define your features:\n",
    "features = ['time']\n",
    "\n",
    "assembler = VectorAssembler(inputCols=features, outputCol='features')\n",
    "\n",
    "# define your model:\n",
    "lr = LinearRegression(labelCol=\"answers\", featuresCol=\"features\")\n",
    "\n",
    "modelLr = Pipeline(stages=[assembler, lr]).fit(groupedDF)"
   ]
  },
  {
   "cell_type": "markdown",
   "metadata": {},
   "source": [
    "#### Make the predictions and visualize the result\n",
    "\n",
    "Hint:\n",
    "* call transform\n",
    "* collect to driver using toPandas()\n",
    "* visualize by calling plot"
   ]
  },
  {
   "cell_type": "code",
   "execution_count": null,
   "metadata": {},
   "outputs": [],
   "source": [
    "local_prediction = modelLr.transform(groupedDF).toPandas()"
   ]
  },
  {
   "cell_type": "code",
   "execution_count": null,
   "metadata": {},
   "outputs": [],
   "source": [
    "ax = local_prediction.plot(\n",
    "    x='date', y='prediction', figsize=(12, 6), \n",
    "    title='Number of answers per week',\n",
    "    legend=False\n",
    "    \n",
    ")\n",
    "local_prediction.plot(x='date', y='answers', ax=ax, legend=False)\n",
    "plt.xlabel('Date')\n",
    "plt.ylabel('Number of answers')\n",
    "plt.show()"
   ]
  },
  {
   "cell_type": "markdown",
   "metadata": {},
   "source": [
    "#### Use scikitlearn to compare the prediction\n",
    "\n",
    "* import LinearRegression from sklearn\n",
    "* fit the data localy\n",
    "* compare the fits in a plot"
   ]
  },
  {
   "cell_type": "code",
   "execution_count": null,
   "metadata": {},
   "outputs": [],
   "source": [
    "from sklearn.linear_model import LinearRegression as linR"
   ]
  },
  {
   "cell_type": "code",
   "execution_count": null,
   "metadata": {},
   "outputs": [],
   "source": [
    "model = linR()\n",
    "local_data = groupedDF.toPandas()"
   ]
  },
  {
   "cell_type": "code",
   "execution_count": null,
   "metadata": {},
   "outputs": [],
   "source": [
    "X = local_data.iloc[:, 3].values.reshape(-1, 1)\n",
    "Y = local_data.iloc[:, 1].values.reshape(-1, 1)\n",
    "model.fit(X, Y)"
   ]
  },
  {
   "cell_type": "code",
   "execution_count": null,
   "metadata": {},
   "outputs": [],
   "source": [
    "Y_pred = model.predict(X)  # make predictions"
   ]
  },
  {
   "cell_type": "code",
   "execution_count": null,
   "metadata": {},
   "outputs": [],
   "source": [
    "local_prediction['local'] = Y_pred\n",
    "ax = local_prediction.plot(\n",
    "    x='date', \n",
    "    y='prediction', \n",
    "    figsize=(12, 6), \n",
    "    title='Number of answers per week',\n",
    "    legend=False,\n",
    "    color='black'    \n",
    ")\n",
    "local_prediction.plot(\n",
    "    x='date', \n",
    "    y='answers', \n",
    "    ax=ax, \n",
    "    legend=False\n",
    ")\n",
    "local_prediction.plot(\n",
    "    x='date', \n",
    "    y='local', \n",
    "    ax=ax, \n",
    "    legend=False,\n",
    "    color='red'\n",
    ")\n",
    "plt.xlabel('Date')\n",
    "plt.ylabel('Number of answers')\n",
    "plt.show()"
   ]
  },
  {
   "cell_type": "code",
   "execution_count": null,
   "metadata": {},
   "outputs": [],
   "source": [
    "spark.stop()"
   ]
  }
 ],
 "metadata": {
  "kernelspec": {
   "display_name": "Python 3",
   "language": "python",
   "name": "python3"
  },
  "language_info": {
   "codemirror_mode": {
    "name": "ipython",
    "version": 3
   },
   "file_extension": ".py",
   "mimetype": "text/x-python",
   "name": "python",
   "nbconvert_exporter": "python",
   "pygments_lexer": "ipython3",
   "version": "3.6.4"
  }
 },
 "nbformat": 4,
 "nbformat_minor": 2
}
