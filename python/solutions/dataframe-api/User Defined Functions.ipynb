{
 "cells": [
  {
   "cell_type": "markdown",
   "metadata": {},
   "source": [
    "# User Defined Functions\n",
    "\n",
    "In this notebook you will use UDF to count number of occurences for a word inside a text. We will look for the number of occurences for a particular technology in the question text."
   ]
  },
  {
   "cell_type": "code",
   "execution_count": null,
   "metadata": {},
   "outputs": [],
   "source": [
    "from pyspark.sql import SparkSession\n",
    "from pyspark.sql.functions import col, udf, lit, sum, regexp_count, desc\n",
    "\n",
    "from pyspark.sql.types import IntegerType\n",
    "\n",
    "import os\n",
    "import re"
   ]
  },
  {
   "cell_type": "code",
   "execution_count": null,
   "metadata": {},
   "outputs": [],
   "source": [
    "spark = (\n",
    "    SparkSession\n",
    "    .builder\n",
    "    .appName('UDFs I')\n",
    "    .getOrCreate()\n",
    ")"
   ]
  },
  {
   "cell_type": "code",
   "execution_count": null,
   "metadata": {},
   "outputs": [],
   "source": [
    "base_path = os.getcwd()\n",
    "\n",
    "project_path = ('/').join(base_path.split('/')[0:-3]) \n",
    "\n",
    "questions_input_path = os.path.join(project_path, 'output/questions-transformed')"
   ]
  },
  {
   "cell_type": "code",
   "execution_count": null,
   "metadata": {},
   "outputs": [],
   "source": [
    "questionsDF = (\n",
    "    spark\n",
    "    .read\n",
    "    .option('path', questions_input_path)\n",
    "    .load()\n",
    ")"
   ]
  },
  {
   "cell_type": "markdown",
   "metadata": {},
   "source": [
    "#### Implement UDF\n",
    "\n",
    "* Implement a [UDF](https://spark.apache.org/docs/latest/api/python/reference/pyspark.sql/api/pyspark.sql.functions.udf.html#pyspark.sql.functions.udf) that will take two arguments (both of them need to be columns:\n",
    " * body of the question\n",
    " * technology that we look for\n",
    "* The function should find number of occurences of the technology in the question's body\n",
    "\n",
    "Hint:\n",
    "* use Python `re.findall(r\"category\", message_string)` to get a list of all occurences\n",
    "* use Python `len` function to get the list size\n",
    "* you can first try the plain function on some mock data and if it works, then make a UDF from it"
   ]
  },
  {
   "cell_type": "code",
   "execution_count": null,
   "metadata": {},
   "outputs": [],
   "source": [
    "# define the python function\n",
    "\n",
    "def count_occurences(message, technology):\n",
    "    return len(re.findall(r\"{}\".format(technology) , message, re.IGNORECASE))"
   ]
  },
  {
   "cell_type": "code",
   "execution_count": null,
   "metadata": {},
   "outputs": [],
   "source": [
    "# test on mock data:\n",
    "\n",
    "mock_data = \"python first, python second, java first\"\n",
    "\n",
    "print(count_occurences(mock_data, 'python'))\n",
    "print(count_occurences(mock_data, 'java'))"
   ]
  },
  {
   "cell_type": "code",
   "execution_count": null,
   "metadata": {},
   "outputs": [],
   "source": [
    "# make a UDF from it:\n",
    "\n",
    "@udf(IntegerType())\n",
    "def count_occurences(message, technology):\n",
    "    return len(re.findall(r\"{}\".format(technology), message, re.IGNORECASE))"
   ]
  },
  {
   "cell_type": "markdown",
   "metadata": {},
   "source": [
    "#### Use the UDF\n",
    "\n",
    "* Apply the function on the DataFrame as a column transformation\n",
    " * add a new column 'python' and count occurences for this word in the text body"
   ]
  },
  {
   "cell_type": "code",
   "execution_count": null,
   "metadata": {},
   "outputs": [],
   "source": [
    "(\n",
    "    questionsDF.withColumn('python', count_occurences(col('body'), lit('python')))\n",
    ").show()"
   ]
  },
  {
   "cell_type": "markdown",
   "metadata": {},
   "source": [
    "#### Verify the result\n",
    "\n",
    "Verify the result by using the new native function released in Spark 3.5.0 [regexp_count](https://spark.apache.org/docs/latest/api/python/reference/pyspark.sql/api/pyspark.sql.functions.regexp_count.html) "
   ]
  },
  {
   "cell_type": "code",
   "execution_count": null,
   "metadata": {},
   "outputs": [],
   "source": [
    "(\n",
    "    questionsDF\n",
    "    .withColumn('python', count_occurences(col('body'), lit('python')))\n",
    "    .withColumn('python_2', regexp_count('body', lit('python')))\n",
    "    .select('question_id','body', 'python', 'python_2')\n",
    "    .orderBy(desc('python_2'), 'question_id')\n",
    ").show(truncate=30)"
   ]
  },
  {
   "cell_type": "code",
   "execution_count": null,
   "metadata": {},
   "outputs": [],
   "source": [
    "spark.stop()"
   ]
  }
 ],
 "metadata": {
  "kernelspec": {
   "display_name": "Python 3 (ipykernel)",
   "language": "python",
   "name": "python3"
  },
  "language_info": {
   "codemirror_mode": {
    "name": "ipython",
    "version": 3
   },
   "file_extension": ".py",
   "mimetype": "text/x-python",
   "name": "python",
   "nbconvert_exporter": "python",
   "pygments_lexer": "ipython3",
   "version": "3.8.1"
  }
 },
 "nbformat": 4,
 "nbformat_minor": 2
}
