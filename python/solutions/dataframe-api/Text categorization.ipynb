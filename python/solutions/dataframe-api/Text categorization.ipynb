{
 "cells": [
  {
   "cell_type": "markdown",
   "metadata": {},
   "source": [
    "# Simple text categorization\n",
    "\n",
    "* In this notebook we will see how to dynamically process lots of culumns using a function as wrapper over native functions\n",
    "\n",
    "## Task\n",
    "\n",
    "* Assume we have some categories (labels or tags) and we want to do a simple text categorization. For each of these categories find out if the category is contained in the body of the question\n",
    "* Implement a function that will add a new column for each of these categories. The name of the column should be the name of the category and the value is 1/0 depending on whether the word is contained in the text.\n",
    "* According to this rule each question can belong to multiple groups\n",
    "* As the final result, compute a sum for each of these categories, to see how many questions belong there\n",
    "\n",
    "### Example\n",
    "\n",
    "* categories: [java, python]\n",
    "* for each categeory we will add one column to the dataframe\n",
    "* text message: \"I prefer coding in python\"\n",
    "* word `python` is present in the text so in `python` column we will have 1, in `java` column we will have 0 (on this particular row) "
   ]
  },
  {
   "cell_type": "code",
   "execution_count": null,
   "metadata": {},
   "outputs": [],
   "source": [
    "from pyspark.sql import SparkSession\n",
    "from pyspark.sql.functions import col, lit, when, sum\n",
    "\n",
    "import os"
   ]
  },
  {
   "cell_type": "code",
   "execution_count": null,
   "metadata": {},
   "outputs": [],
   "source": [
    "spark = (\n",
    "    SparkSession\n",
    "    .builder\n",
    "    .appName('Text search')\n",
    "    .getOrCreate()\n",
    ")"
   ]
  },
  {
   "cell_type": "code",
   "execution_count": null,
   "metadata": {},
   "outputs": [],
   "source": [
    "base_path = os.getcwd()\n",
    "\n",
    "project_path = ('/').join(base_path.split('/')[0:-3]) \n",
    "\n",
    "questions_input_path = os.path.join(project_path, 'output/questions-transformed')"
   ]
  },
  {
   "cell_type": "code",
   "execution_count": null,
   "metadata": {},
   "outputs": [],
   "source": [
    "questionsDF = (\n",
    "    spark\n",
    "    .read\n",
    "    .option('path', questions_input_path)\n",
    "    .load()\n",
    ")"
   ]
  },
  {
   "cell_type": "markdown",
   "metadata": {},
   "source": [
    "#### First do it without a function\n",
    "\n",
    "Hint:\n",
    "* use `when` - `otherwise` condition together with the `like` function\n",
    " * [like](https://spark.apache.org/docs/latest/api/python/pyspark.sql.html#pyspark.sql.Column.like)\n",
    " * [when](https://spark.apache.org/docs/latest/api/python/pyspark.sql.html#pyspark.sql.functions.when)\n",
    "* at the end, sum the occurences using `df.select(sum(..).alias(..), sum(..).alias(..), ...)`\n",
    "    * [alias](https://spark.apache.org/docs/latest/api/python/pyspark.sql.html#pyspark.sql.Column.alias) let's you rename the column\n",
    "* the output should be a DataFrame with one row\n",
    "\n",
    "* Here are the categories: `['java', 'sql', 'python', 'spark']`\n",
    "* Here are the corresponding column names: `['java', 'sql', 'python', 'spark']` (it is the same as the category names)"
   ]
  },
  {
   "cell_type": "code",
   "execution_count": null,
   "metadata": {},
   "outputs": [],
   "source": [
    "(\n",
    "    questionsDF\n",
    "    .select('body')\n",
    "    .withColumn('java', when(col('body').like('%java%'), lit(1)).otherwise(0))\n",
    "    .withColumn('sql', when(col('body').like('%sql%'), lit(1)).otherwise(0))\n",
    "    .withColumn('python', when(col('body').like('%python%'), lit(1)).otherwise(0))\n",
    "    .withColumn('spark', when(col('body').like('%spark%'), lit(1)).otherwise(0))\n",
    "    .select(\n",
    "        sum('java').alias('java'), \n",
    "        sum('sql').alias('sql'), \n",
    "        sum('python').alias('python'), \n",
    "        sum('spark').alias('spark')\n",
    "    )\n",
    ").show()"
   ]
  },
  {
   "cell_type": "markdown",
   "metadata": {},
   "source": [
    "# Implement a function\n",
    "\n",
    "* Now do the same using a function\n",
    "* The function should take 2 arguments:\n",
    "    * df...a DataFrame that will be transformed\n",
    "    * input_col...name of the column with the text message\n",
    "* The function should return a new DataFrame with new columns\n",
    "* The function will simply add for each category new col using some `for-loop` \n",
    "\n",
    "Hint:\n",
    "* in the for loop we will iterate over the categories and you will need to dynamicaly create a string for the `like` function. In Python you can use curly braces with `format` function, for example: `'%{}%'.format(category)`\n",
    "* call the final function as follows:\n",
    "    * `fun_name(df=questionsDF, input_col='body')`\n",
    "    * or use [transform](https://spark.apache.org/docs/latest/api/python/pyspark.sql.html#pyspark.sql.DataFrame.transform) (available in Spark 3.0):\n",
    "        * `questionsDF.transform(lambda x: fun_name(df=x, input_col='body'))`"
   ]
  },
  {
   "cell_type": "code",
   "execution_count": null,
   "metadata": {},
   "outputs": [],
   "source": [
    "categories = ['java', 'sql', 'python', 'spark']\n",
    "\n",
    "def get_c(df, input_col='body'):\n",
    "    for category in categories:\n",
    "        df = df.withColumn(category, when(col(input_col).like('%{}%'.format(category)), lit(1)).otherwise(0))\n",
    "    return df"
   ]
  },
  {
   "cell_type": "code",
   "execution_count": null,
   "metadata": {},
   "outputs": [],
   "source": [
    "result = get_c(df=questionsDF.select('body'), input_col='body')\n",
    "\n",
    "# or since Spark 3.0:\n",
    "result = questionsDF.select('body').transform(lambda x: get_c(df=x, input_col='body'))"
   ]
  },
  {
   "cell_type": "code",
   "execution_count": null,
   "metadata": {},
   "outputs": [],
   "source": [
    "result.filter(col('spark') > 0).show(n=3)"
   ]
  },
  {
   "cell_type": "markdown",
   "metadata": {},
   "source": [
    "# Final sum\n",
    "\n",
    "* Use Python `map + lambda` function to iterate over the column names and apply the `sum` with `alias` "
   ]
  },
  {
   "cell_type": "code",
   "execution_count": null,
   "metadata": {},
   "outputs": [],
   "source": [
    "result.select(list(map(lambda x: sum(x).alias(x), categories))).show()"
   ]
  },
  {
   "cell_type": "code",
   "execution_count": null,
   "metadata": {},
   "outputs": [],
   "source": [
    "spark.stop()"
   ]
  },
  {
   "cell_type": "code",
   "execution_count": null,
   "metadata": {},
   "outputs": [],
   "source": []
  }
 ],
 "metadata": {
  "kernelspec": {
   "display_name": "Python 3",
   "language": "python",
   "name": "python3"
  },
  "language_info": {
   "codemirror_mode": {
    "name": "ipython",
    "version": 3
   },
   "file_extension": ".py",
   "mimetype": "text/x-python",
   "name": "python",
   "nbconvert_exporter": "python",
   "pygments_lexer": "ipython3",
   "version": "3.7.6"
  }
 },
 "nbformat": 4,
 "nbformat_minor": 2
}
