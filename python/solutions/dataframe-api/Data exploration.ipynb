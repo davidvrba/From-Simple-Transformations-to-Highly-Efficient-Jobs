{
 "cells": [
  {
   "cell_type": "markdown",
   "metadata": {},
   "source": [
    "# Data exploration\n",
    "\n",
    "The goal of this notebook is to get familiar with the datasets that will be used throughout the training. \n",
    "\n",
    "Explore these three dataset:\n",
    "* questions (Json format)\n",
    "* answers (Parquet format)\n",
    "* users (Parquet format)\n",
    "\n",
    "\n",
    "1. For each of them:\n",
    "  * see the schema\n",
    "  * see first 10 records\n",
    "  * find the total count\n",
    "\n",
    "\n",
    "2. For users find out how many distinct locations we have\n",
    "3. Compute how many users we have in each location\n",
    "4. Find three top users with highest reputation\n",
    "5. Find the top question with the highest score\n",
    "6. Count how many questions have accepted answer\n",
    "7. Find the question that has the most answers"
   ]
  },
  {
   "cell_type": "code",
   "execution_count": 20,
   "metadata": {},
   "outputs": [],
   "source": [
    "from pyspark.sql import SparkSession\n",
    "from pyspark.sql.functions import col, desc, count\n",
    "\n",
    "import os"
   ]
  },
  {
   "cell_type": "code",
   "execution_count": 21,
   "metadata": {},
   "outputs": [],
   "source": [
    "spark = (\n",
    "    SparkSession\n",
    "    .builder\n",
    "    .appName('Data inspection')\n",
    "    .getOrCreate()\n",
    ")"
   ]
  },
  {
   "cell_type": "code",
   "execution_count": 22,
   "metadata": {},
   "outputs": [],
   "source": [
    "# Paths to the datasets:\n",
    "\n",
    "base_path = os.getcwd()\n",
    "\n",
    "project_path = ('/').join(base_path.split('/')[0:-3]) \n",
    "\n",
    "questions_input_path = os.path.join(project_path, 'data/questions-json')\n",
    "\n",
    "answers_input_path = os.path.join(project_path, 'data/answers')\n",
    "\n",
    "users_input_path = os.path.join(project_path, 'data/users')"
   ]
  },
  {
   "cell_type": "code",
   "execution_count": 23,
   "metadata": {},
   "outputs": [],
   "source": [
    "usersDF = spark.read.parquet(users_input_path)\n",
    "\n",
    "questionsDF = spark.read.json(questions_input_path)\n",
    "\n",
    "answersDF = spark.read.parquet(answers_input_path)"
   ]
  },
  {
   "cell_type": "markdown",
   "metadata": {},
   "source": [
    "#### Check the schemas, counts and some records\n",
    "\n",
    "Hint:\n",
    "* use `printSchema`, `count`, `show`"
   ]
  },
  {
   "cell_type": "code",
   "execution_count": 24,
   "metadata": {},
   "outputs": [
    {
     "name": "stdout",
     "output_type": "stream",
     "text": [
      "root\n",
      " |-- user_id: long (nullable = true)\n",
      " |-- display_name: string (nullable = true)\n",
      " |-- about: string (nullable = true)\n",
      " |-- location: string (nullable = true)\n",
      " |-- downvotes: long (nullable = true)\n",
      " |-- upvotes: long (nullable = true)\n",
      " |-- reputation: long (nullable = true)\n",
      " |-- views: long (nullable = true)\n",
      "\n"
     ]
    }
   ],
   "source": [
    "usersDF.printSchema()"
   ]
  },
  {
   "cell_type": "code",
   "execution_count": 25,
   "metadata": {},
   "outputs": [
    {
     "name": "stdout",
     "output_type": "stream",
     "text": [
      "+-------+------------------+--------------------+--------------------+---------+-------+----------+-----+\n",
      "|user_id|      display_name|               about|            location|downvotes|upvotes|reputation|views|\n",
      "+-------+------------------+--------------------+--------------------+---------+-------+----------+-----+\n",
      "| 189509|           tgmjack|                null|                null|        0|      0|        45|   18|\n",
      "|  22619|       user1956641|                null|St.Petersburg, Ru...|        0|      0|         1|    1|\n",
      "| 109648|            Dexter|                null|                null|        0|      0|         1|    0|\n",
      "|  27389|              Cala|                    |              Greece|        0|      7|       387|   42|\n",
      "| 242785|Bitthal Maheshwari|                null|                null|        0|      0|         1|    0|\n",
      "| 178788|        J. Mossman|                null|                null|        0|      0|         1|    0|\n",
      "| 172407|        Elise Bond|                null|                null|        0|      0|         1|    0|\n",
      "|   7538|              Ivan|<p>I currently wo...|             Arizona|        0|      0|       101|    0|\n",
      "| 249590|           CG poly|<p>student of 12t...|             Germany|        0|      0|         1|    0|\n",
      "|  93462|           Winston|                null|                null|        0|      0|       101|    0|\n",
      "+-------+------------------+--------------------+--------------------+---------+-------+----------+-----+\n",
      "only showing top 10 rows\n",
      "\n"
     ]
    }
   ],
   "source": [
    "usersDF.show(n=10)"
   ]
  },
  {
   "cell_type": "code",
   "execution_count": 26,
   "metadata": {},
   "outputs": [
    {
     "data": {
      "text/plain": [
       "190014"
      ]
     },
     "execution_count": 26,
     "metadata": {},
     "output_type": "execute_result"
    }
   ],
   "source": [
    "usersDF.count()"
   ]
  },
  {
   "cell_type": "code",
   "execution_count": 27,
   "metadata": {},
   "outputs": [
    {
     "name": "stdout",
     "output_type": "stream",
     "text": [
      "root\n",
      " |-- accepted_answer_id: long (nullable = true)\n",
      " |-- answers: long (nullable = true)\n",
      " |-- body: string (nullable = true)\n",
      " |-- comments: long (nullable = true)\n",
      " |-- creation_date: timestamp (nullable = true)\n",
      " |-- question_id: long (nullable = true)\n",
      " |-- score: long (nullable = true)\n",
      " |-- tags: string (nullable = true)\n",
      " |-- title: string (nullable = true)\n",
      " |-- user_id: long (nullable = true)\n",
      " |-- views: long (nullable = true)\n",
      "\n"
     ]
    }
   ],
   "source": [
    "questionsDF.printSchema()"
   ]
  },
  {
   "cell_type": "code",
   "execution_count": 28,
   "metadata": {},
   "outputs": [
    {
     "name": "stdout",
     "output_type": "stream",
     "text": [
      "+------------------+-------+----------+--------+-------------+-----------+-----+----------+----------+-------+-----+\n",
      "|accepted_answer_id|answers|      body|comments|creation_date|question_id|score|      tags|     title|user_id|views|\n",
      "+------------------+-------+----------+--------+-------------+-----------+-----+----------+----------+-------+-----+\n",
      "|              null|      0|<h2>Que...|       6|   2016-12...|     296663|    0|<radiat...|Probabi...| 123260|   33|\n",
      "|              6517|      6|<p>I'm ...|       9|   2011-03...|       6505|   12|<classi...|Are wat...|   1272|12769|\n",
      "|            122806|      1|<p>How ...|       2|   2014-07...|     122781|    3|<statis...|Evaluat...|  52646|  365|\n",
      "|              null|      1|<p>The ...|       3|   2017-01...|     304107|    0|   <waves>|How do ...| 106228|  200|\n",
      "|              null|      2|<p>When...|       1|   2015-01...|     160063|    0|<centri...|Why do ...|  70599|  269|\n",
      "|              null|      1|<p>Supp...|       0|   2017-12...|     373079|    0|<optics...|Can a p...|  98822|   76|\n",
      "|            246147|      1|<p>So I...|       1|   2016-03...|     246005|    0|<thermo...|Gas/liq...|  11870|  149|\n",
      "|            380974|      1|<p>I re...|       5|   2018-01...|     380882|    5|<temper...|Why can...| 182048|  178|\n",
      "|              null|      1|<p>I ha...|       0|   2017-01...|     308467|    0|<quantu...|Harmoni...| 129511|  155|\n",
      "|            217399|      1|<p>Just...|       2|   2015-11...|     217386|    1|<gravit...|Gravity...|  36562| 2232|\n",
      "+------------------+-------+----------+--------+-------------+-----------+-----+----------+----------+-------+-----+\n",
      "only showing top 10 rows\n",
      "\n"
     ]
    }
   ],
   "source": [
    "questionsDF.show(n=10, truncate=10)"
   ]
  },
  {
   "cell_type": "code",
   "execution_count": 29,
   "metadata": {},
   "outputs": [
    {
     "data": {
      "text/plain": [
       "154905"
      ]
     },
     "execution_count": 29,
     "metadata": {},
     "output_type": "execute_result"
    }
   ],
   "source": [
    "questionsDF.count()"
   ]
  },
  {
   "cell_type": "code",
   "execution_count": 30,
   "metadata": {},
   "outputs": [
    {
     "name": "stdout",
     "output_type": "stream",
     "text": [
      "root\n",
      " |-- answer_id: long (nullable = true)\n",
      " |-- creation_date: timestamp (nullable = true)\n",
      " |-- body: string (nullable = true)\n",
      " |-- comments: long (nullable = true)\n",
      " |-- user_id: long (nullable = true)\n",
      " |-- score: long (nullable = true)\n",
      " |-- question_id: long (nullable = true)\n",
      "\n"
     ]
    }
   ],
   "source": [
    "answersDF.printSchema()"
   ]
  },
  {
   "cell_type": "code",
   "execution_count": 31,
   "metadata": {},
   "outputs": [
    {
     "name": "stdout",
     "output_type": "stream",
     "text": [
      "+---------+-------------+----------+--------+-------+-----+-----------+\n",
      "|answer_id|creation_date|      body|comments|user_id|score|question_id|\n",
      "+---------+-------------+----------+--------+-------+-----+-----------+\n",
      "|   334556|   2017-05...|<p>Prev...|       2| 156813|    0|     334548|\n",
      "|   391386|   2018-03...|<p>Grav...|       9| 150025|   10|     391381|\n",
      "|   201434|   2015-08...|<p>Sinc...|       3|  24022|    1|     201428|\n",
      "|   408789|   2018-05...|<p>Dual...|       2|   2525|    1|     408737|\n",
      "|    81529|   2013-10...|<p>Have...|       1|   1325|    1|      81503|\n",
      "|    63988|   2013-05...|<p>I) P...|       1|   2451|    2|      63950|\n",
      "|     6401|   2011-03...|<p><str...|       0|   1257|    0|       6370|\n",
      "|   479648|   2019-05...|<p>In a...|       0|  37364|    1|     479619|\n",
      "|    47562|   2012-12...|<p>The ...|       0|  14473|    0|      47074|\n",
      "|   290761|   2016-11...|<p>The ...|       0|   4272|    1|     290515|\n",
      "+---------+-------------+----------+--------+-------+-----+-----------+\n",
      "only showing top 10 rows\n",
      "\n"
     ]
    }
   ],
   "source": [
    "answersDF.show(n=10, truncate=10)"
   ]
  },
  {
   "cell_type": "markdown",
   "metadata": {},
   "source": [
    "#### For users find out how many distinct locations we have\n",
    "\n",
    "Hint:\n",
    "* use `distinct` or `dropDuplicates`\n",
    "* docs for distinct: https://spark.apache.org/docs/latest/api/python/pyspark.sql.html#pyspark.sql.DataFrame.distinct"
   ]
  },
  {
   "cell_type": "code",
   "execution_count": 32,
   "metadata": {},
   "outputs": [
    {
     "data": {
      "text/plain": [
       "10457"
      ]
     },
     "execution_count": 32,
     "metadata": {},
     "output_type": "execute_result"
    }
   ],
   "source": [
    "usersDF.select('location').distinct().count()"
   ]
  },
  {
   "cell_type": "markdown",
   "metadata": {},
   "source": [
    "#### Compute how many users we have in each location\n",
    "\n",
    "Hint:\n",
    "* filter out nulls\n",
    "* use `groupBy` + `count`"
   ]
  },
  {
   "cell_type": "code",
   "execution_count": 33,
   "metadata": {},
   "outputs": [
    {
     "name": "stdout",
     "output_type": "stream",
     "text": [
      "+--------------------+----+\n",
      "|            location| cnt|\n",
      "+--------------------+----+\n",
      "|               India|1604|\n",
      "|       United States| 932|\n",
      "|             Germany| 792|\n",
      "|      United Kingdom| 595|\n",
      "|London, United Ki...| 583|\n",
      "|              Canada| 404|\n",
      "|                 USA| 403|\n",
      "|              France| 367|\n",
      "|         Netherlands| 311|\n",
      "|                  UK| 307|\n",
      "|           Australia| 294|\n",
      "|Bangalore, Karnat...| 280|\n",
      "|              Brazil| 280|\n",
      "|               Italy| 279|\n",
      "|    Bangalore, India| 254|\n",
      "|       Paris, France| 252|\n",
      "|     Berlin, Germany| 243|\n",
      "|               Earth| 227|\n",
      "|          London, UK| 223|\n",
      "|           Singapore| 218|\n",
      "+--------------------+----+\n",
      "only showing top 20 rows\n",
      "\n"
     ]
    }
   ],
   "source": [
    "(\n",
    "    usersDF\n",
    "    .filter(col('location').isNotNull())\n",
    "    .groupBy('location')\n",
    "    .agg(count('*').alias('cnt'))\n",
    "    .orderBy(desc('cnt'))\n",
    ").show()"
   ]
  },
  {
   "cell_type": "markdown",
   "metadata": {},
   "source": [
    "#### Find three top users with highest reputation\n",
    "\n",
    "Hint:\n",
    "* use `orderBy` + `desc` + `limit`"
   ]
  },
  {
   "cell_type": "code",
   "execution_count": 34,
   "metadata": {},
   "outputs": [
    {
     "name": "stdout",
     "output_type": "stream",
     "text": [
      "+-------+------------+--------------------+--------------------+---------+-------+----------+-----+\n",
      "|user_id|display_name|               about|            location|downvotes|upvotes|reputation|views|\n",
      "+-------+------------+--------------------+--------------------+---------+-------+----------+-----+\n",
      "|   1325| John Rennie|<p>My career in s...|Chester, United K...|     2594|   2861|    294805|70188|\n",
      "|   1492|      anna v|<p>Retired experi...|              Greece|      137|   8726|    177737|36752|\n",
      "|   1236|  Luboš Motl|<p>Hi, I am a str...|      Czech Republic|      917|   2013|    159837|83704|\n",
      "+-------+------------+--------------------+--------------------+---------+-------+----------+-----+\n",
      "\n"
     ]
    }
   ],
   "source": [
    "usersDF.orderBy(desc('reputation')).limit(3).show()"
   ]
  },
  {
   "cell_type": "markdown",
   "metadata": {},
   "source": [
    "#### Find the top question with the highest score"
   ]
  },
  {
   "cell_type": "code",
   "execution_count": 35,
   "metadata": {},
   "outputs": [
    {
     "name": "stdout",
     "output_type": "stream",
     "text": [
      "+--------------------------------------------+-----+\n",
      "|                                       title|score|\n",
      "+--------------------------------------------+-----+\n",
      "|Cooling a cup of coffee with help of a spoon|  703|\n",
      "+--------------------------------------------+-----+\n",
      "\n"
     ]
    }
   ],
   "source": [
    "(\n",
    "    questionsDF.orderBy(desc('score')).select('title', 'score').limit(1)\n",
    ").show(truncate=200)"
   ]
  },
  {
   "cell_type": "markdown",
   "metadata": {},
   "source": [
    "#### Count how many questions have accepted answer"
   ]
  },
  {
   "cell_type": "code",
   "execution_count": 36,
   "metadata": {},
   "outputs": [
    {
     "data": {
      "text/plain": [
       "66417"
      ]
     },
     "execution_count": 36,
     "metadata": {},
     "output_type": "execute_result"
    }
   ],
   "source": [
    "questionsDF.filter(col('accepted_answer_id').isNotNull()).count()"
   ]
  },
  {
   "cell_type": "markdown",
   "metadata": {},
   "source": [
    "#### Find the question that has the most answers\n",
    "\n",
    "Hint:\n",
    "* join questions with answers on `question_id`\n",
    "* groupBy question_id\n",
    "* count\n",
    "* orderBy the count in desc order\n",
    "* limit 1\n",
    "* collect the question_id and use it in the next query"
   ]
  },
  {
   "cell_type": "code",
   "execution_count": 37,
   "metadata": {},
   "outputs": [],
   "source": [
    "question_id = (\n",
    "    questionsDF.alias('q')\n",
    "    .join(answersDF.alias('a'), 'question_id')\n",
    "    .groupBy('question_id')\n",
    "    .agg(count('*').alias('cnt'))\n",
    "    .orderBy(desc('cnt'))\n",
    "    .limit(1)\n",
    ").collect()[0]['question_id']"
   ]
  },
  {
   "cell_type": "code",
   "execution_count": 38,
   "metadata": {},
   "outputs": [
    {
     "name": "stdout",
     "output_type": "stream",
     "text": [
      "+-------------------------------+\n",
      "|title                          |\n",
      "+-------------------------------+\n",
      "|Common false beliefs in Physics|\n",
      "+-------------------------------+\n",
      "\n"
     ]
    }
   ],
   "source": [
    "(\n",
    "    questionsDF.filter(col('question_id') == question_id)\n",
    "    .select('title')\n",
    ").show(truncate=False)"
   ]
  },
  {
   "cell_type": "code",
   "execution_count": null,
   "metadata": {},
   "outputs": [],
   "source": []
  }
 ],
 "metadata": {
  "kernelspec": {
   "display_name": "Python 3",
   "language": "python",
   "name": "python3"
  },
  "language_info": {
   "codemirror_mode": {
    "name": "ipython",
    "version": 3
   },
   "file_extension": ".py",
   "mimetype": "text/x-python",
   "name": "python",
   "nbconvert_exporter": "python",
   "pygments_lexer": "ipython3",
   "version": "3.7.6"
  }
 },
 "nbformat": 4,
 "nbformat_minor": 2
}
