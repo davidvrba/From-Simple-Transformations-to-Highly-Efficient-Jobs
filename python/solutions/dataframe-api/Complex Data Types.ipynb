{
 "cells": [
  {
   "cell_type": "markdown",
   "metadata": {},
   "source": [
    "# Complex Data Types\n",
    "\n",
    "In this notebook you will continue to improve the text categorization query implemented in `Text categorization` and `User Defined Functions` notebook. For each question find out which category has the most occurences in the text. Consider only questions for which we have at least one occurence."
   ]
  },
  {
   "cell_type": "code",
   "execution_count": null,
   "metadata": {},
   "outputs": [],
   "source": [
    "from pyspark.sql import SparkSession\n",
    "from pyspark.sql.functions import col, udf, lit, array, struct, reverse, array_sort\n",
    "from pyspark.sql.types import IntegerType\n",
    "\n",
    "import os\n",
    "import re"
   ]
  },
  {
   "cell_type": "code",
   "execution_count": null,
   "metadata": {},
   "outputs": [],
   "source": [
    "spark = (\n",
    "    SparkSession\n",
    "    .builder\n",
    "    .appName('UDFs I')\n",
    "    .getOrCreate()\n",
    ")"
   ]
  },
  {
   "cell_type": "code",
   "execution_count": null,
   "metadata": {},
   "outputs": [],
   "source": [
    "base_path = os.getcwd()\n",
    "\n",
    "project_path = ('/').join(base_path.split('/')[0:-3]) \n",
    "\n",
    "questions_input_path = os.path.join(project_path, 'output/questions-transformed')"
   ]
  },
  {
   "cell_type": "code",
   "execution_count": null,
   "metadata": {},
   "outputs": [],
   "source": [
    "questionsDF = (\n",
    "    spark\n",
    "    .read\n",
    "    .option('path', questions_input_path)\n",
    "    .load()\n",
    ")"
   ]
  },
  {
   "cell_type": "code",
   "execution_count": null,
   "metadata": {},
   "outputs": [],
   "source": [
    "categories = ['java', 'sql', 'python', 'spark']"
   ]
  },
  {
   "cell_type": "code",
   "execution_count": null,
   "metadata": {},
   "outputs": [],
   "source": [
    "@udf(IntegerType())\n",
    "def count_occurences(message, category):\n",
    "    return len(re.findall(r\"{}\".format(category) , message, re.IGNORECASE))"
   ]
  },
  {
   "cell_type": "code",
   "execution_count": null,
   "metadata": {},
   "outputs": [],
   "source": [
    "def get_c(df):\n",
    "    for category in categories:\n",
    "        df = df.withColumn(category, count_occurences(col('body'), lit(category)))\n",
    "    return df"
   ]
  },
  {
   "cell_type": "code",
   "execution_count": null,
   "metadata": {},
   "outputs": [],
   "source": [
    "result = get_c(questionsDF.select('question_id', 'body'))"
   ]
  },
  {
   "cell_type": "markdown",
   "metadata": {},
   "source": [
    "### Find the most relevant category\n",
    "\n",
    "* The result now contains number of occurences for each catagory.\n",
    "* For each question find out which category has the most occurences\n",
    "\n",
    "Hint\n",
    "* For each question create an array of structs where the struct should have to subfields\n",
    " * category_name\n",
    " * frequency (number of occurences)\n",
    "* Use a for-loop over the `cols` list to create the array\n",
    "* Sort the array in descending order (have the `frequency` subfield on the first position in the struct)\n",
    "* Access the subfields of the first element\n",
    "* Docs for array_sort https://spark.apache.org/docs/latest/api/python/pyspark.sql.html#pyspark.sql.functions.array_sort\n",
    "* Docs for reverse https://spark.apache.org/docs/latest/api/python/pyspark.sql.html#pyspark.sql.functions.reverse\n",
    "* Docs for struct https://spark.apache.org/docs/latest/api/python/pyspark.sql.html#pyspark.sql.functions.struct"
   ]
  },
  {
   "cell_type": "code",
   "execution_count": null,
   "metadata": {},
   "outputs": [],
   "source": [
    "# Using a for-loop create the expression that we will pass as an argument to the array function\n",
    "# Use struct function\n",
    "\n",
    "s = []\n",
    "for c in categories:\n",
    "    s.append(struct(col(c).alias('frequency'), lit(c).alias('category_name')))"
   ]
  },
  {
   "cell_type": "code",
   "execution_count": null,
   "metadata": {},
   "outputs": [],
   "source": [
    "# Create the array using the array function\n",
    "# Sort the array and take first element\n",
    "\n",
    "(\n",
    "    result\n",
    "    .withColumn('categories', array(*s))\n",
    "    .withColumn('categories', reverse(array_sort('categories')))\n",
    "    .select(\n",
    "        'question_id',\n",
    "        col('categories.category_name')[0].alias('category'),\n",
    "        col('categories.frequency')[0].alias('frequency')\n",
    "    )\n",
    "    .filter(col('frequency') > 0)\n",
    ").show()"
   ]
  },
  {
   "cell_type": "markdown",
   "metadata": {},
   "source": [
    "#### Note\n",
    "* When you sort array with structs, the position of the subfields is important."
   ]
  },
  {
   "cell_type": "code",
   "execution_count": null,
   "metadata": {},
   "outputs": [],
   "source": [
    "spark.stop()"
   ]
  },
  {
   "cell_type": "code",
   "execution_count": null,
   "metadata": {},
   "outputs": [],
   "source": []
  }
 ],
 "metadata": {
  "kernelspec": {
   "display_name": "Python 3",
   "language": "python",
   "name": "python3"
  },
  "language_info": {
   "codemirror_mode": {
    "name": "ipython",
    "version": 3
   },
   "file_extension": ".py",
   "mimetype": "text/x-python",
   "name": "python",
   "nbconvert_exporter": "python",
   "pygments_lexer": "ipython3",
   "version": "3.7.6"
  }
 },
 "nbformat": 4,
 "nbformat_minor": 2
}
