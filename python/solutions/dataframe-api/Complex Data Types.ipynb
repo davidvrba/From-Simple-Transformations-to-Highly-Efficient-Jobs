{
 "cells": [
  {
   "cell_type": "markdown",
   "metadata": {},
   "source": [
    "# Complex Data Types\n",
    "\n",
    "In this notebook you will continue to improve the text categorization query implemented in `Text categorization` and `User Defined Functions` notebook. For each question find out which category has the most occurences in the text. Consider only questions for which we have at least one occurence."
   ]
  },
  {
   "cell_type": "code",
   "execution_count": null,
   "metadata": {},
   "outputs": [],
   "source": [
    "\"\"\"\n",
    "Example output:\n",
    "+-----------+--------+---------+\n",
    "|question_id|category|frequency|\n",
    "+-----------+--------+---------+\n",
    "|   59611343|    java|        2| # this means that java was contained 2x in the question text\n",
    "|   21038752|  python|        5| # this means that python was contained 5x in the question text\n",
    "|   44381369|     sql|        5|\n",
    "+-----------+--------+---------+\n",
    "\"\"\""
   ]
  },
  {
   "cell_type": "code",
   "execution_count": null,
   "metadata": {},
   "outputs": [],
   "source": [
    "from pyspark.sql import SparkSession\n",
    "from pyspark.sql.functions import col, udf, lit, array, struct, reverse, array_sort, expr\n",
    "from pyspark.sql.types import IntegerType\n",
    "\n",
    "import os\n",
    "import re"
   ]
  },
  {
   "cell_type": "code",
   "execution_count": null,
   "metadata": {},
   "outputs": [],
   "source": [
    "spark = (\n",
    "    SparkSession\n",
    "    .builder\n",
    "    .appName('UDFs I')\n",
    "    .getOrCreate()\n",
    ")"
   ]
  },
  {
   "cell_type": "code",
   "execution_count": null,
   "metadata": {},
   "outputs": [],
   "source": [
    "base_path = os.getcwd()\n",
    "\n",
    "project_path = ('/').join(base_path.split('/')[0:-3]) \n",
    "\n",
    "questions_input_path = os.path.join(project_path, 'output/questions-transformed')"
   ]
  },
  {
   "cell_type": "code",
   "execution_count": null,
   "metadata": {},
   "outputs": [],
   "source": [
    "questionsDF = (\n",
    "    spark\n",
    "    .read\n",
    "    .option('path', questions_input_path)\n",
    "    .load()\n",
    ")"
   ]
  },
  {
   "cell_type": "code",
   "execution_count": null,
   "metadata": {},
   "outputs": [],
   "source": [
    "# This is what we implemented in `User Defined Functions` notebook.\n",
    "\n",
    "categories = ['java', 'sql', 'python', 'spark']\n",
    "\n",
    "@udf(IntegerType())\n",
    "def count_occurences(message, category):\n",
    "    return len(re.findall(r\"{}\".format(category) , message, re.IGNORECASE))\n",
    "\n",
    "def get_c(df):\n",
    "    for category in categories:\n",
    "        df = df.withColumn(category, count_occurences(col('body'), lit(category)))\n",
    "    return df\n",
    "\n",
    "result = get_c(questionsDF.select('question_id', 'body'))"
   ]
  },
  {
   "cell_type": "markdown",
   "metadata": {},
   "source": [
    "Now we will move it a step futher:"
   ]
  },
  {
   "cell_type": "code",
   "execution_count": null,
   "metadata": {},
   "outputs": [],
   "source": [
    "result.show()"
   ]
  },
  {
   "cell_type": "markdown",
   "metadata": {},
   "source": [
    "### Find the most relevant category\n",
    "\n",
    "* The result now contains number of occurences for each catagory.\n",
    "* For each question find out which category has the most occurences\n",
    "\n",
    "Hint\n",
    "* For each question create an array of structs where the struct should have to subfields\n",
    " * category_name\n",
    " * frequency (number of occurences)\n",
    "* Use a for-loop over the `cols` list to create the array\n",
    "* Sort the array in descending order (have the `frequency` subfield on the first position in the struct)\n",
    "* Access the subfields of the first element\n",
    "* Functions you will need:\n",
    "    * [array_sort](http://spark.apache.org/docs/latest/api/python/reference/api/pyspark.sql.functions.array_sort.html#pyspark.sql.functions.array_sort)\n",
    "    * [reverse](http://spark.apache.org/docs/latest/api/python/reference/api/pyspark.sql.functions.reverse.html#pyspark.sql.functions.reverse)\n",
    "    * [struct](http://spark.apache.org/docs/latest/api/python/reference/api/pyspark.sql.functions.struct.html#pyspark.sql.functions.struct)"
   ]
  },
  {
   "cell_type": "code",
   "execution_count": null,
   "metadata": {},
   "outputs": [],
   "source": [
    "# Using a for-loop create the expression that we will pass as an argument to the array function\n",
    "# Use struct function: struct(a.alias(...), b.alias(...)), where a and b are the frequency col and the column name\n",
    "# Using the alias in the struct is important here, because we have to make sure that the fields have the same name \n",
    "# for each element inside the array\n",
    "\n",
    "s = []\n",
    "for c in categories:\n",
    "    s.append(struct(col(c).alias('frequency'), lit(c).alias('category_name')))"
   ]
  },
  {
   "cell_type": "code",
   "execution_count": null,
   "metadata": {},
   "outputs": [],
   "source": [
    "# Create the array using the array function\n",
    "# Sort the array and take first element\n",
    "\n",
    "(\n",
    "    result\n",
    "    .withColumn('categories', array(s))\n",
    "    .withColumn('categories', reverse(array_sort('categories')))\n",
    "    .select(\n",
    "        'question_id',\n",
    "        col('categories.category_name')[0].alias('category'),\n",
    "        col('categories.frequency')[0].alias('frequency')\n",
    "    )\n",
    "    .filter(col('frequency') > 0)\n",
    ").show(n=10)"
   ]
  },
  {
   "cell_type": "code",
   "execution_count": null,
   "metadata": {},
   "outputs": [],
   "source": [
    "# or equivalently you can first access the first element of the array and then select the category and frequency:\n",
    "\n",
    "(\n",
    "    result\n",
    "    .withColumn('categories', array(s))\n",
    "    .withColumn('categories', reverse(array_sort('categories')))\n",
    "    .select(\n",
    "        'question_id',\n",
    "        col('categories')[0].alias('category') # get the first struct\n",
    "    )\n",
    "    .select(\n",
    "        'question_id',\n",
    "        col('category.category_name').alias('category'), # access the fields of the struct\n",
    "        'category.frequency'\n",
    "    )\n",
    "    .filter(col('frequency') > 0)\n",
    ").show(n=10)"
   ]
  },
  {
   "cell_type": "markdown",
   "metadata": {},
   "source": [
    "#### Note\n",
    "* When you sort array with structs, the position of the subfields is important.\n",
    "* With the array_sort function when the frequency was the same we had no control over the sort\n",
    "* Also we were relying on internal feature that the structs will be sorted according to the first subfield"
   ]
  },
  {
   "cell_type": "markdown",
   "metadata": {},
   "source": [
    "#### Custimize the sort \n",
    "\n",
    "If the frequency is the same for two categories, prefer the `sql` category.\n",
    "\n",
    "Hint\n",
    "* use [array_sort](https://spark.apache.org/docs/latest/api/sql/index.html#array_sort) as a SQL expression inside expr - it will allow to use a custom comparator function\n",
    "* for a specific example see my [article](https://towardsdatascience.com/did-you-know-this-in-spark-sql-a7398bfcc41e)"
   ]
  },
  {
   "cell_type": "code",
   "execution_count": null,
   "metadata": {},
   "outputs": [],
   "source": [
    "(\n",
    "    result\n",
    "    .withColumn('categories', array(s))\n",
    "    .withColumn('categories', expr(\n",
    "        \"\"\"array_sort(categories, (left, right) -> case when left.frequency < right.frequency then 1\n",
    "            when left.frequency > right.frequency then -1 \n",
    "            when left.frequency == right.frequency and left.category_name == 'sql' then -1\n",
    "            else 0 end)\"\"\"\n",
    "    ))\n",
    "    .select(\n",
    "        'question_id',\n",
    "        col('categories.category_name')[0].alias('category'),\n",
    "        col('categories.frequency')[0].alias('frequency')\n",
    "    )\n",
    "    .filter(col('frequency') > 0)\n",
    ").show(n=10)"
   ]
  },
  {
   "cell_type": "code",
   "execution_count": null,
   "metadata": {},
   "outputs": [],
   "source": [
    "spark.stop()"
   ]
  }
 ],
 "metadata": {
  "kernelspec": {
   "display_name": "Python 3",
   "language": "python",
   "name": "python3"
  },
  "language_info": {
   "codemirror_mode": {
    "name": "ipython",
    "version": 3
   },
   "file_extension": ".py",
   "mimetype": "text/x-python",
   "name": "python",
   "nbconvert_exporter": "python",
   "pygments_lexer": "ipython3",
   "version": "3.6.9"
  }
 },
 "nbformat": 4,
 "nbformat_minor": 2
}
