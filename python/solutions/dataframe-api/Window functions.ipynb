{
 "cells": [
  {
   "cell_type": "markdown",
   "metadata": {},
   "source": [
    "# Window functions\n",
    "\n",
    "In this notebook you will:\n",
    "* solve analytical question using window functions"
   ]
  },
  {
   "cell_type": "code",
   "execution_count": 11,
   "metadata": {},
   "outputs": [],
   "source": [
    "from pyspark.sql import SparkSession\n",
    "from pyspark.sql.functions import col, count, unix_timestamp, row_number, lead, avg\n",
    "from pyspark.sql import Window\n",
    "\n",
    "import os"
   ]
  },
  {
   "cell_type": "code",
   "execution_count": 12,
   "metadata": {},
   "outputs": [],
   "source": [
    "spark = (\n",
    "    SparkSession\n",
    "    .builder\n",
    "    .appName('WF I')\n",
    "    .getOrCreate()\n",
    ")"
   ]
  },
  {
   "cell_type": "markdown",
   "metadata": {},
   "source": [
    "# Task 1\n",
    "\n",
    "* compute avg time between two consecutive answers for each user that answered at least 2 questions"
   ]
  },
  {
   "cell_type": "code",
   "execution_count": 13,
   "metadata": {},
   "outputs": [],
   "source": [
    "base_path = os.getcwd()\n",
    "\n",
    "project_path = ('/').join(base_path.split('/')[0:-3]) \n",
    "\n",
    "data_input_path = os.path.join(project_path, 'data/answers')"
   ]
  },
  {
   "cell_type": "code",
   "execution_count": 14,
   "metadata": {},
   "outputs": [],
   "source": [
    "answersDF = (\n",
    "    spark\n",
    "    .read\n",
    "    .option('path', data_input_path)\n",
    "    .load()\n",
    ").cache()"
   ]
  },
  {
   "cell_type": "markdown",
   "metadata": {},
   "source": [
    "#### Take only users that answered at least 2 questions:\n",
    "\n",
    "Hint:\n",
    "* Define a [window](https://spark.apache.org/docs/latest/api/python/pyspark.sql.html#pyspark.sql.Window) per user_id\n",
    "* Use count as a window function\n",
    "* Filter only users with count > 1"
   ]
  },
  {
   "cell_type": "code",
   "execution_count": 15,
   "metadata": {},
   "outputs": [],
   "source": [
    "# for this window avoid using the sort, because if you sort the window\n",
    "# you will have to add frame definition .rowsBetween(Window().unboundedPreceding, Window().unboundedFollowing)\n",
    "# if you don't sort, all records for a given user_id will be considered in the window\n",
    "# with the sort the default frame is .rowsBetween(Window().unboundedPreceding, Window().currentRow)\n",
    "\n",
    "w = Window().partitionBy('user_id')\n",
    "\n",
    "data = (\n",
    "    answersDF\n",
    "    .filter(col('user_id').isNotNull())\n",
    "    .withColumn('r', count('*').over(w))\n",
    "    .filter(col('r') > 1)\n",
    ")"
   ]
  },
  {
   "cell_type": "code",
   "execution_count": 16,
   "metadata": {},
   "outputs": [
    {
     "name": "stdout",
     "output_type": "stream",
     "text": [
      "+-----------+---------+--------------------+--------------------+--------+-------+-----+---+\n",
      "|question_id|answer_id|       creation_date|                body|comments|user_id|score|  r|\n",
      "+-----------+---------+--------------------+--------------------+--------+-------+-----+---+\n",
      "|     286401|   789058|2009-04-25 16:46:...|<p>If the compute...|       0|      5|    1|  4|\n",
      "|    1166858|  1166871|2009-07-22 19:23:...|<p>I'd add a catc...|       5|      5|    1|  4|\n",
      "|    1167625|  1167645|2009-07-22 21:29:...|<p>Use the <a hre...|       0|      5|    2|  4|\n",
      "|    1434284|  1435853|2009-09-17 00:29:...|<p>Expired items ...|       4|      5|    5|  4|\n",
      "|     113385|   113398|2008-09-22 08:08:...|<p>Is this close ...|       1|     13|    0| 14|\n",
      "+-----------+---------+--------------------+--------------------+--------+-------+-----+---+\n",
      "only showing top 5 rows\n",
      "\n"
     ]
    }
   ],
   "source": [
    "data.orderBy('user_id', 'answer_id').show(n=5)"
   ]
  },
  {
   "cell_type": "markdown",
   "metadata": {},
   "source": [
    "#### Compute the average time between answers:\n",
    "\n",
    "Hint:\n",
    "* Define new window also per user but sorted by creation_date\n",
    "* Use [lead](https://spark.apache.org/docs/latest/api/python/pyspark.sql.html#pyspark.sql.functions.lead) function to add new column which contains the next answer\n",
    "* Compute the time difference (use [unix_timestamp](https://spark.apache.org/docs/latest/api/python/pyspark.sql.html#pyspark.sql.functions.unix_timestamp)) which returns the timestamp in seconds\n",
    "* Group by user and compute the average"
   ]
  },
  {
   "cell_type": "code",
   "execution_count": 17,
   "metadata": {},
   "outputs": [],
   "source": [
    "w2 = Window().partitionBy('user_id').orderBy('creation_date')\n",
    "\n",
    "resultDF = (\n",
    "    data\n",
    "    .withColumn('next_answer', lead('creation_date').over(w2))\n",
    "    .filter(col('next_answer').isNotNull())\n",
    "    .withColumn('diff', unix_timestamp(col('next_answer')) - unix_timestamp(col('creation_date'))) # in sec\n",
    "    .select('user_id', 'r', 'diff')\n",
    "    .groupBy('user_id')\n",
    "    .agg(\n",
    "        avg('diff').alias('avg_response_period')\n",
    "    )\n",
    "    .orderBy('avg_response_period')\n",
    ")"
   ]
  },
  {
   "cell_type": "code",
   "execution_count": 18,
   "metadata": {},
   "outputs": [
    {
     "name": "stdout",
     "output_type": "stream",
     "text": [
      "+-------+-------------------+\n",
      "|user_id|avg_response_period|\n",
      "+-------+-------------------+\n",
      "| 731255|               56.0|\n",
      "| 240418|               58.0|\n",
      "| 704327|               63.0|\n",
      "|   9706|               83.0|\n",
      "|2592424|               85.0|\n",
      "| 132684|               87.0|\n",
      "|    943|               89.0|\n",
      "|1077236|              107.0|\n",
      "|  10960|              107.0|\n",
      "|3639557|              143.0|\n",
      "+-------+-------------------+\n",
      "only showing top 10 rows\n",
      "\n"
     ]
    }
   ],
   "source": [
    "resultDF.show(n=10)"
   ]
  },
  {
   "cell_type": "code",
   "execution_count": 19,
   "metadata": {},
   "outputs": [],
   "source": [
    "spark.stop()"
   ]
  },
  {
   "cell_type": "code",
   "execution_count": null,
   "metadata": {},
   "outputs": [],
   "source": []
  }
 ],
 "metadata": {
  "kernelspec": {
   "display_name": "Python 3",
   "language": "python",
   "name": "python3"
  },
  "language_info": {
   "codemirror_mode": {
    "name": "ipython",
    "version": 3
   },
   "file_extension": ".py",
   "mimetype": "text/x-python",
   "name": "python",
   "nbconvert_exporter": "python",
   "pygments_lexer": "ipython3",
   "version": "3.7.6"
  }
 },
 "nbformat": 4,
 "nbformat_minor": 2
}
