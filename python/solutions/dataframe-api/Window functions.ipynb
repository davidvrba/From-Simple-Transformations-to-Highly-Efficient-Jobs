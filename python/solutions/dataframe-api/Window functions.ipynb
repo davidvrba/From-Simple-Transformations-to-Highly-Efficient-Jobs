{
 "cells": [
  {
   "cell_type": "markdown",
   "metadata": {},
   "source": [
    "# Window functions\n",
    "\n",
    "In this notebook you will:\n",
    "* solve analytical question using window functions"
   ]
  },
  {
   "cell_type": "code",
   "execution_count": null,
   "metadata": {},
   "outputs": [],
   "source": [
    "from pyspark.sql import SparkSession\n",
    "from pyspark.sql.functions import col, count, unix_timestamp, row_number, lead, avg\n",
    "from pyspark.sql import Window\n",
    "\n",
    "import os"
   ]
  },
  {
   "cell_type": "code",
   "execution_count": null,
   "metadata": {},
   "outputs": [],
   "source": [
    "spark = (\n",
    "    SparkSession\n",
    "    .builder\n",
    "    .appName('WF I')\n",
    "    .getOrCreate()\n",
    ")"
   ]
  },
  {
   "cell_type": "markdown",
   "metadata": {},
   "source": [
    "# Task 1\n",
    "\n",
    "* compute avg time between two consecutive answers for each user that answered at least 2 questions"
   ]
  },
  {
   "cell_type": "code",
   "execution_count": null,
   "metadata": {},
   "outputs": [],
   "source": [
    "base_path = os.getcwd()\n",
    "\n",
    "project_path = ('/').join(base_path.split('/')[0:-3]) \n",
    "\n",
    "data_input_path = os.path.join(project_path, 'data/answers')"
   ]
  },
  {
   "cell_type": "code",
   "execution_count": null,
   "metadata": {},
   "outputs": [],
   "source": [
    "answersDF = (\n",
    "    spark\n",
    "    .read\n",
    "    .option('path', data_input_path)\n",
    "    .load()\n",
    ")"
   ]
  },
  {
   "cell_type": "markdown",
   "metadata": {},
   "source": [
    "#### Take only users that answered at least 2 questions:\n",
    "\n",
    "Hint:\n",
    "* Define a [Window](https://spark.apache.org/docs/latest/api/python/reference/pyspark.sql/window.html) per user_id\n",
    "* Use count as a window function\n",
    "* Filter only users with count > 1"
   ]
  },
  {
   "cell_type": "code",
   "execution_count": null,
   "metadata": {},
   "outputs": [],
   "source": [
    "# for this window avoid using the sort, because if you sort the window\n",
    "# you will have to add frame definition .rowsBetween(Window().unboundedPreceding, Window().unboundedFollowing)\n",
    "# if you don't sort, all records for a given user_id will be considered in the window\n",
    "# with the sort the default frame is .rowsBetween(Window().unboundedPreceding, Window().currentRow)\n",
    "\n",
    "w = Window().partitionBy('user_id')\n",
    "\n",
    "data = (\n",
    "    answersDF\n",
    "    .filter(col('user_id').isNotNull())\n",
    "    .withColumn('r', count('*').over(w))\n",
    "    .filter(col('r') > 1)\n",
    ")"
   ]
  },
  {
   "cell_type": "code",
   "execution_count": null,
   "metadata": {},
   "outputs": [],
   "source": [
    "data.orderBy('user_id', 'answer_id').show(n=5)"
   ]
  },
  {
   "cell_type": "markdown",
   "metadata": {},
   "source": [
    "#### Compute the average time between answers:\n",
    "\n",
    "Hint:\n",
    "* Define new window also per user but sorted by creation_date\n",
    "* Use [lead](https://spark.apache.org/docs/latest/api/python/reference/pyspark.sql/api/pyspark.sql.functions.lead.html#pyspark.sql.functions.lead) function to add new column which contains the next answer\n",
    "* Compute the time difference (use [unix_timestamp](https://spark.apache.org/docs/latest/api/python/reference/pyspark.sql/api/pyspark.sql.functions.unix_timestamp.html#pyspark.sql.functions.unix_timestamp) which returns the timestamp in seconds\n",
    "* Group by user and compute the average"
   ]
  },
  {
   "cell_type": "code",
   "execution_count": null,
   "metadata": {},
   "outputs": [],
   "source": [
    "w2 = Window().partitionBy('user_id').orderBy('creation_date')\n",
    "\n",
    "resultDF = (\n",
    "    data\n",
    "    .withColumn('next_answer', lead('creation_date').over(w2))\n",
    "    .filter(col('next_answer').isNotNull())\n",
    "    .withColumn('diff', unix_timestamp(col('next_answer')) - unix_timestamp(col('creation_date'))) # in sec\n",
    "    .groupBy('user_id')\n",
    "    .agg(\n",
    "        avg('diff').alias('avg_response_period')\n",
    "    )\n",
    "    .orderBy('avg_response_period')\n",
    ")"
   ]
  },
  {
   "cell_type": "code",
   "execution_count": null,
   "metadata": {},
   "outputs": [],
   "source": [
    "resultDF.show(n=10)"
   ]
  },
  {
   "cell_type": "markdown",
   "metadata": {},
   "source": [
    "#### Bonus question (if you have time)\n",
    "\n",
    "* Check the answers of the user with the fastest average response time. Also check the questions that correspond to these answers."
   ]
  },
  {
   "cell_type": "code",
   "execution_count": null,
   "metadata": {},
   "outputs": [],
   "source": [
    "answersDF.filter(col('user_id') == '731255').select('question_id', 'creation_date', 'body').collect()"
   ]
  },
  {
   "cell_type": "code",
   "execution_count": null,
   "metadata": {},
   "outputs": [],
   "source": [
    "(\n",
    "    spark.read.parquet(os.path.join(project_path, 'output/questions-transformed'))\n",
    "    .filter(col('question_id').isin(['9833024', '9833336']))\n",
    "    .select('tags', 'creation_date', 'title')\n",
    ").show(truncate=False)"
   ]
  },
  {
   "cell_type": "markdown",
   "metadata": {},
   "source": [
    "To read more about window functions check my [article](https://towardsdatascience.com/spark-sql-102-aggregations-and-window-functions-9f829eaa7549)."
   ]
  },
  {
   "cell_type": "code",
   "execution_count": null,
   "metadata": {},
   "outputs": [],
   "source": [
    "spark.stop()"
   ]
  }
 ],
 "metadata": {
  "kernelspec": {
   "display_name": "Python 3 (ipykernel)",
   "language": "python",
   "name": "python3"
  },
  "language_info": {
   "codemirror_mode": {
    "name": "ipython",
    "version": 3
   },
   "file_extension": ".py",
   "mimetype": "text/x-python",
   "name": "python",
   "nbconvert_exporter": "python",
   "pygments_lexer": "ipython3",
   "version": "3.7.3"
  }
 },
 "nbformat": 4,
 "nbformat_minor": 2
}
