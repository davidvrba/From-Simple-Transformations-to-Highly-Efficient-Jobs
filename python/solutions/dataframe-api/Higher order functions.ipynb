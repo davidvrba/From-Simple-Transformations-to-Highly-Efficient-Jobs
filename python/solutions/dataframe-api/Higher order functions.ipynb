{
 "cells": [
  {
   "cell_type": "markdown",
   "metadata": {},
   "source": [
    "# Higher Order Functions\n",
    "\n",
    "In this notebook you will solve two questions using higher order functions"
   ]
  },
  {
   "cell_type": "code",
   "execution_count": 1,
   "metadata": {},
   "outputs": [],
   "source": [
    "from pyspark.sql import SparkSession\n",
    "from pyspark.sql.functions import col, split, collect_list, expr, array_join\n",
    "\n",
    "import os"
   ]
  },
  {
   "cell_type": "code",
   "execution_count": 2,
   "metadata": {},
   "outputs": [],
   "source": [
    "spark = (\n",
    "    SparkSession\n",
    "    .builder\n",
    "    .appName('HOF I')\n",
    "    .getOrCreate()\n",
    ")"
   ]
  },
  {
   "cell_type": "markdown",
   "metadata": {},
   "source": [
    "# Task I\n",
    "\n",
    "* convert the field `tags` in questions json dataset (String in json file) to an array using HOFs"
   ]
  },
  {
   "cell_type": "code",
   "execution_count": 3,
   "metadata": {},
   "outputs": [],
   "source": [
    "base_path = os.getcwd()\n",
    "\n",
    "project_path = ('/').join(base_path.split('/')[0:-3]) \n",
    "\n",
    "questions_json_input_path = os.path.join(project_path, 'data/questions-json')\n",
    "\n",
    "questions_input_path = os.path.join(project_path, 'output/questions-transformed')"
   ]
  },
  {
   "cell_type": "markdown",
   "metadata": {},
   "source": [
    "#### Read the data from JSON:"
   ]
  },
  {
   "cell_type": "code",
   "execution_count": 4,
   "metadata": {},
   "outputs": [],
   "source": [
    "questionsDF = (\n",
    "    spark\n",
    "    .read\n",
    "    .format('json')\n",
    "    .option('path', questions_json_input_path)\n",
    "    .load()\n",
    ")"
   ]
  },
  {
   "cell_type": "markdown",
   "metadata": {},
   "source": [
    "#### Transform tags:\n",
    "\n",
    "Hint:\n",
    "* first split the string to an array\n",
    " * use [split](https://spark.apache.org/docs/latest/api/python/pyspark.sql.html#pyspark.sql.functions.split)\n",
    "* use [TRANSFORM](https://spark.apache.org/docs/latest/api/sql/index.html#transform) in sql expression\n",
    " * use [regexp_replace](https://spark.apache.org/docs/latest/api/sql/index.html#regexp_replace) on each element"
   ]
  },
  {
   "cell_type": "code",
   "execution_count": 5,
   "metadata": {},
   "outputs": [
    {
     "name": "stdout",
     "output_type": "stream",
     "text": [
      "+-----------+------------------------------+------------------------------+\n",
      "|question_id|                         title|                          tags|\n",
      "+-----------+------------------------------+------------------------------+\n",
      "|   61416257|Ag-Grid wrong row orders in...|                     [ag-grid]|\n",
      "|   61482176|Optional parameter & params...|[c#, function, methods, syn...|\n",
      "|   61919808|      Matching Texts in python|[python, regex, machine-lea...|\n",
      "|   60340057|Knockout custom binding for...| [knockout.js, fullcalendar-4]|\n",
      "|   62001217|Python mysql autocommit dat...|[python, mysql, phpmyadmin,...|\n",
      "|   61417491|Getting an error stating I ...|[python, keras, lstm, recur...|\n",
      "|   59573018|Rxswift operator share repl...|[ios, swift, system.reactiv...|\n",
      "|   60384286|JVM not taking Daylight Tim...|[java, linux, production-en...|\n",
      "|   60781664|Is there a way to set the s...|                 [bash, slurm]|\n",
      "|   59692353|tradingview close -close[1]...|      [pine-script, indicator]|\n",
      "+-----------+------------------------------+------------------------------+\n",
      "only showing top 10 rows\n",
      "\n"
     ]
    }
   ],
   "source": [
    "(\n",
    "    questionsDF\n",
    "    .withColumn('tags', split('tags', '><'))\n",
    "    .selectExpr(\n",
    "        '*',\n",
    "        \"TRANSFORM(tags, value -> regexp_replace(value, '(>|<)', '')) AS tags_arr\"\n",
    "    )\n",
    "    .drop('tags')\n",
    "    .withColumnRenamed('tags_arr', 'tags')\n",
    "    .select('question_id', 'title', 'tags')\n",
    ").show(truncate=30, n=10)"
   ]
  },
  {
   "cell_type": "markdown",
   "metadata": {},
   "source": [
    "# Task II\n",
    "\n",
    "* For each user concatenate titles of questions he answered to a single string using HOFs.\n",
    "* First do it using HOFs\n",
    "* Second do it using native function array_join"
   ]
  },
  {
   "cell_type": "code",
   "execution_count": 6,
   "metadata": {},
   "outputs": [],
   "source": [
    "questionsDF = (\n",
    "    spark\n",
    "    .read\n",
    "    .option('path', questions_input_path)\n",
    "    .load()\n",
    ")"
   ]
  },
  {
   "cell_type": "markdown",
   "metadata": {},
   "source": [
    "#### Concat the titles:\n",
    "\n",
    "Hint:\n",
    "* collect the titles to an array for each user\n",
    " * use groupBy and collect_list\n",
    "* use [AGGREGATE](https://spark.apache.org/docs/latest/api/sql/index.html#aggregate) in SQL expression to concat the array to a single string\n",
    "* remove first 3 chars using [substring](https://spark.apache.org/docs/latest/api/sql/index.html#substring)"
   ]
  },
  {
   "cell_type": "code",
   "execution_count": 7,
   "metadata": {},
   "outputs": [
    {
     "name": "stdout",
     "output_type": "stream",
     "text": [
      "+-------+--------------------------------------------------+--------------------------------------------------+\n",
      "|user_id|                                             title|                                       total_title|\n",
      "+-------+--------------------------------------------------+--------------------------------------------------+\n",
      "| 127907|[Popup Window will not Close, MS Chart Control:...|Popup Window will not Close - MS Chart Control:...|\n",
      "| 179205|[How do I return to my Windows Phone app from a...|How do I return to my Windows Phone app from a ...|\n",
      "| 229832|[Custom error pages shown using IIS6 rather tha...|Custom error pages shown using IIS6 rather than...|\n",
      "| 310455|[Mesh generation algorithm, Live Wallpaper touc...|Mesh generation algorithm - Live Wallpaper touc...|\n",
      "| 636995|                              [C - fgets segfault]|                                C - fgets segfault|\n",
      "| 720378|[casting Arrays.asList causing exception: java....|casting Arrays.asList causing exception: java.u...|\n",
      "| 727257|[\"libaacdecoder.so\" not found aacdecoder on Lol...|\"libaacdecoder.so\" not found aacdecoder on Loll...|\n",
      "| 740167|[How are Gimbals affected by the iOS 7.1 iBeaco...|How are Gimbals affected by the iOS 7.1 iBeacon...|\n",
      "| 794000|[Upload Image Files, PHP Drop Down Menu To Retr...|Upload Image Files - PHP Drop Down Menu To Retr...|\n",
      "| 820104|[PowerShell error uploading blob text to Azure:...|PowerShell error uploading blob text to Azure: ...|\n",
      "+-------+--------------------------------------------------+--------------------------------------------------+\n",
      "only showing top 10 rows\n",
      "\n"
     ]
    }
   ],
   "source": [
    "(\n",
    "    questionsDF\n",
    "    .groupBy('user_id')\n",
    "    .agg(\n",
    "        collect_list('title').alias('title')\n",
    "    )\n",
    "    .selectExpr(\n",
    "        '*',\n",
    "        \"AGGREGATE(title, cast('' AS string), (buffer, value) -> (concat(buffer, ' - ', value))) AS total_title\"\n",
    "    )\n",
    "    .withColumn('total_title', expr(\"substring(total_title, 4, length(total_title))\"))\n",
    ").show(truncate=50, n=10)"
   ]
  },
  {
   "cell_type": "markdown",
   "metadata": {},
   "source": [
    "#### Do the same using [array_join](https://spark.apache.org/docs/latest/api/python/pyspark.sql.html#pyspark.sql.functions.array_join):"
   ]
  },
  {
   "cell_type": "code",
   "execution_count": 8,
   "metadata": {},
   "outputs": [
    {
     "name": "stdout",
     "output_type": "stream",
     "text": [
      "+------------------------------------------------------------------------------------------+\n",
      "|                                                                               total_title|\n",
      "+------------------------------------------------------------------------------------------+\n",
      "|Popup Window will not Close - MS Chart Control: Formatting Axis Labels - Hiding Previou...|\n",
      "|How do I return to my Windows Phone app from a YouTube video? - WPF: How do I create a ...|\n",
      "|Custom error pages shown using IIS6 rather than web.config settings - Web Forms Routing...|\n",
      "|Mesh generation algorithm - Live Wallpaper touch - I don't want it when an app is launc...|\n",
      "|                                                                        C - fgets segfault|\n",
      "|casting Arrays.asList causing exception: java.util.Arrays$ArrayList cannot be cast to j...|\n",
      "|\"libaacdecoder.so\" not found aacdecoder on Lollipop - Set default value for Bindy field...|\n",
      "|                        How are Gimbals affected by the iOS 7.1 iBeacon monitoring update?|\n",
      "|Upload Image Files - PHP Drop Down Menu To Retrieve Results - Add png Icon To HTML - Co...|\n",
      "|PowerShell error uploading blob text to Azure: UploadText(string) - NancyFx conneg retu...|\n",
      "+------------------------------------------------------------------------------------------+\n",
      "only showing top 10 rows\n",
      "\n"
     ]
    }
   ],
   "source": [
    "(\n",
    "    questionsDF\n",
    "    .groupBy('user_id')\n",
    "    .agg(\n",
    "        collect_list('title').alias('title')\n",
    "    )\n",
    "    .withColumn('total_title', array_join(col('title'), ' - '))\n",
    "    .select('total_title')\n",
    ").show(truncate=90, n=10)"
   ]
  },
  {
   "cell_type": "code",
   "execution_count": 9,
   "metadata": {},
   "outputs": [],
   "source": [
    "spark.stop()"
   ]
  },
  {
   "cell_type": "code",
   "execution_count": null,
   "metadata": {},
   "outputs": [],
   "source": []
  }
 ],
 "metadata": {
  "kernelspec": {
   "display_name": "Python 3",
   "language": "python",
   "name": "python3"
  },
  "language_info": {
   "codemirror_mode": {
    "name": "ipython",
    "version": 3
   },
   "file_extension": ".py",
   "mimetype": "text/x-python",
   "name": "python",
   "nbconvert_exporter": "python",
   "pygments_lexer": "ipython3",
   "version": "3.7.6"
  }
 },
 "nbformat": 4,
 "nbformat_minor": 2
}
