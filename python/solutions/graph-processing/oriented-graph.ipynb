{
 "cells": [
  {
   "cell_type": "code",
   "execution_count": null,
   "metadata": {},
   "outputs": [],
   "source": [
    "from pyspark.sql import SparkSession\n",
    "from pyspark.sql.functions import col, desc, count, explode, split, regexp_replace, collect_list, lead\n",
    "from pyspark.sql import Window\n",
    "\n",
    "import os"
   ]
  },
  {
   "cell_type": "code",
   "execution_count": null,
   "metadata": {},
   "outputs": [],
   "source": [
    "spark = (\n",
    "    SparkSession\n",
    "    .builder\n",
    "    .appName('Graph processing II')\n",
    "    .config(\"spark.jars.packages\", \"graphframes:graphframes:0.7.0-spark2.4-s_2.11\")\n",
    "    .getOrCreate()\n",
    ")"
   ]
  },
  {
   "cell_type": "code",
   "execution_count": null,
   "metadata": {},
   "outputs": [],
   "source": [
    "from graphframes import *"
   ]
  },
  {
   "cell_type": "code",
   "execution_count": null,
   "metadata": {},
   "outputs": [],
   "source": [
    "base_path = os.getcwd()\n",
    "\n",
    "project_path = ('/').join(base_path.split('/')[0:-3]) \n",
    "\n",
    "badges_input_path = os.path.join(project_path, 'data/badges')\n",
    "\n",
    "users_input_path = os.path.join(project_path, 'data/users')"
   ]
  },
  {
   "cell_type": "code",
   "execution_count": null,
   "metadata": {},
   "outputs": [],
   "source": [
    "badgesDF = (\n",
    "    spark\n",
    "    .read\n",
    "    .option('path', badges_input_path)\n",
    "    .load()\n",
    ")\n",
    "\n",
    "usersDF = (\n",
    "    spark\n",
    "    .read\n",
    "    .option('path', users_input_path)\n",
    "    .load()\n",
    ").cache()"
   ]
  },
  {
   "cell_type": "code",
   "execution_count": null,
   "metadata": {},
   "outputs": [],
   "source": [
    "badgesDF.printSchema()"
   ]
  },
  {
   "cell_type": "code",
   "execution_count": null,
   "metadata": {},
   "outputs": [],
   "source": [
    "verticesDF = (\n",
    "    badgesDF\n",
    "    .filter(col('name').isNotNull())\n",
    "    .select(\n",
    "        col('name').alias('id')\n",
    "    )\n",
    "    .distinct()\n",
    ")"
   ]
  },
  {
   "cell_type": "code",
   "execution_count": null,
   "metadata": {},
   "outputs": [],
   "source": [
    "w = Window().partitionBy('user_id').orderBy('src_time')\n",
    "\n",
    "edgesDF = (\n",
    "    badgesDF\n",
    "    .withColumn('src', col('name'))\n",
    "    .withColumn('src_time', col('date'))\n",
    "    .withColumn('dst', lead('src', 1).over(w))\n",
    "    .withColumn('dst_time', lead('src_time', 1).over(w))\n",
    "    .filter(col('dst').isNotNull())\n",
    "    .filter(col('src') != col('dst'))\n",
    "    .select(\n",
    "        'user_id',\n",
    "        'src_time',\n",
    "        'src',\n",
    "        'dst',\n",
    "        'dst_time'\n",
    "    )\n",
    "    .orderBy('user_id', 'src_time')\n",
    ")"
   ]
  },
  {
   "cell_type": "code",
   "execution_count": null,
   "metadata": {},
   "outputs": [],
   "source": [
    "verticesDF.show()"
   ]
  },
  {
   "cell_type": "code",
   "execution_count": null,
   "metadata": {},
   "outputs": [],
   "source": [
    "edgesDF.show()"
   ]
  },
  {
   "cell_type": "code",
   "execution_count": null,
   "metadata": {},
   "outputs": [],
   "source": [
    "verticesDF.count()"
   ]
  },
  {
   "cell_type": "code",
   "execution_count": null,
   "metadata": {},
   "outputs": [],
   "source": [
    "edgesDF.count()"
   ]
  },
  {
   "cell_type": "code",
   "execution_count": null,
   "metadata": {},
   "outputs": [],
   "source": [
    "badgesGraph = GraphFrame(verticesDF, edgesDF)"
   ]
  },
  {
   "cell_type": "markdown",
   "metadata": {},
   "source": [
    "# Find frequent edges"
   ]
  },
  {
   "cell_type": "code",
   "execution_count": null,
   "metadata": {},
   "outputs": [],
   "source": [
    "(\n",
    "    badgesGraph\n",
    "    .edges\n",
    "    .groupBy('src', 'dst')\n",
    "    .count()\n",
    "    .orderBy(desc('count'))\n",
    ").show(n=5)"
   ]
  },
  {
   "cell_type": "code",
   "execution_count": null,
   "metadata": {},
   "outputs": [],
   "source": [
    "(\n",
    "    badgesGraph\n",
    "    .inDegrees\n",
    "    .orderBy(desc('inDegree'))\n",
    ").show(n=5)"
   ]
  },
  {
   "cell_type": "code",
   "execution_count": null,
   "metadata": {},
   "outputs": [],
   "source": [
    "(\n",
    "    badgesGraph\n",
    "    .outDegrees\n",
    "    .orderBy(desc('outDegree'))\n",
    ").show(n=5)"
   ]
  },
  {
   "cell_type": "markdown",
   "metadata": {},
   "source": [
    "See how many users continued in their path after they got some badge."
   ]
  },
  {
   "cell_type": "code",
   "execution_count": null,
   "metadata": {},
   "outputs": [],
   "source": [
    "(\n",
    "    badgesGraph\n",
    "    .inDegrees\n",
    "    .alias('in')\n",
    "    .join(badgesGraph.outDegrees.alias('out'), col('in.id') == col('out.id'))\n",
    "    .withColumn('degreeRatio', col('outDegree') / col('inDegree'))\n",
    "    .orderBy(('degreeRatio'))\n",
    ").show(n=10)"
   ]
  },
  {
   "cell_type": "code",
   "execution_count": null,
   "metadata": {},
   "outputs": [],
   "source": [
    "(\n",
    "    badgesGraph\n",
    "    .find(\"(a)-[ab]->(b); (b)-[bc]->(c); (c)-[cd]->(d)\")\n",
    ").show()"
   ]
  },
  {
   "cell_type": "code",
   "execution_count": null,
   "metadata": {},
   "outputs": [],
   "source": []
  }
 ],
 "metadata": {
  "kernelspec": {
   "display_name": "Python 3",
   "language": "python",
   "name": "python3"
  },
  "language_info": {
   "codemirror_mode": {
    "name": "ipython",
    "version": 3
   },
   "file_extension": ".py",
   "mimetype": "text/x-python",
   "name": "python",
   "nbconvert_exporter": "python",
   "pygments_lexer": "ipython3",
   "version": "3.6.4"
  }
 },
 "nbformat": 4,
 "nbformat_minor": 2
}
