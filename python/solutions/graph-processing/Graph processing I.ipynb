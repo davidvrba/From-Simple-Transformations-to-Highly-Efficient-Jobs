{
 "cells": [
  {
   "cell_type": "markdown",
   "metadata": {},
   "source": [
    "# Graph processing using GraphFrames\n",
    "\n",
    "In this notebook you will construct a graph from answers and users datasets and use GraphFrames library to run some algorithms on it."
   ]
  },
  {
   "cell_type": "code",
   "execution_count": null,
   "metadata": {},
   "outputs": [],
   "source": [
    "from pyspark.sql import SparkSession\n",
    "from pyspark.sql.functions import col, desc, count, explode, split, regexp_replace, collect_list, greatest, least\n",
    "\n",
    "import os"
   ]
  },
  {
   "cell_type": "code",
   "execution_count": null,
   "metadata": {},
   "outputs": [],
   "source": [
    "spark = (\n",
    "    SparkSession\n",
    "    .builder\n",
    "    .appName('Graph processing I')\n",
    "    .config(\"spark.jars.packages\", \"graphframes:graphframes:0.8.0-spark3.0-s_2.12\")\n",
    "    .getOrCreate()\n",
    ")"
   ]
  },
  {
   "cell_type": "code",
   "execution_count": null,
   "metadata": {},
   "outputs": [],
   "source": [
    "from graphframes import *"
   ]
  },
  {
   "cell_type": "code",
   "execution_count": null,
   "metadata": {},
   "outputs": [],
   "source": [
    "base_path = os.getcwd()\n",
    "\n",
    "project_path = ('/').join(base_path.split('/')[0:-3]) \n",
    "\n",
    "answers_input_path = os.path.join(project_path, 'data/answers')\n",
    "\n",
    "users_input_path = os.path.join(project_path, 'data/users')"
   ]
  },
  {
   "cell_type": "markdown",
   "metadata": {},
   "source": [
    "# Task\n",
    "\n",
    "Create a graph from users and answers. The users will be represented as nodes in the graph and two users will be connected by edge if they answered the same question.\n",
    "\n",
    "* run Label Propagation to find some communities / clusters of users\n",
    "* run PageRank to find important nodes in the graph \n",
    "* take only sample of answers to reduce the size of the graph if you run in local mode"
   ]
  },
  {
   "cell_type": "code",
   "execution_count": null,
   "metadata": {},
   "outputs": [],
   "source": [
    "answersDF = (\n",
    "    spark\n",
    "    .read\n",
    "    .option('path', answers_input_path)\n",
    "    .load()\n",
    ").sample(0.1, False, 24).cache()\n",
    "\n",
    "usersDF = (\n",
    "    spark\n",
    "    .read\n",
    "    .option('path', users_input_path)\n",
    "    .load()\n",
    ").cache()"
   ]
  },
  {
   "cell_type": "markdown",
   "metadata": {},
   "source": [
    "#### Create vertices:\n",
    "\n",
    "Hint:\n",
    "* select user_id\n",
    "* deduplicate\n",
    "* rename the col to id\n",
    "* you may keep additional cols as metadata (joined from users)"
   ]
  },
  {
   "cell_type": "code",
   "execution_count": null,
   "metadata": {},
   "outputs": [],
   "source": [
    "verticesDF = (\n",
    "    answersDF\n",
    "    .filter(col('user_id').isNotNull())\n",
    "    .select('user_id')\n",
    "    .distinct()\n",
    "    .join(usersDF, 'user_id')\n",
    "    .select(\n",
    "        col('user_id').alias('id'),\n",
    "        col('display_name')\n",
    "    )\n",
    ")"
   ]
  },
  {
   "cell_type": "markdown",
   "metadata": {},
   "source": [
    "#### Create edges:\n",
    "\n",
    "Hint:\n",
    "* do self-join of answers on question_id\n",
    "* filter out records where user_id from left side is the same as from right side\n",
    "* rename user_id cols as src / dst "
   ]
  },
  {
   "cell_type": "code",
   "execution_count": null,
   "metadata": {},
   "outputs": [],
   "source": [
    "edgesDF = (\n",
    "    answersDF.alias('src')\n",
    "    .join(\n",
    "        answersDF.alias('dst'),\n",
    "        'question_id'\n",
    "    )\n",
    "    .withColumn('src', greatest(col('src.user_id'), col('dst.user_id')))\n",
    "    .withColumn('dst', least(col('src.user_id'), col('dst.user_id')))\n",
    "    .select('src', 'dst')\n",
    "    .filter(col('src') != col('dst'))\n",
    ")"
   ]
  },
  {
   "cell_type": "markdown",
   "metadata": {},
   "source": [
    "#### Create the graph:\n",
    "\n",
    "Hint:\n",
    "* use GraphFrame(vertices, edges) "
   ]
  },
  {
   "cell_type": "code",
   "execution_count": null,
   "metadata": {},
   "outputs": [],
   "source": [
    "usersGraph = GraphFrame(verticesDF, edgesDF)"
   ]
  },
  {
   "cell_type": "markdown",
   "metadata": {},
   "source": [
    "#### See some properties of the graph:\n",
    "\n",
    "Hint:\n",
    "* count number of edges\n",
    "* count number of vertices"
   ]
  },
  {
   "cell_type": "code",
   "execution_count": null,
   "metadata": {},
   "outputs": [],
   "source": [
    "edgesDF.count()"
   ]
  },
  {
   "cell_type": "code",
   "execution_count": null,
   "metadata": {},
   "outputs": [],
   "source": [
    "verticesDF.count()"
   ]
  },
  {
   "cell_type": "markdown",
   "metadata": {},
   "source": [
    "#### Find frequent edges"
   ]
  },
  {
   "cell_type": "code",
   "execution_count": null,
   "metadata": {},
   "outputs": [],
   "source": [
    "(\n",
    "    usersGraph\n",
    "    .edges\n",
    "    .groupBy('src', 'dst')\n",
    "    .count()\n",
    "    .orderBy(desc('count'))\n",
    ").show(n=5)"
   ]
  },
  {
   "cell_type": "markdown",
   "metadata": {},
   "source": [
    "#### Find communities\n",
    "\n",
    "Hint:\n",
    "* use labelPropagation\n",
    "* see how many users are in each community\n",
    " * group by label and count\n",
    "* see what users are in a given community\n",
    " * filter on label col"
   ]
  },
  {
   "cell_type": "code",
   "execution_count": null,
   "metadata": {},
   "outputs": [],
   "source": [
    "communities = usersGraph.labelPropagation(5)"
   ]
  },
  {
   "cell_type": "code",
   "execution_count": null,
   "metadata": {},
   "outputs": [],
   "source": [
    "(\n",
    "  communities\n",
    "    .groupBy('label')\n",
    "    .agg(count('*').alias('cnt'))\n",
    "    .orderBy(desc('cnt'))\n",
    ").show()"
   ]
  },
  {
   "cell_type": "code",
   "execution_count": null,
   "metadata": {},
   "outputs": [],
   "source": [
    "(\n",
    "  communities\n",
    "  .filter(col(\"label\") == 1492)\n",
    ").show()"
   ]
  },
  {
   "cell_type": "markdown",
   "metadata": {},
   "source": [
    "#### Compute PageRank\n",
    "\n",
    "* use pageRank method\n",
    "* order the vertices by pagerank"
   ]
  },
  {
   "cell_type": "code",
   "execution_count": null,
   "metadata": {},
   "outputs": [],
   "source": [
    "pr = (\n",
    "   usersGraph.pageRank(tol=0.01)\n",
    " )"
   ]
  },
  {
   "cell_type": "code",
   "execution_count": null,
   "metadata": {},
   "outputs": [],
   "source": [
    "(\n",
    "  pr\n",
    "  .vertices\n",
    "  .orderBy(desc('pagerank'))\n",
    ").show()"
   ]
  },
  {
   "cell_type": "code",
   "execution_count": null,
   "metadata": {},
   "outputs": [],
   "source": [
    "spark.stop()"
   ]
  },
  {
   "cell_type": "code",
   "execution_count": null,
   "metadata": {},
   "outputs": [],
   "source": []
  }
 ],
 "metadata": {
  "kernelspec": {
   "display_name": "Python 3",
   "language": "python",
   "name": "python3"
  },
  "language_info": {
   "codemirror_mode": {
    "name": "ipython",
    "version": 3
   },
   "file_extension": ".py",
   "mimetype": "text/x-python",
   "name": "python",
   "nbconvert_exporter": "python",
   "pygments_lexer": "ipython3",
   "version": "3.7.6"
  }
 },
 "nbformat": 4,
 "nbformat_minor": 2
}
