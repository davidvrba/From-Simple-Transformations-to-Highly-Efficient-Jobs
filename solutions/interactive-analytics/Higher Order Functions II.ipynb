{
 "cells": [
  {
   "cell_type": "code",
   "execution_count": 36,
   "metadata": {},
   "outputs": [],
   "source": [
    "import findspark\n",
    "findspark.init()"
   ]
  },
  {
   "cell_type": "code",
   "execution_count": 37,
   "metadata": {},
   "outputs": [],
   "source": [
    "import pyspark\n",
    "from pyspark.sql import SparkSession\n",
    "from pyspark.sql.functions import (\n",
    "    col, desc, count, explode, split, regexp_replace, collect_list, array_sort, reverse, unix_timestamp, expr, sum\n",
    ")\n",
    "from pyspark.sql import Window\n",
    "from pyspark.sql.types import StructType, StructField, StringType, LongType, TimestampType\n",
    "\n",
    "import os"
   ]
  },
  {
   "cell_type": "code",
   "execution_count": 38,
   "metadata": {},
   "outputs": [],
   "source": [
    "spark = (\n",
    "    SparkSession\n",
    "    .builder\n",
    "    .appName('HOF II')\n",
    "    .getOrCreate()\n",
    ")"
   ]
  },
  {
   "cell_type": "markdown",
   "metadata": {},
   "source": [
    "# Task\n",
    "\n",
    "* For each of the 15 most frequent tags compute the entropy of the 'comments' field in questions dataset."
   ]
  },
  {
   "cell_type": "code",
   "execution_count": null,
   "metadata": {},
   "outputs": [],
   "source": [
    "base_path = os.getcwd()\n",
    "\n",
    "project_path = ('/').join(base_path.split('/')[0:-2]) \n",
    "\n",
    "data_input_path = os.path.join(project_path, 'output/questions-transformed')"
   ]
  },
  {
   "cell_type": "code",
   "execution_count": 40,
   "metadata": {},
   "outputs": [],
   "source": [
    "questionsDF = (\n",
    "    spark\n",
    "    .read\n",
    "    .option('path', data_input_path)\n",
    "    .load()\n",
    ")"
   ]
  },
  {
   "cell_type": "code",
   "execution_count": 41,
   "metadata": {},
   "outputs": [
    {
     "name": "stdout",
     "output_type": "stream",
     "text": [
      "root\n",
      " |-- question_id: long (nullable = true)\n",
      " |-- tags: array (nullable = true)\n",
      " |    |-- element: string (containsNull = true)\n",
      " |-- creation_date: timestamp (nullable = true)\n",
      " |-- title: string (nullable = true)\n",
      " |-- body: string (nullable = true)\n",
      " |-- accepted_answer_id: long (nullable = true)\n",
      " |-- answers: long (nullable = true)\n",
      " |-- comments: long (nullable = true)\n",
      " |-- user_id: long (nullable = true)\n",
      " |-- views: long (nullable = true)\n",
      "\n"
     ]
    }
   ],
   "source": [
    "questionsDF.printSchema()"
   ]
  },
  {
   "cell_type": "code",
   "execution_count": 42,
   "metadata": {},
   "outputs": [],
   "source": [
    "# Find 15 most frequent tags and cache them in memory\n",
    "\n",
    "tagsDF = (\n",
    "    questionsDF\n",
    "    .select(explode('tags').alias('tag'))\n",
    "    .groupBy('tag')\n",
    "    .agg(\n",
    "        count('*').alias('frequency')\n",
    "    )\n",
    "    .orderBy(desc('frequency'))\n",
    "    .limit(15)\n",
    "    .select('tag')\n",
    ").cache()"
   ]
  },
  {
   "cell_type": "code",
   "execution_count": 43,
   "metadata": {},
   "outputs": [
    {
     "data": {
      "text/plain": [
       "15"
      ]
     },
     "execution_count": 43,
     "metadata": {},
     "output_type": "execute_result"
    }
   ],
   "source": [
    "tagsDF.count()"
   ]
  },
  {
   "cell_type": "code",
   "execution_count": 44,
   "metadata": {},
   "outputs": [],
   "source": [
    "# Compute the probabilities of each comments value using aggregate and window functions:\n",
    "\n",
    "w = Window().partitionBy('tag').rowsBetween(Window().unboundedPreceding, Window().unboundedFollowing)\n",
    "\n",
    "tag_probabilities = (\n",
    "    questionsDF\n",
    "    .withColumn('tag', explode('tags'))\n",
    "    .join(tagsDF, 'tag')\n",
    "    .groupBy('tag', 'comments')\n",
    "    .agg(\n",
    "        count('*').alias('comments_frequency')\n",
    "    )\n",
    "    .withColumn('tag_count', sum('comments_frequency').over(w))\n",
    "    .withColumn('comments_probability', col('comments_frequency') / col('tag_count'))\n",
    "    .groupBy('tag')\n",
    "    .agg(\n",
    "        collect_list('comments_probability').alias('probabilities')\n",
    "    )\n",
    ")"
   ]
  },
  {
   "cell_type": "code",
   "execution_count": 45,
   "metadata": {},
   "outputs": [],
   "source": [
    "# Use HOF to compute the entropy for the probabilities:\n",
    "\n",
    "resultDF = (\n",
    "    tag_probabilities\n",
    "    .selectExpr(\n",
    "        'tag',\n",
    "        \"AGGREGATE(probabilities, cast(0 as double), (buffer, value) -> (buffer - log(value) * value)) AS entropy\"\n",
    "    )\n",
    ")"
   ]
  },
  {
   "cell_type": "code",
   "execution_count": 46,
   "metadata": {},
   "outputs": [
    {
     "name": "stdout",
     "output_type": "stream",
     "text": [
      "+--------------------+------------------+\n",
      "|                 tag|           entropy|\n",
      "+--------------------+------------------+\n",
      "|      electrostatics|1.9022936887333617|\n",
      "|              optics|1.9477363689971119|\n",
      "|    electromagnetism|1.9710115136748623|\n",
      "|quantum-field-theory|1.9964464573506688|\n",
      "|homework-and-exer...|2.0487125613113504|\n",
      "|    particle-physics| 2.049514121748252|\n",
      "|      thermodynamics| 2.074663390425913|\n",
      "|      fluid-dynamics| 2.076368910652297|\n",
      "|              energy|2.0837510233131296|\n",
      "|              forces| 2.089208712932891|\n",
      "|   quantum-mechanics| 2.095853015437911|\n",
      "| classical-mechanics| 2.097074538330614|\n",
      "| newtonian-mechanics| 2.147981655731562|\n",
      "|  general-relativity|2.1630789428167696|\n",
      "|  special-relativity|2.2160193594486066|\n",
      "+--------------------+------------------+\n",
      "\n"
     ]
    }
   ],
   "source": [
    "resultDF.orderBy('entropy').show()"
   ]
  },
  {
   "cell_type": "code",
   "execution_count": 47,
   "metadata": {},
   "outputs": [],
   "source": [
    "spark.stop()"
   ]
  }
 ],
 "metadata": {
  "kernelspec": {
   "display_name": "Python 3",
   "language": "python",
   "name": "python3"
  },
  "language_info": {
   "codemirror_mode": {
    "name": "ipython",
    "version": 3
   },
   "file_extension": ".py",
   "mimetype": "text/x-python",
   "name": "python",
   "nbconvert_exporter": "python",
   "pygments_lexer": "ipython3",
   "version": "3.6.4"
  }
 },
 "nbformat": 4,
 "nbformat_minor": 2
}
