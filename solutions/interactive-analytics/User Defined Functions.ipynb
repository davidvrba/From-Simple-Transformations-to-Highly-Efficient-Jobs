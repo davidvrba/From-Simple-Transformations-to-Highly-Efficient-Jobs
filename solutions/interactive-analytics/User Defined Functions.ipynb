{
 "cells": [
  {
   "cell_type": "code",
   "execution_count": 25,
   "metadata": {},
   "outputs": [],
   "source": [
    "import findspark\n",
    "findspark.init()"
   ]
  },
  {
   "cell_type": "code",
   "execution_count": 26,
   "metadata": {},
   "outputs": [],
   "source": [
    "import pyspark\n",
    "from pyspark.sql import SparkSession\n",
    "from pyspark.sql.functions import (\n",
    "    col, desc, count, explode, split, regexp_replace, collect_list, array_sort, reverse, unix_timestamp, row_number,\n",
    "    when, lit, lead, avg, pandas_udf, PandasUDFType\n",
    ")\n",
    "\n",
    "from pyspark.sql import Window\n",
    "\n",
    "from pyspark.sql.types import StructType, StructField, StringType, LongType, TimestampType, DoubleType, IntegerType\n",
    "\n",
    "import os"
   ]
  },
  {
   "cell_type": "code",
   "execution_count": 27,
   "metadata": {},
   "outputs": [],
   "source": [
    "spark = (\n",
    "    SparkSession\n",
    "    .builder\n",
    "    .appName('UDFs')\n",
    "    .getOrCreate()\n",
    ")"
   ]
  },
  {
   "cell_type": "markdown",
   "metadata": {},
   "source": [
    "# Task 1\n",
    "\n",
    "* compute avg time between two consecutive answers for each user that answered at least 2 questions"
   ]
  },
  {
   "cell_type": "code",
   "execution_count": 28,
   "metadata": {},
   "outputs": [],
   "source": [
    "base_path = os.getcwd()\n",
    "\n",
    "project_path = ('/').join(base_path.split('/')[0:-2]) \n",
    "\n",
    "data_input_path = os.path.join(project_path, 'data/answers')"
   ]
  },
  {
   "cell_type": "code",
   "execution_count": 29,
   "metadata": {},
   "outputs": [],
   "source": [
    "answersDF = (\n",
    "    spark\n",
    "    .read\n",
    "    .option('path', data_input_path)\n",
    "    .load()\n",
    ").cache()"
   ]
  },
  {
   "cell_type": "code",
   "execution_count": 30,
   "metadata": {},
   "outputs": [],
   "source": [
    "w = (\n",
    "    Window()\n",
    "    .partitionBy('user_id')\n",
    "    .orderBy('creation_date')\n",
    "    .rowsBetween(Window().unboundedPreceding, Window().unboundedFollowing)\n",
    ")\n",
    "\n",
    "data = (\n",
    "    answersDF\n",
    "    .withColumn('r', count('*').over(w))\n",
    "    .filter(col('r') > 1)\n",
    ")"
   ]
  },
  {
   "cell_type": "code",
   "execution_count": 31,
   "metadata": {},
   "outputs": [
    {
     "data": {
      "text/plain": [
       "175943"
      ]
     },
     "execution_count": 31,
     "metadata": {},
     "output_type": "execute_result"
    }
   ],
   "source": [
    "data.count()"
   ]
  },
  {
   "cell_type": "code",
   "execution_count": 56,
   "metadata": {},
   "outputs": [],
   "source": [
    "schema = StructType(\n",
    "    [\n",
    "        StructField('answer_id', LongType()),\n",
    "        StructField('creation_date', TimestampType()),\n",
    "        StructField('body', StringType()),\n",
    "        StructField('comments', LongType()),\n",
    "        StructField('user_id', LongType()),\n",
    "        StructField('score', LongType()),\n",
    "        StructField('question_id', LongType()),\n",
    "        StructField('result', DoubleType())\n",
    "    ]\n",
    ")\n",
    "\n",
    "@pandas_udf(schema, PandasUDFType.GROUPED_MAP)\n",
    "def compute_avg_response(pdf):\n",
    "    pdf['result'] = pdf.sort_values(by=['creation_date']).creation_date.diff().dt.total_seconds().mean()\n",
    "    return pdf"
   ]
  },
  {
   "cell_type": "code",
   "execution_count": 57,
   "metadata": {},
   "outputs": [],
   "source": [
    "resultDF = (\n",
    "    data.drop('r')\n",
    "    .groupBy('user_id')\n",
    "    .apply(compute_avg_response)\n",
    "    .select('user_id', 'result')\n",
    "    .dropDuplicates()\n",
    ")"
   ]
  },
  {
   "cell_type": "code",
   "execution_count": 58,
   "metadata": {},
   "outputs": [
    {
     "name": "stdout",
     "output_type": "stream",
     "text": [
      "+-------+------------------+\n",
      "|user_id|            result|\n",
      "+-------+------------------+\n",
      "| 142017|            134.81|\n",
      "|  76258|146.60000000000002|\n",
      "| 127301|           150.733|\n",
      "|   7012|151.23000000000002|\n",
      "|  47471|             154.8|\n",
      "|  81035|154.85600000000002|\n",
      "| 155429|164.44400000000002|\n",
      "|  43758|179.00666666666666|\n",
      "|  71344|            179.78|\n",
      "|   4907|          180.8985|\n",
      "|  59681|           187.866|\n",
      "|  28339|197.38000000000002|\n",
      "| 202454|197.92700000000002|\n",
      "| 105605|           206.097|\n",
      "| 128124|           210.497|\n",
      "|  12918|           218.453|\n",
      "| 174677|            221.15|\n",
      "| 204225|           223.953|\n",
      "|  98477|           234.288|\n",
      "| 207428|234.48000000000002|\n",
      "+-------+------------------+\n",
      "only showing top 20 rows\n",
      "\n"
     ]
    }
   ],
   "source": [
    "resultDF.orderBy('result').show()"
   ]
  },
  {
   "cell_type": "markdown",
   "metadata": {},
   "source": [
    "<b>Verify that the result makes sense:</b>"
   ]
  },
  {
   "cell_type": "code",
   "execution_count": 59,
   "metadata": {},
   "outputs": [
    {
     "name": "stdout",
     "output_type": "stream",
     "text": [
      "+-----------------------+----------+\n",
      "|creation_date          |t         |\n",
      "+-----------------------+----------+\n",
      "|2017-01-14 09:59:54.697|1484384394|\n",
      "|2017-01-14 10:02:09.507|1484384529|\n",
      "+-----------------------+----------+\n",
      "\n"
     ]
    }
   ],
   "source": [
    "(\n",
    "    answersDF\n",
    "    .filter(col('user_id') == 142017)\n",
    "    .withColumn('t', unix_timestamp('creation_date'))\n",
    "    .select('creation_date', 't')\n",
    "    .orderBy('creation_date')\n",
    ").show(truncate=False)"
   ]
  },
  {
   "cell_type": "code",
   "execution_count": null,
   "metadata": {},
   "outputs": [],
   "source": []
  }
 ],
 "metadata": {
  "kernelspec": {
   "display_name": "Python 3",
   "language": "python",
   "name": "python3"
  }
 },
 "nbformat": 4,
 "nbformat_minor": 2
}
