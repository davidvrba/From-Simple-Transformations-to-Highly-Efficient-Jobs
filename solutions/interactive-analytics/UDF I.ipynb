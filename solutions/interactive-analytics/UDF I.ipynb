{
 "cells": [
  {
   "cell_type": "code",
   "execution_count": 29,
   "metadata": {},
   "outputs": [],
   "source": [
    "import findspark\n",
    "findspark.init()"
   ]
  },
  {
   "cell_type": "code",
   "execution_count": 89,
   "metadata": {},
   "outputs": [],
   "source": [
    "import pyspark\n",
    "from pyspark.sql import SparkSession\n",
    "from pyspark.sql.functions import (\n",
    "    col, desc, count, explode, split, regexp_replace, collect_list, array_sort, reverse, unix_timestamp, row_number,\n",
    "    when, lit, lead, avg, udf, length\n",
    ")\n",
    "\n",
    "from pyspark.sql import Window\n",
    "\n",
    "from pyspark.sql.types import (\n",
    "    ArrayType, StructType, StructField, StringType, LongType, TimestampType, DoubleType, IntegerType\n",
    ")\n",
    "\n",
    "import os\n",
    "import re\n",
    "import pandas as pd"
   ]
  },
  {
   "cell_type": "code",
   "execution_count": 31,
   "metadata": {},
   "outputs": [],
   "source": [
    "spark = (\n",
    "    SparkSession\n",
    "    .builder\n",
    "    .appName('UDFs I')\n",
    "    .getOrCreate()\n",
    ")"
   ]
  },
  {
   "cell_type": "markdown",
   "metadata": {},
   "source": [
    "# Task I\n",
    "\n",
    "* convert question tags to an array using UDFs"
   ]
  },
  {
   "cell_type": "code",
   "execution_count": 32,
   "metadata": {},
   "outputs": [],
   "source": [
    "base_path = os.getcwd()\n",
    "\n",
    "project_path = ('/').join(base_path.split('/')[0:-2]) \n",
    "\n",
    "data_input_path = os.path.join(project_path, 'data/questions-json')"
   ]
  },
  {
   "cell_type": "code",
   "execution_count": 33,
   "metadata": {},
   "outputs": [],
   "source": [
    "questionsDF = (\n",
    "    spark\n",
    "    .read\n",
    "    .format('json')\n",
    "    .option('path', data_input_path)\n",
    "    .load()\n",
    ")"
   ]
  },
  {
   "cell_type": "code",
   "execution_count": 77,
   "metadata": {},
   "outputs": [
    {
     "name": "stdout",
     "output_type": "stream",
     "text": [
      "root\n",
      " |-- accepted_answer_id: long (nullable = true)\n",
      " |-- answers: long (nullable = true)\n",
      " |-- body: string (nullable = true)\n",
      " |-- comments: long (nullable = true)\n",
      " |-- creation_date: string (nullable = true)\n",
      " |-- question_id: long (nullable = true)\n",
      " |-- score: long (nullable = true)\n",
      " |-- tags: string (nullable = true)\n",
      " |-- title: string (nullable = true)\n",
      " |-- user_id: long (nullable = true)\n",
      " |-- views: long (nullable = true)\n",
      "\n"
     ]
    }
   ],
   "source": [
    "questionsDF.printSchema()"
   ]
  },
  {
   "cell_type": "code",
   "execution_count": 34,
   "metadata": {},
   "outputs": [
    {
     "name": "stdout",
     "output_type": "stream",
     "text": [
      "+------------------------------------------------------------------------------------+\n",
      "|tags                                                                                |\n",
      "+------------------------------------------------------------------------------------+\n",
      "|<special-relativity><mass>                                                          |\n",
      "|<electromagnetic-radiation><speed-of-light><velocity><history><relative-motion>     |\n",
      "|<electromagnetic-radiation><condensed-matter><quantum-electrodynamics><quantum-spin>|\n",
      "|<electricity>                                                                       |\n",
      "|<homework-and-exercises><rotational-dynamics><reference-frames>                     |\n",
      "|<epr-experiment><schroedingers-cat>                                                 |\n",
      "|<homework-and-exercises><elasticity>                                                |\n",
      "|<mathematical-physics>                                                              |\n",
      "|<supersymmetry><group-representations><spacetime-dimensions><spinors><superalgebra> |\n",
      "|<quantum-mechanics><energy><wavefunction><path-integral><discrete>                  |\n",
      "|<special-relativity><visible-light><time>                                           |\n",
      "|<classical-mechanics><mathematical-physics><lagrangian-formalism><action>           |\n",
      "|<homework-and-exercises><newtonian-mechanics><forces><torque><statics>              |\n",
      "|<electromagnetism><solid-state-physics><magnetic-fields><electrons>                 |\n",
      "|<homework-and-exercises><electromagnetism>                                          |\n",
      "|<particle-physics><mass><mass-energy><elementary-particles><higgs>                  |\n",
      "|<quantum-mechanics><general-relativity><waves><electrons>                           |\n",
      "|<mass-energy><states-of-matter>                                                     |\n",
      "|<thermodynamics>                                                                    |\n",
      "|<quantum-mechanics><solid-state-physics><electronic-band-theory><quantum-chemistry> |\n",
      "+------------------------------------------------------------------------------------+\n",
      "only showing top 20 rows\n",
      "\n"
     ]
    }
   ],
   "source": [
    "questionsDF.select('tags').show(truncate=False)"
   ]
  },
  {
   "cell_type": "code",
   "execution_count": 35,
   "metadata": {},
   "outputs": [],
   "source": [
    "@udf(ArrayType(StringType()))\n",
    "def transform_tags(tags):\n",
    "    tags_list = tags.split('><')\n",
    "    tags_list[0] = tags_list[0][1:]\n",
    "    tags_list[-1] = tags_list[-1][0:-1]\n",
    "    return tags_list"
   ]
  },
  {
   "cell_type": "code",
   "execution_count": 41,
   "metadata": {},
   "outputs": [],
   "source": [
    "resultDF = (\n",
    "    questionsDF\n",
    "    .withColumn('tags_arr', transform_tags('tags'))\n",
    ")"
   ]
  },
  {
   "cell_type": "code",
   "execution_count": 44,
   "metadata": {},
   "outputs": [
    {
     "name": "stdout",
     "output_type": "stream",
     "text": [
      "+------------------+-------+-----+--------+-------------+-----------+-----+-----+-----+-------+-----+--------+\n",
      "|accepted_answer_id|answers| body|comments|creation_date|question_id|score| tags|title|user_id|views|tags_arr|\n",
      "+------------------+-------+-----+--------+-------------+-----------+-----+-----+-----+-------+-----+--------+\n",
      "|              null|      1|<p...|       5|        20...|      24...|    3|<s...|Re...|  11...|   90|   [s...|\n",
      "|              null|      2|<p...|       5|        20...|      21...|    0|<e...|Wh...|  40394|   76|   [e...|\n",
      "|              null|      1|<p...|      12|        20...|      59458|    9|<e...|Do...|  20629|  753|   [e...|\n",
      "|              null|      2|<p...|       0|        20...|      86252|    1|<e...|Wh...|  33579| 2365|   [e...|\n",
      "|             40...|      2|<b...|       0|        20...|      40...|    0|<h...|Ho...|  18...|   45|   [h...|\n",
      "|              null|      0|<p...|       3|        20...|      21...|    1|<e...|Sc...|  60176|   70|   [e...|\n",
      "|              null|      0|<p...|       4|        20...|      93196|    0|<h...|In...|  37167|  101|   [h...|\n",
      "|              9951|      3|<p...|       0|        20...|       9945|    6|<m...|Ar...|   3460|  774|   [m...|\n",
      "|              null|      1|<p...|       0|        20...|      24...|    1|<s...|Nu...|  57770|  403|   [s...|\n",
      "|             39...|      2|<p...|       5|        20...|      39...|    9|<q...|Fe...|  92708|  422|   [q...|\n",
      "|              null|      1|<p...|       0|        20...|      31...|    2|<s...|Is...|  13...|   48|   [s...|\n",
      "|              null|      0|<p...|       2|        20...|      21...|    3|<c...|Ac...|   7785|   40|   [c...|\n",
      "|             60697|      1|<p...|       3|        20...|      60649|    0|<h...|Fi...|   null|  458|   [h...|\n",
      "|             95945|      3|<p...|       0|        20...|      95909|    3|<e...|Ma...|  25407|15303|   [e...|\n",
      "|              null|      0|<p...|       5|        20...|      78437|    2|<h...|In...|  12615|  390|   [h...|\n",
      "|             73229|      2|<p...|       7|        20...|      73225|   10|<p...|Is...|  27862| 1636|   [p...|\n",
      "|              null|      1|<u...|       2|        20...|      92450|    2|<q...|Ca...|  29762|10227|   [q...|\n",
      "|             23158|      7|<p...|       1|        20...|      23154|    4|<m...|Ho...|   8262|30610|   [m...|\n",
      "|              null|      1|<p...|       4|        20...|      95446|    0|<t...|Wh...|  38277|  386|   [t...|\n",
      "|              null|      0|<p...|       0|        20...|      42...|    0|<q...|Ar...|  16...|   11|   [q...|\n",
      "+------------------+-------+-----+--------+-------------+-----------+-----+-----+-----+-------+-----+--------+\n",
      "only showing top 20 rows\n",
      "\n"
     ]
    }
   ],
   "source": [
    "resultDF.show(truncate=5)"
   ]
  },
  {
   "cell_type": "markdown",
   "metadata": {},
   "source": [
    "# Task II\n",
    "\n",
    "* For each question see if tags can be matched in the text and find number of matches. Than see if this correlates with the response time"
   ]
  },
  {
   "cell_type": "code",
   "execution_count": 124,
   "metadata": {},
   "outputs": [],
   "source": [
    "@udf(IntegerType())\n",
    "def detect_tags(message, tags):\n",
    "    matches = []\n",
    "    for tag in tags:\n",
    "        matches.append(re.findall(r\"{}\".format(tag) , message))\n",
    "    #print(matches)\n",
    "    return len([item for sublist in matches for item in sublist])"
   ]
  },
  {
   "cell_type": "code",
   "execution_count": 153,
   "metadata": {},
   "outputs": [
    {
     "name": "stdout",
     "output_type": "stream",
     "text": [
      "+-----------+------------------------------+------------------------------+-------+-----------+\n",
      "|question_id|                          body|                          tags|matches|body_length|\n",
      "+-----------+------------------------------+------------------------------+-------+-----------+\n",
      "|     373639|<p>I am reading <a href=\"ht...|[electromagnetism, forces, ...|   1457|       1456|\n",
      "|     429390|<p>Traditionally for a free...|[electromagnetism, mass, ch...|   1171|       1165|\n",
      "|     317957|<p>In the course of learnin...|[electromagnetism, tensor c...|    915|        914|\n",
      "|     149796|<p>Moment of inertia is the...|[rotational dynamics, defin...|    452|        450|\n",
      "|     411470|<p>Suppose two objects coll...|[special relativity, mass, ...|     74|       6511|\n",
      "|     277347|<p>I am aware that there ap...|[newtonian mechanics, energ...|     64|       8106|\n",
      "|     171914|<p>Second, related question...|    [pressure, water, density]|     60|       6309|\n",
      "|     244363|<p>If time is a dimension a...|[special relativity, spacet...|     55|       6491|\n",
      "|     266261|<p>[See final additions at ...|[special relativity, energy...|     53|      14688|\n",
      "|     433680|<h1>What I'm doing</h1>\n",
      "\n",
      "<p...|[quantum mechanics, superpo...|     50|      19550|\n",
      "|     359977|<p>The other day when I pos...|[energy, particle physics, ...|     48|       6306|\n",
      "|      55948|<p>This post is my best eff...|[voltage, electrical resist...|     47|       9613|\n",
      "|     444550|<p>Please excuse the length...|[energy, mass, reference fr...|     46|       4990|\n",
      "|     121586|<p>Edit: Use <a href=\"http:...|[quantum field theory, gaug...|     44|       6525|\n",
      "|     420259|<p>For the heavy quarks and...|[mass, renormalization, qua...|     44|       4420|\n",
      "|     361097|<p>The starting point is th...|[electromagnetism, energy, ...|     43|       5568|\n",
      "|     220697|<p>The question in the titl...|[quantum mechanics, special...|     42|       5186|\n",
      "|     435858|<p>I have read these questi...|[charge, standard model, qu...|     42|       3368|\n",
      "|      54081|<p>The question I am workin...|[electromagnetism, electric...|     42|       3771|\n",
      "|     309215|<p>To show my current under...|[energy, energy conservatio...|     42|       1742|\n",
      "+-----------+------------------------------+------------------------------+-------+-----------+\n",
      "only showing top 20 rows\n",
      "\n"
     ]
    }
   ],
   "source": [
    "# using HOF is not working, result seems to be not deterministic\n",
    "# result of UDF is argument of HOF which is argument another UDF\n",
    "\n",
    "with_matchesDF = (\n",
    "    resultDF\n",
    "    .select('question_id', 'body', 'tags_arr')\n",
    "    .selectExpr(\n",
    "        'question_id',\n",
    "        'body',\n",
    "        'TRANSFORM(tags_arr, (value -> regexp_replace(value, \"-\", \" \"))) AS tags'\n",
    "    )\n",
    "    .withColumn('matches', detect_tags(col('body'), 'tags'))\n",
    "    .withColumn('body_length', length('body'))\n",
    "    .orderBy(desc('matches'))\n",
    ").show(truncate=30)"
   ]
  },
  {
   "cell_type": "code",
   "execution_count": 147,
   "metadata": {},
   "outputs": [],
   "source": [
    "@udf(IntegerType())\n",
    "def detect_t(message, tags):\n",
    "    matches = []\n",
    "    t = map(lambda x: x.replace('-', ' '), tags)\n",
    "    for tag in t:\n",
    "        matches.append(re.findall(r\"{}\".format(tag) , message))\n",
    "    return len([item for sublist in matches for item in sublist])"
   ]
  },
  {
   "cell_type": "code",
   "execution_count": 152,
   "metadata": {},
   "outputs": [
    {
     "name": "stdout",
     "output_type": "stream",
     "text": [
      "+-----------+------------------------------+------------------------------+-------+-----------+\n",
      "|question_id|                          body|                      tags_arr|matches|body_length|\n",
      "+-----------+------------------------------+------------------------------+-------+-----------+\n",
      "|     411470|<p>Suppose two objects coll...|[special-relativity, mass, ...|     74|       6511|\n",
      "|     277347|<p>I am aware that there ap...|[newtonian-mechanics, energ...|     64|       8106|\n",
      "|     171914|<p>Second, related question...|    [pressure, water, density]|     60|       6309|\n",
      "|     244363|<p>If time is a dimension a...|[special-relativity, spacet...|     55|       6491|\n",
      "|     266261|<p>[See final additions at ...|[special-relativity, energy...|     53|      14688|\n",
      "|     433680|<h1>What I'm doing</h1>\n",
      "\n",
      "<p...|[quantum-mechanics, superpo...|     50|      19550|\n",
      "|     359977|<p>The other day when I pos...|[energy, particle-physics, ...|     48|       6306|\n",
      "|      55948|<p>This post is my best eff...|[voltage, electrical-resist...|     47|       9613|\n",
      "|     444550|<p>Please excuse the length...|[energy, mass, reference-fr...|     46|       4990|\n",
      "|     420259|<p>For the heavy quarks and...|[mass, renormalization, qua...|     44|       4420|\n",
      "|     121586|<p>Edit: Use <a href=\"http:...|[quantum-field-theory, gaug...|     44|       6525|\n",
      "|     361097|<p>The starting point is th...|[electromagnetism, energy, ...|     43|       5568|\n",
      "|     220697|<p>The question in the titl...|[quantum-mechanics, special...|     42|       5186|\n",
      "|      54081|<p>The question I am workin...|[electromagnetism, electric...|     42|       3771|\n",
      "|     435858|<p>I have read these questi...|[charge, standard-model, qu...|     42|       3368|\n",
      "|     309215|<p>To show my current under...|[energy, energy-conservatio...|     42|       1742|\n",
      "|     249459|<p><a href=\"https://en.wiki...|[gravity, particle-physics,...|     41|       5449|\n",
      "|     292330|<p>The potential energy can...|[forces, work, potential, p...|     41|       3091|\n",
      "|     208038|<p>I was really confused ab...| [newtonian-mechanics, spring]|     39|       4734|\n",
      "|     322473|<p>So the title's a bit irr...|[newtonian-mechanics, force...|     39|       2688|\n",
      "+-----------+------------------------------+------------------------------+-------+-----------+\n",
      "only showing top 20 rows\n",
      "\n"
     ]
    }
   ],
   "source": [
    "(\n",
    "    resultDF\n",
    "    .select('question_id', 'body', 'tags_arr')\n",
    "    .withColumn('matches', detect_t('body', 'tags_arr'))\n",
    "    .withColumn('body_length', length('body'))\n",
    "    .orderBy(desc('matches'))\n",
    ").show(truncate=30)"
   ]
  },
  {
   "cell_type": "code",
   "execution_count": null,
   "metadata": {},
   "outputs": [],
   "source": []
  }
 ],
 "metadata": {
  "kernelspec": {
   "display_name": "Python 3",
   "language": "python",
   "name": "python3"
  },
  "language_info": {
   "codemirror_mode": {
    "name": "ipython",
    "version": 3
   },
   "file_extension": ".py",
   "mimetype": "text/x-python",
   "name": "python",
   "nbconvert_exporter": "python",
   "pygments_lexer": "ipython3",
   "version": "3.6.4"
  }
 },
 "nbformat": 4,
 "nbformat_minor": 2
}
