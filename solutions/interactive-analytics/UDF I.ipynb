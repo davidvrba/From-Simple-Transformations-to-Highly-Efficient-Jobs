{
 "cells": [
  {
   "cell_type": "code",
   "execution_count": 1,
   "metadata": {},
   "outputs": [],
   "source": [
    "import findspark\n",
    "findspark.init()"
   ]
  },
  {
   "cell_type": "code",
   "execution_count": 19,
   "metadata": {},
   "outputs": [],
   "source": [
    "import pyspark\n",
    "from pyspark.sql import SparkSession\n",
    "from pyspark.sql.functions import (\n",
    "    col, desc, count, explode, split, regexp_replace, collect_list, array_sort, reverse, unix_timestamp, row_number,\n",
    "    when, lit, lead, avg, udf\n",
    ")\n",
    "\n",
    "from pyspark.sql import Window\n",
    "\n",
    "from pyspark.sql.types import ArrayType, StructType, StructField, StringType, LongType, TimestampType, DoubleType, IntegerType\n",
    "\n",
    "import os"
   ]
  },
  {
   "cell_type": "code",
   "execution_count": 3,
   "metadata": {},
   "outputs": [],
   "source": [
    "spark = (\n",
    "    SparkSession\n",
    "    .builder\n",
    "    .appName('UDFs I')\n",
    "    .getOrCreate()\n",
    ")"
   ]
  },
  {
   "cell_type": "markdown",
   "metadata": {},
   "source": [
    "# Task I\n",
    "\n",
    "* convert question tags to an array using UDFs"
   ]
  },
  {
   "cell_type": "code",
   "execution_count": 4,
   "metadata": {},
   "outputs": [],
   "source": [
    "base_path = os.getcwd()\n",
    "\n",
    "project_path = ('/').join(base_path.split('/')[0:-2]) \n",
    "\n",
    "data_input_path = os.path.join(project_path, 'data/questions-json')"
   ]
  },
  {
   "cell_type": "code",
   "execution_count": 5,
   "metadata": {},
   "outputs": [],
   "source": [
    "questionsDF = (\n",
    "    spark\n",
    "    .read\n",
    "    .format('json')\n",
    "    .option('path', data_input_path)\n",
    "    .load()\n",
    ")"
   ]
  },
  {
   "cell_type": "code",
   "execution_count": 7,
   "metadata": {},
   "outputs": [
    {
     "name": "stdout",
     "output_type": "stream",
     "text": [
      "+------------------------------------------------------------------------------------+\n",
      "|tags                                                                                |\n",
      "+------------------------------------------------------------------------------------+\n",
      "|<special-relativity><mass>                                                          |\n",
      "|<electromagnetic-radiation><speed-of-light><velocity><history><relative-motion>     |\n",
      "|<electromagnetic-radiation><condensed-matter><quantum-electrodynamics><quantum-spin>|\n",
      "|<electricity>                                                                       |\n",
      "|<homework-and-exercises><rotational-dynamics><reference-frames>                     |\n",
      "|<epr-experiment><schroedingers-cat>                                                 |\n",
      "|<homework-and-exercises><elasticity>                                                |\n",
      "|<mathematical-physics>                                                              |\n",
      "|<supersymmetry><group-representations><spacetime-dimensions><spinors><superalgebra> |\n",
      "|<quantum-mechanics><energy><wavefunction><path-integral><discrete>                  |\n",
      "|<special-relativity><visible-light><time>                                           |\n",
      "|<classical-mechanics><mathematical-physics><lagrangian-formalism><action>           |\n",
      "|<homework-and-exercises><newtonian-mechanics><forces><torque><statics>              |\n",
      "|<electromagnetism><solid-state-physics><magnetic-fields><electrons>                 |\n",
      "|<homework-and-exercises><electromagnetism>                                          |\n",
      "|<particle-physics><mass><mass-energy><elementary-particles><higgs>                  |\n",
      "|<quantum-mechanics><general-relativity><waves><electrons>                           |\n",
      "|<mass-energy><states-of-matter>                                                     |\n",
      "|<thermodynamics>                                                                    |\n",
      "|<quantum-mechanics><solid-state-physics><electronic-band-theory><quantum-chemistry> |\n",
      "+------------------------------------------------------------------------------------+\n",
      "only showing top 20 rows\n",
      "\n"
     ]
    }
   ],
   "source": [
    "questionsDF.select('tags').show(truncate=False)"
   ]
  },
  {
   "cell_type": "code",
   "execution_count": 20,
   "metadata": {},
   "outputs": [],
   "source": [
    "@udf(ArrayType(StringType()))\n",
    "def transform_tags(tags):\n",
    "    tags_list = tags.split('><')\n",
    "    tags_list[0] = tags_list[0][1:]\n",
    "    tags_list[-1] = tags_list[-1][0:-1]\n",
    "    return tags_list"
   ]
  },
  {
   "cell_type": "code",
   "execution_count": 23,
   "metadata": {},
   "outputs": [
    {
     "name": "stdout",
     "output_type": "stream",
     "text": [
      "+----------------------------------------+----------------------------------------+\n",
      "|                                    tags|                                tags_arr|\n",
      "+----------------------------------------+----------------------------------------+\n",
      "|              <special-relativity><mass>|              [special-relativity, mass]|\n",
      "|<electromagnetic-radiation><speed-of-...|[electromagnetic-radiation, speed-of-...|\n",
      "|<electromagnetic-radiation><condensed...|[electromagnetic-radiation, condensed...|\n",
      "|                           <electricity>|                           [electricity]|\n",
      "|<homework-and-exercises><rotational-d...|[homework-and-exercises, rotational-d...|\n",
      "|     <epr-experiment><schroedingers-cat>|     [epr-experiment, schroedingers-cat]|\n",
      "|    <homework-and-exercises><elasticity>|    [homework-and-exercises, elasticity]|\n",
      "|                  <mathematical-physics>|                  [mathematical-physics]|\n",
      "|<supersymmetry><group-representations...|[supersymmetry, group-representations...|\n",
      "|<quantum-mechanics><energy><wavefunct...|[quantum-mechanics, energy, wavefunct...|\n",
      "|<special-relativity><visible-light><t...|[special-relativity, visible-light, t...|\n",
      "|<classical-mechanics><mathematical-ph...|[classical-mechanics, mathematical-ph...|\n",
      "|<homework-and-exercises><newtonian-me...|[homework-and-exercises, newtonian-me...|\n",
      "|<electromagnetism><solid-state-physic...|[electromagnetism, solid-state-physic...|\n",
      "|<homework-and-exercises><electromagne...|[homework-and-exercises, electromagne...|\n",
      "|<particle-physics><mass><mass-energy>...|[particle-physics, mass, mass-energy,...|\n",
      "|<quantum-mechanics><general-relativit...|[quantum-mechanics, general-relativit...|\n",
      "|         <mass-energy><states-of-matter>|         [mass-energy, states-of-matter]|\n",
      "|                        <thermodynamics>|                        [thermodynamics]|\n",
      "|<quantum-mechanics><solid-state-physi...|[quantum-mechanics, solid-state-physi...|\n",
      "+----------------------------------------+----------------------------------------+\n",
      "only showing top 20 rows\n",
      "\n"
     ]
    }
   ],
   "source": [
    "(\n",
    "    questionsDF\n",
    "    .select('tags')\n",
    "    .withColumn('tags_arr', transform_tags('tags'))\n",
    ").show(truncate=40)"
   ]
  },
  {
   "cell_type": "code",
   "execution_count": null,
   "metadata": {},
   "outputs": [],
   "source": []
  }
 ],
 "metadata": {
  "kernelspec": {
   "display_name": "Python 3",
   "language": "python",
   "name": "python3"
  },
  "language_info": {
   "codemirror_mode": {
    "name": "ipython",
    "version": 3
   },
   "file_extension": ".py",
   "mimetype": "text/x-python",
   "name": "python",
   "nbconvert_exporter": "python",
   "pygments_lexer": "ipython3",
   "version": "3.6.4"
  }
 },
 "nbformat": 4,
 "nbformat_minor": 2
}
