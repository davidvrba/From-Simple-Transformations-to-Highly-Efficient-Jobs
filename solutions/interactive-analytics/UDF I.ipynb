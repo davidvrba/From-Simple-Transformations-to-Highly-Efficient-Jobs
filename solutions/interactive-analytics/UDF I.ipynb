{
 "cells": [
  {
   "cell_type": "code",
   "execution_count": null,
   "metadata": {},
   "outputs": [],
   "source": [
    "import findspark\n",
    "findspark.init()"
   ]
  },
  {
   "cell_type": "code",
   "execution_count": null,
   "metadata": {},
   "outputs": [],
   "source": [
    "import pyspark\n",
    "from pyspark.sql import SparkSession\n",
    "from pyspark.sql.functions import (\n",
    "    col, desc, count, explode, split, regexp_replace, collect_list, array_sort, reverse, unix_timestamp, row_number,\n",
    "    when, lit, lead, avg, udf, length\n",
    ")\n",
    "\n",
    "from pyspark.sql import Window\n",
    "\n",
    "from pyspark.sql.types import (\n",
    "    ArrayType, StructType, StructField, StringType, LongType, TimestampType, DoubleType, IntegerType\n",
    ")\n",
    "\n",
    "import os\n",
    "import re\n",
    "import pandas as pd"
   ]
  },
  {
   "cell_type": "code",
   "execution_count": null,
   "metadata": {},
   "outputs": [],
   "source": [
    "spark = (\n",
    "    SparkSession\n",
    "    .builder\n",
    "    .appName('UDFs I')\n",
    "    .getOrCreate()\n",
    ")"
   ]
  },
  {
   "cell_type": "markdown",
   "metadata": {},
   "source": [
    "# Task I\n",
    "\n",
    "* convert question tags to an array using UDFs"
   ]
  },
  {
   "cell_type": "code",
   "execution_count": null,
   "metadata": {},
   "outputs": [],
   "source": [
    "base_path = os.getcwd()\n",
    "\n",
    "project_path = ('/').join(base_path.split('/')[0:-2]) \n",
    "\n",
    "data_input_path = os.path.join(project_path, 'data/questions-json')"
   ]
  },
  {
   "cell_type": "code",
   "execution_count": null,
   "metadata": {},
   "outputs": [],
   "source": [
    "questionsDF = (\n",
    "    spark\n",
    "    .read\n",
    "    .format('json')\n",
    "    .option('path', data_input_path)\n",
    "    .load()\n",
    ")"
   ]
  },
  {
   "cell_type": "code",
   "execution_count": null,
   "metadata": {},
   "outputs": [],
   "source": [
    "questionsDF.printSchema()"
   ]
  },
  {
   "cell_type": "code",
   "execution_count": null,
   "metadata": {},
   "outputs": [],
   "source": [
    "questionsDF.select('tags').show(truncate=False)"
   ]
  },
  {
   "cell_type": "code",
   "execution_count": null,
   "metadata": {},
   "outputs": [],
   "source": [
    "@udf(ArrayType(StringType()))\n",
    "def transform_tags(tags):\n",
    "    tags_list = tags.split('><')\n",
    "    tags_list[0] = tags_list[0][1:]\n",
    "    tags_list[-1] = tags_list[-1][0:-1]\n",
    "    return tags_list"
   ]
  },
  {
   "cell_type": "code",
   "execution_count": null,
   "metadata": {},
   "outputs": [],
   "source": [
    "resultDF = (\n",
    "    questionsDF\n",
    "    .withColumn('tags_arr', transform_tags('tags'))\n",
    ")"
   ]
  },
  {
   "cell_type": "code",
   "execution_count": null,
   "metadata": {},
   "outputs": [],
   "source": [
    "resultDF.show(truncate=5)"
   ]
  },
  {
   "cell_type": "markdown",
   "metadata": {},
   "source": [
    "# Task II\n",
    "\n",
    "* For each question see if tags can be matched in the text and find number of matches. Than see if this correlates with the response time"
   ]
  },
  {
   "cell_type": "code",
   "execution_count": null,
   "metadata": {},
   "outputs": [],
   "source": [
    "@udf(IntegerType())\n",
    "def detect_tags(message, tags):\n",
    "    matches = []\n",
    "    for tag in tags:\n",
    "        matches.append(re.findall(r\"{}\".format(tag) , message))\n",
    "    #print(matches)\n",
    "    return len([item for sublist in matches for item in sublist])"
   ]
  },
  {
   "cell_type": "code",
   "execution_count": null,
   "metadata": {},
   "outputs": [],
   "source": [
    "# using HOF is not working, result seems to be not deterministic\n",
    "# result of UDF is argument of HOF which is argument another UDF\n",
    "\n",
    "with_matchesDF = (\n",
    "    resultDF\n",
    "    .select('question_id', 'body', 'tags_arr')\n",
    "    .selectExpr(\n",
    "        'question_id',\n",
    "        'body',\n",
    "        'TRANSFORM(tags_arr, (value -> regexp_replace(value, \"-\", \" \"))) AS tags'\n",
    "    )\n",
    "    .withColumn('matches', detect_tags(col('body'), 'tags'))\n",
    "    .withColumn('body_length', length('body'))\n",
    "    .orderBy(desc('matches'))\n",
    ").show(truncate=30)"
   ]
  },
  {
   "cell_type": "code",
   "execution_count": null,
   "metadata": {},
   "outputs": [],
   "source": [
    "@udf(IntegerType())\n",
    "def detect_t(message, tags):\n",
    "    matches = []\n",
    "    t = map(lambda x: x.replace('-', ' '), tags)\n",
    "    for tag in t:\n",
    "        matches.append(re.findall(r\"{}\".format(tag) , message))\n",
    "    return len([item for sublist in matches for item in sublist])"
   ]
  },
  {
   "cell_type": "code",
   "execution_count": null,
   "metadata": {},
   "outputs": [],
   "source": [
    "(\n",
    "    resultDF\n",
    "    .select('question_id', 'body', 'tags_arr')\n",
    "    .withColumn('matches', detect_t('body', 'tags_arr'))\n",
    "    .withColumn('body_length', length('body'))\n",
    "    .orderBy(desc('matches'))\n",
    ").show(truncate=30)"
   ]
  },
  {
   "cell_type": "code",
   "execution_count": 154,
   "metadata": {},
   "outputs": [],
   "source": [
    "spark.stop()"
   ]
  },
  {
   "cell_type": "code",
   "execution_count": null,
   "metadata": {},
   "outputs": [],
   "source": []
  }
 ],
 "metadata": {
  "kernelspec": {
   "display_name": "Python 3",
   "language": "python",
   "name": "python3"
  },
  "language_info": {
   "codemirror_mode": {
    "name": "ipython",
    "version": 3
   },
   "file_extension": ".py",
   "mimetype": "text/x-python",
   "name": "python",
   "nbconvert_exporter": "python",
   "pygments_lexer": "ipython3",
   "version": "3.6.4"
  }
 },
 "nbformat": 4,
 "nbformat_minor": 2
}
