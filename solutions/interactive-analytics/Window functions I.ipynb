{
 "cells": [
  {
   "cell_type": "markdown",
   "metadata": {},
   "source": [
    "# Window functions\n",
    "\n",
    "In this notebook you will:\n",
    "* solve analytical question using window functions"
   ]
  },
  {
   "cell_type": "code",
   "execution_count": 1,
   "metadata": {},
   "outputs": [],
   "source": [
    "import pyspark\n",
    "from pyspark.sql import SparkSession\n",
    "from pyspark.sql.functions import (\n",
    "    col, count, unix_timestamp, row_number, lead, avg\n",
    ")\n",
    "from pyspark.sql import Window\n",
    "\n",
    "import os"
   ]
  },
  {
   "cell_type": "code",
   "execution_count": 2,
   "metadata": {},
   "outputs": [],
   "source": [
    "spark = (\n",
    "    SparkSession\n",
    "    .builder\n",
    "    .appName('WF I')\n",
    "    .getOrCreate()\n",
    ")"
   ]
  },
  {
   "cell_type": "markdown",
   "metadata": {},
   "source": [
    "# Task 1\n",
    "\n",
    "* compute avg time between two consecutive answers for each user that answered at least 2 questions"
   ]
  },
  {
   "cell_type": "code",
   "execution_count": 3,
   "metadata": {},
   "outputs": [],
   "source": [
    "base_path = os.getcwd()\n",
    "\n",
    "project_path = ('/').join(base_path.split('/')[0:-2]) \n",
    "\n",
    "data_input_path = os.path.join(project_path, 'data/answers')"
   ]
  },
  {
   "cell_type": "code",
   "execution_count": 4,
   "metadata": {},
   "outputs": [],
   "source": [
    "answersDF = (\n",
    "    spark\n",
    "    .read\n",
    "    .option('path', data_input_path)\n",
    "    .load()\n",
    ").cache()"
   ]
  },
  {
   "cell_type": "markdown",
   "metadata": {},
   "source": [
    "<b>Take only users that answered at least 2 questions:</b>\n",
    "\n",
    "Hint:\n",
    "* Use count as a window function\n",
    "* Create the window per user\n",
    "* Filter only users with count > 1"
   ]
  },
  {
   "cell_type": "code",
   "execution_count": 5,
   "metadata": {},
   "outputs": [],
   "source": [
    "w = (\n",
    "    Window()\n",
    "    .partitionBy('user_id')\n",
    "    .orderBy('creation_date')\n",
    "    .rowsBetween(Window().unboundedPreceding, Window().unboundedFollowing)\n",
    ")\n",
    "\n",
    "data = (\n",
    "    answersDF\n",
    "    .withColumn('r', count('*').over(w))\n",
    "    .filter(col('r') > 1)\n",
    ")"
   ]
  },
  {
   "cell_type": "code",
   "execution_count": 7,
   "metadata": {},
   "outputs": [
    {
     "name": "stdout",
     "output_type": "stream",
     "text": [
      "+---------+--------------------+--------------------+--------+-------+-----+-----------+---+\n",
      "|answer_id|       creation_date|                body|comments|user_id|score|question_id|  r|\n",
      "+---------+--------------------+--------------------+--------+-------+-----+-----------+---+\n",
      "|     2251|2010-12-25 00:27:...|<p>If you are wil...|       0|     26|    1|       1354|  3|\n",
      "|     3600|2011-01-22 15:14:...|<p>What is descri...|       0|     26|    2|       3526|  3|\n",
      "|   234970|2016-02-10 10:25:...|<p>I don't know a...|       0|     26|    1|       8930|  3|\n",
      "|       66|2010-11-02 22:09:...|<p>When you accel...|       6|     29|   14|         62| 77|\n",
      "|       80|2010-11-02 22:50:...|<p>Neutrons have ...|       3|     29|   21|         78| 77|\n",
      "+---------+--------------------+--------------------+--------+-------+-----+-----------+---+\n",
      "only showing top 5 rows\n",
      "\n"
     ]
    }
   ],
   "source": [
    "data.show(n=5)"
   ]
  },
  {
   "cell_type": "markdown",
   "metadata": {},
   "source": [
    "<b>Compute the average time between answers:</b>\n",
    "\n",
    "Hint:\n",
    "* Define new window also per user but sorted by creation_date\n",
    "* Use lead function to add new column which contains the next answer\n",
    "* Compute the time difference (use unix_timestamp)\n",
    "* Group by user and compute the average"
   ]
  },
  {
   "cell_type": "code",
   "execution_count": null,
   "metadata": {},
   "outputs": [],
   "source": [
    "w2 = Window().partitionBy('user_id').orderBy('creation_date')\n",
    "\n",
    "resultDF = (\n",
    "    data\n",
    "    .withColumn('next_answer', lead('creation_date').over(w2))\n",
    "    .filter(col('next_answer').isNotNull())\n",
    "    .withColumn('diff', unix_timestamp(col('next_answer')) - unix_timestamp(col('creation_date')))\n",
    "    .select('user_id', 'r', 'diff')\n",
    "    .groupBy('user_id')\n",
    "    .agg(\n",
    "        avg('diff').alias('avg_response_period')\n",
    "    )\n",
    "    .orderBy('avg_response_period')\n",
    ")"
   ]
  },
  {
   "cell_type": "code",
   "execution_count": null,
   "metadata": {},
   "outputs": [],
   "source": [
    "resultDF.show()"
   ]
  },
  {
   "cell_type": "code",
   "execution_count": null,
   "metadata": {},
   "outputs": [],
   "source": [
    "spark.stop()"
   ]
  },
  {
   "cell_type": "code",
   "execution_count": null,
   "metadata": {},
   "outputs": [],
   "source": []
  }
 ],
 "metadata": {
  "kernelspec": {
   "display_name": "Python 3",
   "language": "python",
   "name": "python3"
  },
  "language_info": {
   "codemirror_mode": {
    "name": "ipython",
    "version": 3
   },
   "file_extension": ".py",
   "mimetype": "text/x-python",
   "name": "python",
   "nbconvert_exporter": "python",
   "pygments_lexer": "ipython3",
   "version": "3.6.4"
  }
 },
 "nbformat": 4,
 "nbformat_minor": 2
}
