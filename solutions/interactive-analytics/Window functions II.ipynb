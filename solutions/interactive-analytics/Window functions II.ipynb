{
 "cells": [
  {
   "cell_type": "markdown",
   "metadata": {},
   "source": [
    "# Window functions\n",
    "\n",
    "## Task 1:\n",
    "\n",
    "* split users to 3 groups according to number of distinct badges they have (less than 50, 50-150, more than 150)\n",
    "* if a user has one badge more times consider only the first date\n",
    "* for each user compute avg time between two badges\n",
    "* compute avg for each 3 groups\n",
    "\n",
    "Note\n",
    "* In this task you will use\n",
    " * window functions\n",
    " * aggregations\n",
    " * when condition\n",
    " * filtering\n",
    " * time manipulation"
   ]
  },
  {
   "cell_type": "code",
   "execution_count": null,
   "metadata": {},
   "outputs": [],
   "source": [
    "import findspark\n",
    "findspark.init()"
   ]
  },
  {
   "cell_type": "code",
   "execution_count": null,
   "metadata": {},
   "outputs": [],
   "source": [
    "import pyspark\n",
    "from pyspark.sql import SparkSession\n",
    "from pyspark.sql.functions import (\n",
    "    col, desc, count, explode, split, regexp_replace, collect_list, array_sort, reverse, unix_timestamp, row_number,\n",
    "    when, lit, lead, avg\n",
    ")\n",
    "\n",
    "from pyspark.sql import Window\n",
    "\n",
    "from pyspark.sql.types import StructType, StructField, StringType, LongType, TimestampType"
   ]
  },
  {
   "cell_type": "code",
   "execution_count": null,
   "metadata": {},
   "outputs": [],
   "source": [
    "spark = (\n",
    "    SparkSession\n",
    "    .builder\n",
    "    .appName('WF II')\n",
    "    .getOrCreate()\n",
    ")"
   ]
  },
  {
   "cell_type": "code",
   "execution_count": null,
   "metadata": {},
   "outputs": [],
   "source": [
    "base_path = os.getcwd()\n",
    "\n",
    "project_path = ('/').join(base_path.split('/')[0:-2]) \n",
    "\n",
    "data_input_path = os.path.join(project_path, 'data/badges')"
   ]
  },
  {
   "cell_type": "code",
   "execution_count": null,
   "metadata": {},
   "outputs": [],
   "source": [
    "badgesDF = (\n",
    "    spark\n",
    "    .read\n",
    "    .parquet(data_input_path)\n",
    ")"
   ]
  },
  {
   "cell_type": "code",
   "execution_count": null,
   "metadata": {},
   "outputs": [],
   "source": [
    "badgesDF.printSchema()"
   ]
  },
  {
   "cell_type": "code",
   "execution_count": null,
   "metadata": {},
   "outputs": [],
   "source": [
    "w1 = Window().partitionBy('user_id', 'name').orderBy('date')\n",
    "w2 = Window().partitionBy('user_id')\n",
    "\n",
    "badges_transformed = (\n",
    "    badgesDF\n",
    "    .withColumn('r', row_number().over(w1))\n",
    "    .filter(col('r') == 1)\n",
    "    .withColumn('badges', count('*').over(w2))\n",
    "    .withColumn(\n",
    "        'category', \n",
    "        when(col('badges') < 50, lit(3))\n",
    "        .when(col('badges').between(50, 150), lit(2))\n",
    "        .otherwise(lit(1))\n",
    "    )\n",
    "\n",
    ").cache()"
   ]
  },
  {
   "cell_type": "code",
   "execution_count": null,
   "metadata": {},
   "outputs": [],
   "source": [
    "badges_transformed.count()"
   ]
  },
  {
   "cell_type": "code",
   "execution_count": null,
   "metadata": {},
   "outputs": [],
   "source": [
    "badges_transformed.orderBy(('category')).show(truncate=False)"
   ]
  },
  {
   "cell_type": "code",
   "execution_count": null,
   "metadata": {},
   "outputs": [],
   "source": [
    "w3 = Window().partitionBy('user_id').orderBy('date')\n",
    "\n",
    "(\n",
    "    badges_transformed\n",
    "    .withColumn('next_badge', lead('date').over(w3))\n",
    "    .filter(col('next_badge').isNotNull())\n",
    "    .withColumn('diff', unix_timestamp(col('next_badge')) - unix_timestamp(col('date')))\n",
    "    .groupBy('category')\n",
    "    .agg(\n",
    "        (avg('diff') / 3600 / 24).alias('avg_diff')  # converted to days\n",
    "    )\n",
    "    .orderBy('category')\n",
    ").show(truncate=False)"
   ]
  },
  {
   "cell_type": "code",
   "execution_count": null,
   "metadata": {},
   "outputs": [],
   "source": [
    "spark.stop()"
   ]
  }
 ],
 "metadata": {
  "kernelspec": {
   "display_name": "Python 3",
   "language": "python",
   "name": "python3"
  },
  "language_info": {
   "codemirror_mode": {
    "name": "ipython",
    "version": 3
   },
   "file_extension": ".py",
   "mimetype": "text/x-python",
   "name": "python",
   "nbconvert_exporter": "python",
   "pygments_lexer": "ipython3",
   "version": "3.6.4"
  }
 },
 "nbformat": 4,
 "nbformat_minor": 2
}
