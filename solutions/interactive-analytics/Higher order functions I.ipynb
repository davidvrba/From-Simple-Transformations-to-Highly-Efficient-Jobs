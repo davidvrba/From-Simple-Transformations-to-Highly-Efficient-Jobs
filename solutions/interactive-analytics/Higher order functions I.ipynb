{
 "cells": [
  {
   "cell_type": "markdown",
   "metadata": {},
   "source": [
    "# Higher Order Functions\n",
    "\n",
    "In this notebook you will solve two questions using higher order functions"
   ]
  },
  {
   "cell_type": "code",
   "execution_count": null,
   "metadata": {},
   "outputs": [],
   "source": [
    "import pyspark\n",
    "from pyspark.sql import SparkSession\n",
    "from pyspark.sql.functions import (\n",
    "    col, desc, count, explode, split, regexp_replace, collect_list, array_sort, reverse, unix_timestamp, expr\n",
    ")\n",
    "\n",
    "from pyspark.sql.types import StructType, StructField, StringType, LongType, TimestampType\n",
    "\n",
    "import os"
   ]
  },
  {
   "cell_type": "code",
   "execution_count": null,
   "metadata": {},
   "outputs": [],
   "source": [
    "spark = (\n",
    "    SparkSession\n",
    "    .builder\n",
    "    .appName('HOF I')\n",
    "    .getOrCreate()\n",
    ")"
   ]
  },
  {
   "cell_type": "markdown",
   "metadata": {},
   "source": [
    "# Task I\n",
    "\n",
    "* convert question tags (String in json file) to an array using HOFs"
   ]
  },
  {
   "cell_type": "code",
   "execution_count": null,
   "metadata": {},
   "outputs": [],
   "source": [
    "base_path = os.getcwd()\n",
    "\n",
    "project_path = ('/').join(base_path.split('/')[0:-2]) \n",
    "\n",
    "data_input_path = os.path.join(project_path, 'data/questions-json')"
   ]
  },
  {
   "cell_type": "markdown",
   "metadata": {},
   "source": [
    "<b>Read the data from JSON:</b>"
   ]
  },
  {
   "cell_type": "code",
   "execution_count": null,
   "metadata": {},
   "outputs": [],
   "source": [
    "questionsDF = (\n",
    "    spark\n",
    "    .read\n",
    "    .format('json')\n",
    "    .option('path', data_input_path)\n",
    "    .load()\n",
    ")"
   ]
  },
  {
   "cell_type": "markdown",
   "metadata": {},
   "source": [
    "<b>Transform tags:</b>\n",
    "\n",
    "Hint:\n",
    "* first split the string using to an array\n",
    " * use split\n",
    "* use TRANSFORM in sql expression\n",
    " * use regexp_replace on each element"
   ]
  },
  {
   "cell_type": "code",
   "execution_count": null,
   "metadata": {},
   "outputs": [],
   "source": [
    "(\n",
    "    questionsDF\n",
    "    .withColumn('tags', split('tags', '><'))\n",
    "    .selectExpr(\n",
    "        '*',\n",
    "        \"TRANSFORM(tags, value -> regexp_replace(value, '(>|<)', '')) AS tags_arr\"\n",
    "    )\n",
    "    .drop('tags')\n",
    "    .withColumnRenamed('tags_arr', 'tags')\n",
    ").show(truncate=7)"
   ]
  },
  {
   "cell_type": "markdown",
   "metadata": {},
   "source": [
    "# Task II\n",
    "\n",
    "* For each user concatenate titles of questions he answered to a single string"
   ]
  },
  {
   "cell_type": "code",
   "execution_count": null,
   "metadata": {},
   "outputs": [],
   "source": [
    "data_input_path = os.path.join(project_path, 'output/questions-transformed')\n",
    "\n",
    "questionsDF = (\n",
    "    spark\n",
    "    .read\n",
    "    .option('path', data_input_path)\n",
    "    .load()\n",
    ")"
   ]
  },
  {
   "cell_type": "code",
   "execution_count": null,
   "metadata": {},
   "outputs": [],
   "source": [
    "(\n",
    "    questionsDF\n",
    "    .groupBy('user_id')\n",
    "    .agg(\n",
    "        collect_list('title').alias('title')\n",
    "    )\n",
    "    .selectExpr(\n",
    "        '*',\n",
    "        \"AGGREGATE(title, cast('' AS string), (buffer, value) -> (concat(buffer, ' - ', value))) AS total_title\"\n",
    "    )\n",
    "    .withColumn('total_title', expr(\"substring(total_title, 4, length(total_title))\"))\n",
    ").show(truncate=50)"
   ]
  },
  {
   "cell_type": "code",
   "execution_count": null,
   "metadata": {},
   "outputs": [],
   "source": [
    "spark.stop()"
   ]
  }
 ],
 "metadata": {
  "kernelspec": {
   "display_name": "Python 3",
   "language": "python",
   "name": "python3"
  },
  "language_info": {
   "codemirror_mode": {
    "name": "ipython",
    "version": 3
   },
   "file_extension": ".py",
   "mimetype": "text/x-python",
   "name": "python",
   "nbconvert_exporter": "python",
   "pygments_lexer": "ipython3",
   "version": "3.6.4"
  }
 },
 "nbformat": 4,
 "nbformat_minor": 2
}
