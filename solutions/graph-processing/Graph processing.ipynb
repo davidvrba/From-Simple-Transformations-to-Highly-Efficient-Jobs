{
 "cells": [
  {
   "cell_type": "code",
   "execution_count": 1,
   "metadata": {},
   "outputs": [],
   "source": [
    "import findspark\n",
    "findspark.init()"
   ]
  },
  {
   "cell_type": "code",
   "execution_count": 6,
   "metadata": {},
   "outputs": [],
   "source": [
    "import pyspark\n",
    "from pyspark.sql import SparkSession\n",
    "from pyspark.sql.functions import col, desc, count, explode, split, regexp_replace, collect_list\n",
    "\n",
    "from pyspark.sql.types import StructType, StructField, StringType, LongType, TimestampType\n",
    "\n",
    "import os"
   ]
  },
  {
   "cell_type": "code",
   "execution_count": 3,
   "metadata": {},
   "outputs": [],
   "source": [
    "spark = (\n",
    "    SparkSession\n",
    "    .builder\n",
    "    .appName('Graph processing I')\n",
    "    .config(\"spark.jars.packages\", \"graphframes:graphframes:0.5.0-spark2.1-s_2.11\")\n",
    "    .getOrCreate()\n",
    ")"
   ]
  },
  {
   "cell_type": "code",
   "execution_count": 4,
   "metadata": {},
   "outputs": [],
   "source": [
    "from graphframes import *"
   ]
  },
  {
   "cell_type": "code",
   "execution_count": 7,
   "metadata": {},
   "outputs": [],
   "source": [
    "base_path = os.getcwd()\n",
    "\n",
    "project_path = ('/').join(base_path.split('/')[0:-2]) \n",
    "\n",
    "answers_input_path = os.path.join(project_path, 'data/answers')\n",
    "\n",
    "users_input_path = os.path.join(project_path, 'data/users')"
   ]
  },
  {
   "cell_type": "code",
   "execution_count": 8,
   "metadata": {},
   "outputs": [],
   "source": [
    "answersDF = (\n",
    "    spark\n",
    "    .read\n",
    "    .option('path', answers_input_path)\n",
    "    .load()\n",
    ").sample(0.1, False, 24).cache()\n",
    "\n",
    "usersDF = (\n",
    "    spark\n",
    "    .read\n",
    "    .option('path', users_input_path)\n",
    "    .load()\n",
    ")"
   ]
  },
  {
   "cell_type": "code",
   "execution_count": 9,
   "metadata": {},
   "outputs": [
    {
     "data": {
      "text/plain": [
       "153439"
      ]
     },
     "execution_count": 9,
     "metadata": {},
     "output_type": "execute_result"
    }
   ],
   "source": [
    "usersDF.dropDuplicates(['user_id']).count()"
   ]
  },
  {
   "cell_type": "code",
   "execution_count": 10,
   "metadata": {},
   "outputs": [
    {
     "name": "stdout",
     "output_type": "stream",
     "text": [
      "+---------+-------------+--------+--------+-------+-----+-----------+\n",
      "|answer_id|creation_date|    body|comments|user_id|score|question_id|\n",
      "+---------+-------------+--------+--------+-------+-----+-----------+\n",
      "|   322985|     2017-...|<p>Fr...|       0| 149024|    3|     322983|\n",
      "|   348066|     2017-...|<p>Fo...|       0| 104696|    0|     348031|\n",
      "|   442899|     2018-...|<p>Wo...|       0| 183259|    3|     442895|\n",
      "|   218415|     2015-...|<p>Th...|       0|  98445|    1|     210431|\n",
      "|   227701|     2016-...|<p>Ro...|       2|  55531|    0|     227696|\n",
      "+---------+-------------+--------+--------+-------+-----+-----------+\n",
      "only showing top 5 rows\n",
      "\n"
     ]
    }
   ],
   "source": [
    "answersDF.show(truncate=8, n=5)"
   ]
  },
  {
   "cell_type": "code",
   "execution_count": 44,
   "metadata": {},
   "outputs": [],
   "source": [
    "verticesDF = (\n",
    "    answersDF\n",
    "    .filter(col('user_id').isNotNull())\n",
    "    .select('user_id')\n",
    "    .distinct()\n",
    "    .join(usersDF, 'user_id')\n",
    "    .select(\n",
    "        col('user_id').alias('id'),\n",
    "        col('display_name')\n",
    "    )\n",
    ")"
   ]
  },
  {
   "cell_type": "code",
   "execution_count": 36,
   "metadata": {},
   "outputs": [],
   "source": [
    "edgesDF = (\n",
    "    answersDF.alias('src')\n",
    "    .join(\n",
    "        answersDF.alias('dst'),\n",
    "        'question_id'\n",
    "    )\n",
    "    .select(\n",
    "        col('src.user_id').alias('src'), \n",
    "        col('dst.user_id').alias('dst')\n",
    "    )\n",
    "    .filter(col('src') != col('dst'))\n",
    ")"
   ]
  },
  {
   "cell_type": "code",
   "execution_count": 37,
   "metadata": {},
   "outputs": [
    {
     "data": {
      "text/plain": [
       "3010"
      ]
     },
     "execution_count": 37,
     "metadata": {},
     "output_type": "execute_result"
    }
   ],
   "source": [
    "edgesDF.count()"
   ]
  },
  {
   "cell_type": "code",
   "execution_count": 45,
   "metadata": {},
   "outputs": [
    {
     "data": {
      "text/plain": [
       "4936"
      ]
     },
     "execution_count": 45,
     "metadata": {},
     "output_type": "execute_result"
    }
   ],
   "source": [
    "verticesDF.count()"
   ]
  },
  {
   "cell_type": "code",
   "execution_count": 51,
   "metadata": {},
   "outputs": [],
   "source": [
    "usersGraph = GraphFrame(verticesDF, edgesDF)"
   ]
  },
  {
   "cell_type": "code",
   "execution_count": 47,
   "metadata": {},
   "outputs": [],
   "source": [
    "communities = usersGraph.labelPropagation(5)"
   ]
  },
  {
   "cell_type": "code",
   "execution_count": 49,
   "metadata": {},
   "outputs": [
    {
     "name": "stdout",
     "output_type": "stream",
     "text": [
      "+------+---+\n",
      "| label|cnt|\n",
      "+------+---+\n",
      "|  1492| 45|\n",
      "|  1325| 38|\n",
      "|  4864| 22|\n",
      "|  2451| 18|\n",
      "| 26969| 17|\n",
      "|  4962| 15|\n",
      "|  1236| 14|\n",
      "|104696| 14|\n",
      "|  8563| 13|\n",
      "|   347| 13|\n",
      "|  2525| 12|\n",
      "|   520| 11|\n",
      "|  1186| 11|\n",
      "| 83398| 11|\n",
      "| 26076| 11|\n",
      "|  9887| 11|\n",
      "|   392| 10|\n",
      "|  5477|  9|\n",
      "|    74|  9|\n",
      "|  1257|  9|\n",
      "+------+---+\n",
      "only showing top 20 rows\n",
      "\n"
     ]
    }
   ],
   "source": [
    "(\n",
    "  communities\n",
    "    .groupBy('label')\n",
    "    .agg(count('*').alias('cnt'))\n",
    "    .orderBy(desc('cnt'))\n",
    ").show()"
   ]
  },
  {
   "cell_type": "code",
   "execution_count": 52,
   "metadata": {},
   "outputs": [
    {
     "name": "stdout",
     "output_type": "stream",
     "text": [
      "+------+-------------------+-----+\n",
      "|    id|       display_name|label|\n",
      "+------+-------------------+-----+\n",
      "| 30247|             Martin| 1492|\n",
      "| 18788|              Bzazz| 1492|\n",
      "|180976|         David Shin| 1492|\n",
      "|  3031|           Johannes| 1492|\n",
      "| 42187|               R004| 1492|\n",
      "| 38184|          user38184| 1492|\n",
      "| 70245|               Buzz| 1492|\n",
      "| 38145|        user1231247| 1492|\n",
      "|111938|         Bill Dixon| 1492|\n",
      "|  5070|         ganzewoort| 1492|\n",
      "|  8861|      Mario Enrique| 1492|\n",
      "|164567|                gan| 1492|\n",
      "| 83476| Tamoghna Chowdhury| 1492|\n",
      "| 92077|Former SSC employee| 1492|\n",
      "| 65077|     Frankly Ernest| 1492|\n",
      "|   861|           Mitchell| 1492|\n",
      "| 62770|          Wen Chern| 1492|\n",
      "| 72900|           Name YYY| 1492|\n",
      "|  7993|      Mozibur Ullah| 1492|\n",
      "| 78230|          Jaywalker| 1492|\n",
      "+------+-------------------+-----+\n",
      "only showing top 20 rows\n",
      "\n"
     ]
    }
   ],
   "source": [
    "(\n",
    "  communities\n",
    "  .filter(col(\"label\") == 1492)\n",
    ").show()"
   ]
  },
  {
   "cell_type": "code",
   "execution_count": 31,
   "metadata": {},
   "outputs": [],
   "source": [
    "pr = (\n",
    "   usersGraph.pageRank(tol=0.01)\n",
    " )"
   ]
  },
  {
   "cell_type": "code",
   "execution_count": 32,
   "metadata": {},
   "outputs": [
    {
     "name": "stdout",
     "output_type": "stream",
     "text": [
      "+------+------------------+\n",
      "|    id|          pagerank|\n",
      "+------+------------------+\n",
      "|  1492|52.733122262268814|\n",
      "|  1325| 37.50490707250536|\n",
      "| 26969|27.687848380022732|\n",
      "|  4864|24.958226457283317|\n",
      "|  1236|19.612611237650622|\n",
      "|  9887|18.927662130907382|\n",
      "|  2451|17.789265325719093|\n",
      "|  4962|15.779909176147259|\n",
      "|104696|15.664027346489439|\n",
      "|   124|14.755456827061133|\n",
      "|  8563| 13.66305480430828|\n",
      "|   520|13.619455474457679|\n",
      "|   392|12.757972462486082|\n",
      "|  4552|12.633922259370664|\n",
      "|   347|11.099675147387822|\n",
      "| 44126|10.743275206522132|\n",
      "| 50583|10.662913817552354|\n",
      "| 76162|10.371432035738277|\n",
      "|  1257|10.257251985734136|\n",
      "| 43351|10.112820758425817|\n",
      "+------+------------------+\n",
      "only showing top 20 rows\n",
      "\n"
     ]
    }
   ],
   "source": [
    "(\n",
    "  pr\n",
    "  .vertices\n",
    "  .orderBy(desc('pagerank'))\n",
    ").show()"
   ]
  },
  {
   "cell_type": "code",
   "execution_count": null,
   "metadata": {},
   "outputs": [],
   "source": []
  }
 ],
 "metadata": {
  "kernelspec": {
   "display_name": "Python 3",
   "language": "python",
   "name": "python3"
  },
  "language_info": {
   "codemirror_mode": {
    "name": "ipython",
    "version": 3
   },
   "file_extension": ".py",
   "mimetype": "text/x-python",
   "name": "python",
   "nbconvert_exporter": "python",
   "pygments_lexer": "ipython3",
   "version": "3.6.4"
  }
 },
 "nbformat": 4,
 "nbformat_minor": 2
}
