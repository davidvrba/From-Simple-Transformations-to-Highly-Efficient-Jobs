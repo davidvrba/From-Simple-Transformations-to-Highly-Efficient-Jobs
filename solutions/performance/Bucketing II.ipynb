{
 "cells": [
  {
   "cell_type": "markdown",
   "metadata": {},
   "source": [
    "# Bucketing & Partitioning\n",
    "\n",
    "* see the advantages of these techniques\n",
    "* join users with questions\n",
    " * take questions only for the year 2018\n",
    " * see the query plan"
   ]
  },
  {
   "cell_type": "code",
   "execution_count": null,
   "metadata": {},
   "outputs": [],
   "source": [
    "import pyspark\n",
    "from pyspark.sql import SparkSession\n",
    "from pyspark.sql.functions import col, desc\n",
    "\n",
    "import os"
   ]
  },
  {
   "cell_type": "code",
   "execution_count": null,
   "metadata": {},
   "outputs": [],
   "source": [
    "spark = (\n",
    "    SparkSession\n",
    "    .builder\n",
    "    .appName('Bucketing II')\n",
    "    .enableHiveSupport()\n",
    "    .getOrCreate()\n",
    ")"
   ]
  },
  {
   "cell_type": "code",
   "execution_count": null,
   "metadata": {},
   "outputs": [],
   "source": [
    "base_path = os.getcwd()\n",
    "\n",
    "project_path = ('/').join(base_path.split('/')[0:-2]) \n",
    "\n",
    "questions_input_path = os.path.join(project_path, 'output/1/questions-partitioned')\n",
    "\n",
    "users_input_path = os.path.join(project_path, 'output/users-bucketed')"
   ]
  },
  {
   "cell_type": "code",
   "execution_count": null,
   "metadata": {},
   "outputs": [],
   "source": [
    "spark.sql(\"show tables\").show()"
   ]
  },
  {
   "cell_type": "code",
   "execution_count": null,
   "metadata": {},
   "outputs": [],
   "source": [
    "usersDF = spark.table('users')\n",
    "\n",
    "questionsDF = (\n",
    "    spark\n",
    "    .read\n",
    "    .option('path', questions_input_path)\n",
    "    .load()\n",
    ")"
   ]
  },
  {
   "cell_type": "code",
   "execution_count": null,
   "metadata": {},
   "outputs": [],
   "source": [
    "usersDF.orderBy(desc('user_id')).show(1000)"
   ]
  },
  {
   "cell_type": "code",
   "execution_count": 29,
   "metadata": {},
   "outputs": [
    {
     "name": "stdout",
     "output_type": "stream",
     "text": [
      "+-------+----+\n",
      "|user_id|year|\n",
      "+-------+----+\n",
      "| 141043|2018|\n",
      "| 191690|2018|\n",
      "|  72902|2018|\n",
      "| 185735|2018|\n",
      "| 194818|2018|\n",
      "|   7993|2018|\n",
      "| 183723|2018|\n",
      "| 212112|2018|\n",
      "| 140589|2018|\n",
      "|  32023|2018|\n",
      "| 193100|2018|\n",
      "| 164488|2018|\n",
      "|  74640|2018|\n",
      "| 193726|2018|\n",
      "| 197142|2018|\n",
      "| 191306|2018|\n",
      "| 196333|2018|\n",
      "| 180965|2018|\n",
      "| 196860|2018|\n",
      "| 186007|2018|\n",
      "+-------+----+\n",
      "only showing top 20 rows\n",
      "\n"
     ]
    }
   ],
   "source": [
    "(\n",
    "    questionsDF\n",
    "    .filter(col('year').isin([2018, 2017, 2016]))\n",
    "    .repartition(10, 'user_id')\n",
    "    .join(usersDF, 'user_id')\n",
    "    #.filter(col('user_id') == 74)\n",
    "    .select('user_id', 'year')\n",
    "    #.orderBy('user_id')\n",
    ").show()"
   ]
  },
  {
   "cell_type": "code",
   "execution_count": null,
   "metadata": {},
   "outputs": [],
   "source": []
  }
 ],
 "metadata": {
  "kernelspec": {
   "display_name": "Python 3",
   "language": "python",
   "name": "python3"
  },
  "language_info": {
   "codemirror_mode": {
    "name": "ipython",
    "version": 3
   },
   "file_extension": ".py",
   "mimetype": "text/x-python",
   "name": "python",
   "nbconvert_exporter": "python",
   "pygments_lexer": "ipython3",
   "version": "3.6.4"
  }
 },
 "nbformat": 4,
 "nbformat_minor": 2
}
