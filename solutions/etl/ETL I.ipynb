{
 "cells": [
  {
   "cell_type": "markdown",
   "metadata": {},
   "source": [
    "# ETL notebook\n",
    "\n",
    "* load json dataset\n",
    "* look at the infered schema\n",
    "* define the schema explicitely\n",
    "* convert column tags to array of tags using\n",
    " * split\n",
    " * explode\n",
    " * regexp_replace\n",
    " * groupBy + collect_list\n",
    " * join"
   ]
  },
  {
   "cell_type": "code",
   "execution_count": 34,
   "metadata": {},
   "outputs": [],
   "source": [
    "import findspark\n",
    "findspark.init()"
   ]
  },
  {
   "cell_type": "code",
   "execution_count": 35,
   "metadata": {},
   "outputs": [],
   "source": [
    "import pyspark\n",
    "from pyspark.sql import SparkSession\n",
    "from pyspark.sql.functions import col, desc, count, explode, split, regexp_replace, collect_list\n",
    "\n",
    "from pyspark.sql.types import StructType, StructField, StringType, LongType, TimestampType\n",
    "\n",
    "import os"
   ]
  },
  {
   "cell_type": "code",
   "execution_count": 36,
   "metadata": {},
   "outputs": [],
   "source": [
    "spark = (\n",
    "    SparkSession\n",
    "    .builder\n",
    "    .appName('ETL I')\n",
    "    .getOrCreate()\n",
    ")"
   ]
  },
  {
   "cell_type": "code",
   "execution_count": 37,
   "metadata": {},
   "outputs": [],
   "source": [
    "base_path = os.getcwd()\n",
    "\n",
    "project_path = ('/').join(base_path.split('/')[0:-2]) \n",
    "\n",
    "data_input_path = os.path.join(project_path, 'data/questions-json')\n",
    "\n",
    "output_path = os.path.join(project_path, 'output/questions-transformed')"
   ]
  },
  {
   "cell_type": "markdown",
   "metadata": {},
   "source": [
    "First let Spark infer the schema:"
   ]
  },
  {
   "cell_type": "code",
   "execution_count": 38,
   "metadata": {},
   "outputs": [],
   "source": [
    "questionsDF = (\n",
    "    spark\n",
    "    .read\n",
    "    .format('json')\n",
    "    .option('path', data_input_path)\n",
    "    .load()\n",
    ")"
   ]
  },
  {
   "cell_type": "code",
   "execution_count": 39,
   "metadata": {},
   "outputs": [
    {
     "name": "stdout",
     "output_type": "stream",
     "text": [
      "root\n",
      " |-- accepted_answer_id: long (nullable = true)\n",
      " |-- answers: long (nullable = true)\n",
      " |-- body: string (nullable = true)\n",
      " |-- comments: long (nullable = true)\n",
      " |-- creation_date: string (nullable = true)\n",
      " |-- question_id: long (nullable = true)\n",
      " |-- score: long (nullable = true)\n",
      " |-- tags: string (nullable = true)\n",
      " |-- title: string (nullable = true)\n",
      " |-- user_id: long (nullable = true)\n",
      " |-- views: long (nullable = true)\n",
      "\n"
     ]
    }
   ],
   "source": [
    "questionsDF.printSchema()"
   ]
  },
  {
   "cell_type": "markdown",
   "metadata": {},
   "source": [
    "Now define the schema:"
   ]
  },
  {
   "cell_type": "code",
   "execution_count": 40,
   "metadata": {},
   "outputs": [],
   "source": [
    "json_schema = StructType(\n",
    "    [\n",
    "        StructField('question_id', LongType(), True),\n",
    "        StructField('creation_date', TimestampType(), True),\n",
    "        StructField('title', StringType(), True),\n",
    "        StructField('body', StringType(), True),\n",
    "        StructField('tags', StringType(), True),\n",
    "        StructField('accepted_answer_id', LongType(), True),\n",
    "        StructField('answers', LongType(), True),\n",
    "        StructField('comments', LongType(), True),\n",
    "        StructField('user_id', LongType(), True),\n",
    "        StructField('views', LongType(), True),\n",
    "    ]\n",
    ")"
   ]
  },
  {
   "cell_type": "code",
   "execution_count": 41,
   "metadata": {},
   "outputs": [],
   "source": [
    "questionsDF = (\n",
    "    spark\n",
    "    .read\n",
    "    .format('json')\n",
    "    .schema(json_schema)\n",
    "    .option('path', data_input_path)\n",
    "    .load()\n",
    ")"
   ]
  },
  {
   "cell_type": "code",
   "execution_count": 42,
   "metadata": {},
   "outputs": [
    {
     "name": "stdout",
     "output_type": "stream",
     "text": [
      "+-----------+-------------+-----+-----+-----+------------------+-------+--------+-------+-----+\n",
      "|question_id|creation_date|title| body| tags|accepted_answer_id|answers|comments|user_id|views|\n",
      "+-----------+-------------+-----+-----+-----+------------------+-------+--------+-------+-----+\n",
      "|      24...|        20...|Re...|<p...|<s...|              null|      1|       5|  11...|   90|\n",
      "|      21...|        20...|Wh...|<p...|<e...|              null|      2|       5|  40394|   76|\n",
      "|      59458|        20...|Do...|<p...|<e...|              null|      1|      12|  20629|  753|\n",
      "|      86252|        20...|Wh...|<p...|<e...|              null|      2|       0|  33579| 2365|\n",
      "|      40...|        20...|Ho...|<b...|<h...|             40...|      2|       0|  18...|   45|\n",
      "|      21...|        20...|Sc...|<p...|<e...|              null|      0|       3|  60176|   70|\n",
      "|      93196|        20...|In...|<p...|<h...|              null|      0|       4|  37167|  101|\n",
      "|       9945|        20...|Ar...|<p...|<m...|              9951|      3|       0|   3460|  774|\n",
      "|      24...|        20...|Nu...|<p...|<s...|              null|      1|       0|  57770|  403|\n",
      "|      39...|        20...|Fe...|<p...|<q...|             39...|      2|       5|  92708|  422|\n",
      "|      31...|        20...|Is...|<p...|<s...|              null|      1|       0|  13...|   48|\n",
      "|      21...|        20...|Ac...|<p...|<c...|              null|      0|       2|   7785|   40|\n",
      "|      60649|        20...|Fi...|<p...|<h...|             60697|      1|       3|   null|  458|\n",
      "|      95909|        20...|Ma...|<p...|<e...|             95945|      3|       0|  25407|15303|\n",
      "|      78437|        20...|In...|<p...|<h...|              null|      0|       5|  12615|  390|\n",
      "|      73225|        20...|Is...|<p...|<p...|             73229|      2|       7|  27862| 1636|\n",
      "|      92450|        20...|Ca...|<u...|<q...|              null|      1|       2|  29762|10227|\n",
      "|      23154|        20...|Ho...|<p...|<m...|             23158|      7|       1|   8262|30610|\n",
      "|      95446|        20...|Wh...|<p...|<t...|              null|      1|       4|  38277|  386|\n",
      "|      42...|        20...|Ar...|<p...|<q...|              null|      0|       0|  16...|   11|\n",
      "+-----------+-------------+-----+-----+-----+------------------+-------+--------+-------+-----+\n",
      "only showing top 20 rows\n",
      "\n"
     ]
    }
   ],
   "source": [
    "questionsDF.show(truncate=5)"
   ]
  },
  {
   "cell_type": "markdown",
   "metadata": {},
   "source": [
    "Convert tags to an array\n",
    "\n",
    "Hint\n",
    "* use split to get an array\n",
    "* explode the array\n",
    "* use regexp_replace"
   ]
  },
  {
   "cell_type": "code",
   "execution_count": 43,
   "metadata": {},
   "outputs": [],
   "source": [
    "result = (\n",
    "    questionsDF\n",
    "    .withColumn('tags_arr', split('tags', '><'))\n",
    "    .withColumn('tag', explode('tags_arr'))\n",
    "    .withColumn('tag', regexp_replace('tag', '(<|>)', ''))\n",
    "    .groupBy('question_id')\n",
    "    .agg(collect_list('tag').alias('tags'))\n",
    "    .join(questionsDF.drop('tags'), 'question_id')\n",
    ")"
   ]
  },
  {
   "cell_type": "code",
   "execution_count": 44,
   "metadata": {},
   "outputs": [],
   "source": [
    "(\n",
    "    result\n",
    "    .repartition(4)\n",
    "    .write\n",
    "    .mode('overwrite')\n",
    "    .option('path', output_path)\n",
    "    .save()\n",
    ")"
   ]
  }
 ],
 "metadata": {
  "kernelspec": {
   "display_name": "Python 3",
   "language": "python",
   "name": "python3"
  },
  "language_info": {
   "codemirror_mode": {
    "name": "ipython",
    "version": 3
   },
   "file_extension": ".py",
   "mimetype": "text/x-python",
   "name": "python",
   "nbconvert_exporter": "python",
   "pygments_lexer": "ipython3",
   "version": "3.6.4"
  }
 },
 "nbformat": 4,
 "nbformat_minor": 2
}
