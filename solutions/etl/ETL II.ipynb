{
 "cells": [
  {
   "cell_type": "code",
   "execution_count": null,
   "metadata": {},
   "outputs": [],
   "source": [
    "import findspark\n",
    "findspark.init()"
   ]
  },
  {
   "cell_type": "code",
   "execution_count": null,
   "metadata": {},
   "outputs": [],
   "source": [
    "import pyspark\n",
    "from pyspark.sql import SparkSession\n",
    "from pyspark.sql.functions import (\n",
    "    col, when, year, size, split\n",
    ")\n",
    "\n",
    "import os"
   ]
  },
  {
   "cell_type": "code",
   "execution_count": null,
   "metadata": {},
   "outputs": [],
   "source": [
    "spark = (\n",
    "    SparkSession\n",
    "    .builder\n",
    "    .appName('ETL II')\n",
    "    .getOrCreate()\n",
    ")"
   ]
  },
  {
   "cell_type": "markdown",
   "metadata": {},
   "source": [
    "# Task\n",
    "\n",
    "* take dataset with questions\n",
    "* add a new col 'long_title' which is of BooleanType and it is True if the 'title' has more than 5 words\n",
    "* add a new col 'created_year' which is the year in which the question was created\n",
    "* add a new col 'recent_question' which is of BooleanType and it is True if the question was created in 2016 or later\n",
    "* filter only records that have long title and have accepted_answer_id or records that are recent\n",
    "* save the result as CSV with following columns (question_id, title, created_year, accepted_answer_id)"
   ]
  },
  {
   "cell_type": "code",
   "execution_count": null,
   "metadata": {},
   "outputs": [],
   "source": [
    "base_path = os.getcwd()\n",
    "\n",
    "project_path = ('/').join(base_path.split('/')[0:-2]) \n",
    "\n",
    "data_input_path = os.path.join(project_path, 'output/questions-transformed')"
   ]
  },
  {
   "cell_type": "code",
   "execution_count": null,
   "metadata": {},
   "outputs": [],
   "source": [
    "questionsDF = (\n",
    "    spark\n",
    "    .read\n",
    "    .option('path', data_input_path)\n",
    "    .load()\n",
    ")"
   ]
  },
  {
   "cell_type": "code",
   "execution_count": null,
   "metadata": {},
   "outputs": [],
   "source": [
    "resultDF = (\n",
    "    questionsDF\n",
    "    .select(\n",
    "        'question_id',\n",
    "        'title',\n",
    "        'creation_date',\n",
    "        'accepted_answer_id'\n",
    "    )\n",
    "    .withColumn('created_year', year('creation_date'))\n",
    "    .withColumn('title_words', split('title', ' '))\n",
    "    .withColumn('title_size', size('title_words'))\n",
    "    .withColumn('long_title', when(col('title_size') > 4, True).otherwise(False) )\n",
    "    .select(\n",
    "        'question_id',\n",
    "        'title',\n",
    "        'created_year',\n",
    "        'long_title',\n",
    "        'accepted_answer_id'\n",
    "    )\n",
    "    .filter((col('created_year') > 2015) | (col('accepted_answer_id').isNotNull() & col('long_title')))\n",
    "    .drop('long_title')\n",
    ")"
   ]
  },
  {
   "cell_type": "code",
   "execution_count": null,
   "metadata": {},
   "outputs": [],
   "source": [
    "resultDF.show()"
   ]
  }
 ],
 "metadata": {
  "kernelspec": {
   "display_name": "Python 3",
   "language": "python",
   "name": "python3"
  },
  "language_info": {
   "codemirror_mode": {
    "name": "ipython",
    "version": 3
   },
   "file_extension": ".py",
   "mimetype": "text/x-python",
   "name": "python",
   "nbconvert_exporter": "python",
   "pygments_lexer": "ipython3",
   "version": "3.6.4"
  }
 },
 "nbformat": 4,
 "nbformat_minor": 2
}
